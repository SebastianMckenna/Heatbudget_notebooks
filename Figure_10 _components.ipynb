{
 "cells": [
  {
   "cell_type": "code",
   "execution_count": 1,
   "metadata": {},
   "outputs": [],
   "source": [
    "#import packages\n",
    "import xarray as xr\n",
    "import dask\n",
    "import matplotlib.pyplot as plt\n",
    "import numpy as np\n",
    "import os\n",
    "\n",
    "\n",
    "import matplotlib as mpl\n",
    "import scipy\n",
    "import glob as glob\n",
    "import cartopy.crs as ccrs\n",
    "import cartopy.feature as cfeature\n",
    "import calendar\n",
    "import xskillscore as xs\n",
    "from scipy.stats import iqr\n",
    "import functools as ft\n",
    "import cartopy.crs as ccrs\n",
    "import matplotlib.patches as patches\n",
    "from shapely import geometry\n",
    "plt.rcParams['font.size'] = 14\n"
   ]
  },
  {
   "cell_type": "code",
   "execution_count": 11,
   "metadata": {},
   "outputs": [],
   "source": [
    "#load in wind"
   ]
  },
  {
   "cell_type": "code",
   "execution_count": 12,
   "metadata": {},
   "outputs": [
    {
     "name": "stdout",
     "output_type": "stream",
     "text": [
      "[Errno 2] No such file or directory: b'/home/z5113258/Documents/data/CMIP6_HB_new/not_full/not_full_tauu.nc'\n",
      "[Errno 2] No such file or directory: b'/home/z5113258/Documents/data/CMIP6_HB_new/not_full/not_full_tauv.nc'\n"
     ]
    }
   ],
   "source": [
    "datadir = '/home/z5113258/Documents/data/CMIP6_HB_new/'\n",
    "#dict with file names\n",
    "varis = {'tx':'_tauu.nc', 'ty':'_tauv.nc'}\n",
    "models={}\n",
    "#get all data for temp tendency\n",
    "for model in os.listdir(datadir):\n",
    "    #go thorugh all varis\n",
    "    if model in ['NESM3']:\n",
    "        pass\n",
    "    else:\n",
    "        mod={}\n",
    "        for key in varis.keys():\n",
    "            #input file\n",
    "            inp_files = (os.path.join(datadir, model, str(model+varis[key])))\n",
    "            try:\n",
    "                #load in file\n",
    "                var = xr.open_dataarray(inp_files)\n",
    "                #put into dict\n",
    "                mod[key]=var\n",
    "            except Exception as e:\n",
    "                print(e)\n",
    "                pass\n",
    "        #now append data to model dict\n",
    "        models[model] = mod\n",
    "del models[\"not_full\"]"
   ]
  },
  {
   "cell_type": "code",
   "execution_count": 13,
   "metadata": {},
   "outputs": [],
   "source": [
    "for i, mod in enumerate(models.keys()):\n",
    "    tauu = models[mod]['tx']\n",
    "    tauu = tauu.assign_coords({\"model\":i})\n",
    "    if i == 0:\n",
    "        tauum = tauu\n",
    "    else:\n",
    "        tauum = xr.concat([tauum, tauu], dim = 'model')\n",
    "for i, mod in enumerate(models.keys()):\n",
    "    tauv = models[mod]['ty']\n",
    "    tauv = tauv.assign_coords({\"model\":i})\n",
    "    if i == 0:\n",
    "        tauvm = tauv\n",
    "    else:\n",
    "        tauvm = xr.concat([tauvm, tauv], dim = 'model')"
   ]
  },
  {
   "cell_type": "code",
   "execution_count": 14,
   "metadata": {},
   "outputs": [],
   "source": [
    "tauuMM = tauum.median('model')\n",
    "tauvMM = tauvm.median('model')"
   ]
  },
  {
   "cell_type": "code",
   "execution_count": 15,
   "metadata": {},
   "outputs": [
    {
     "name": "stdout",
     "output_type": "stream",
     "text": [
      "[Errno 2] No such file or directory: b'/home/z5113258/Documents/data/REAN_HB/OAFLUX/OAFLUX_tauu.nc'\n",
      "[Errno 2] No such file or directory: b'/home/z5113258/Documents/data/REAN_HB/OAFLUX/OAFLUX_tauv.nc'\n",
      "[Errno 2] No such file or directory: b'/home/z5113258/Documents/data/REAN_HB/ORAS5/ORAS5_tauu.nc'\n",
      "[Errno 2] No such file or directory: b'/home/z5113258/Documents/data/REAN_HB/ORAS5/ORAS5_tauv.nc'\n",
      "[Errno 2] No such file or directory: b'/home/z5113258/Documents/data/REAN_HB/ARGO/ARGO_tauu.nc'\n",
      "[Errno 2] No such file or directory: b'/home/z5113258/Documents/data/REAN_HB/ARGO/ARGO_tauv.nc'\n"
     ]
    }
   ],
   "source": [
    "datadir = '/home/z5113258/Documents/data/REAN_HB/'\n",
    "#dict with file names\n",
    "varis = {'tx':'_tauu.nc', 'ty':'_tauv.nc'}\n",
    "obs={}\n",
    "#get all data for temp tendency\n",
    "for model in os.listdir(datadir):\n",
    "    #go thorugh all varis\n",
    "    mod={}\n",
    "    for key in varis.keys():\n",
    "        #input file\n",
    "        inp_files = (os.path.join(datadir, model, str(model+varis[key])))\n",
    "        try:\n",
    "            #load in file\n",
    "            var = xr.open_dataarray(inp_files)\n",
    "            #put into dict\n",
    "            mod[key]=var\n",
    "            #now append data to model dict\n",
    "            obs[model] = mod\n",
    "        except Exception as e:\n",
    "            print(e)\n",
    "            pass\n",
    "\n",
    "\n"
   ]
  },
  {
   "cell_type": "code",
   "execution_count": 17,
   "metadata": {},
   "outputs": [],
   "source": [
    "#era5 wind stress\n",
    "E5x = obs['ERA5']['tx']\n",
    "E5y = obs['ERA5']['ty']"
   ]
  },
  {
   "cell_type": "code",
   "execution_count": 18,
   "metadata": {},
   "outputs": [],
   "source": [
    "XB = tauuMM - E5x\n",
    "YB = tauvMM - E5y"
   ]
  },
  {
   "cell_type": "code",
   "execution_count": 20,
   "metadata": {},
   "outputs": [],
   "source": [
    "#make the wind bias quivers colors smaller\n",
    "XBM = XB.sel(lat=slice(-30, 30),lon=slice(30, 130))\n",
    "YBM = YB.sel(lat=slice(-30, 30),lon=slice(30, 130))"
   ]
  },
  {
   "cell_type": "code",
   "execution_count": null,
   "metadata": {},
   "outputs": [],
   "source": []
  },
  {
   "cell_type": "code",
   "execution_count": 2,
   "metadata": {},
   "outputs": [
    {
     "name": "stdout",
     "output_type": "stream",
     "text": [
      "Error.  [Errno 2] No such file or directory: b'/home/z5113258/Documents/data/CMIP6_HB_new/not_full/not_full_tos.nc'\n"
     ]
    }
   ],
   "source": [
    "datadir = '/home/z5113258/Documents/data/CMIP6_HB_new/'\n",
    "#dict with file names\n",
    "varis = {'SST':'_tos.nc'}\n",
    "SST_D={}\n",
    "#get all data for temp tendency\n",
    "for model in os.listdir(datadir):\n",
    "    #go thorugh all varis\n",
    "    if model in ['NESM3']:\n",
    "        pass\n",
    "    else:\n",
    "        #input file\n",
    "        inp_files = (os.path.join(datadir, model, str(model+\"_tos.nc\")))\n",
    "        try:\n",
    "            #load in file\n",
    "            var = xr.open_dataarray(inp_files)\n",
    "            #now append data to model dict\n",
    "            SST_D[model] = var\n",
    "        except Exception as e:\n",
    "            print(\"Error. \", e)\n",
    "            pass"
   ]
  },
  {
   "cell_type": "code",
   "execution_count": 3,
   "metadata": {},
   "outputs": [],
   "source": [
    "#now get models timeseries\n",
    "for i, model in enumerate(SST_D.keys()):\n",
    "    try:    \n",
    "        sst = SST_D[model]\n",
    "        #now turn into an array\n",
    "        if i == 0:\n",
    "            SSTM = sst\n",
    "        else:\n",
    "            SSTM = xr.concat([SSTM, sst], dim = 'model')\n",
    "    except Exception as e:\n",
    "            print(\"something went wrong, here is the error code\", e)"
   ]
  },
  {
   "cell_type": "code",
   "execution_count": 4,
   "metadata": {},
   "outputs": [],
   "source": [
    "#load in SST to compare to\n",
    "OSST = xr.open_mfdataset('/home/z5113258/Documents/data/NOAA_OISSTv2.nc', parallel=True).sst\n",
    "LSM = xr.open_dataset('/home/z5113258/Documents/data/LSM.nc').mask\n",
    "OSST= OSST.where(LSM[0])\n",
    "OSST = OSST.groupby('time.month').mean('time').sel(lat=slice(-40,30),lon=slice(30,125))"
   ]
  },
  {
   "cell_type": "code",
   "execution_count": 5,
   "metadata": {},
   "outputs": [],
   "source": [
    "#calculate bias and the significance levels\n",
    "SSTB = SSTM - OSST\n",
    "#find cells where pos and negative\n",
    "SSTB_pos = xr.where(SSTB>0, 1,0)\n",
    "SSTB_neg = xr.where(SSTB<0, 1,0)\n",
    "#get where majority of cells agree on sign, ie, at least 15/20\n",
    "SSTB_pos_ = SSTB_pos.sum('model')\n",
    "pos = xr.where(SSTB_pos_ >= 15, 1, 0)\n",
    "\n",
    "SSTB_neg_ = SSTB_neg.sum('model')\n",
    "neg = xr.where(SSTB_neg_ >= 15, 1, 0)\n",
    "sigbias = xr.where((pos+neg)==1, 1, np.nan)"
   ]
  },
  {
   "cell_type": "code",
   "execution_count": 6,
   "metadata": {},
   "outputs": [
    {
     "name": "stderr",
     "output_type": "stream",
     "text": [
      "/home/z5113258/anaconda3/lib/python3.8/site-packages/dask/array/numpy_compat.py:41: RuntimeWarning: invalid value encountered in true_divide\n",
      "  x = np.divide(x1, x2, out)\n",
      "/home/z5113258/anaconda3/lib/python3.8/site-packages/numpy/lib/nanfunctions.py:1113: RuntimeWarning: All-NaN slice encountered\n",
      "  r, k = function_base._ureduce(a, func=_nanmedian, axis=axis, out=out,\n"
     ]
    }
   ],
   "source": [
    "#make a land sea mask\n",
    "SEA = SSTB.mean('month').median('model')\n",
    "SEA1 = SEA.fillna(-99)\n",
    "LSM = SEA1.where(SEA1==-99, drop=True)"
   ]
  },
  {
   "cell_type": "code",
   "execution_count": 7,
   "metadata": {},
   "outputs": [],
   "source": [
    "SSTB = SSTB.where(sigbias == 1, 0)"
   ]
  },
  {
   "cell_type": "code",
   "execution_count": 8,
   "metadata": {},
   "outputs": [
    {
     "data": {
      "text/html": [
       "<div><svg style=\"position: absolute; width: 0; height: 0; overflow: hidden\">\n",
       "<defs>\n",
       "<symbol id=\"icon-database\" viewBox=\"0 0 32 32\">\n",
       "<path d=\"M16 0c-8.837 0-16 2.239-16 5v4c0 2.761 7.163 5 16 5s16-2.239 16-5v-4c0-2.761-7.163-5-16-5z\"></path>\n",
       "<path d=\"M16 17c-8.837 0-16-2.239-16-5v6c0 2.761 7.163 5 16 5s16-2.239 16-5v-6c0 2.761-7.163 5-16 5z\"></path>\n",
       "<path d=\"M16 26c-8.837 0-16-2.239-16-5v6c0 2.761 7.163 5 16 5s16-2.239 16-5v-6c0 2.761-7.163 5-16 5z\"></path>\n",
       "</symbol>\n",
       "<symbol id=\"icon-file-text2\" viewBox=\"0 0 32 32\">\n",
       "<path d=\"M28.681 7.159c-0.694-0.947-1.662-2.053-2.724-3.116s-2.169-2.030-3.116-2.724c-1.612-1.182-2.393-1.319-2.841-1.319h-15.5c-1.378 0-2.5 1.121-2.5 2.5v27c0 1.378 1.122 2.5 2.5 2.5h23c1.378 0 2.5-1.122 2.5-2.5v-19.5c0-0.448-0.137-1.23-1.319-2.841zM24.543 5.457c0.959 0.959 1.712 1.825 2.268 2.543h-4.811v-4.811c0.718 0.556 1.584 1.309 2.543 2.268zM28 29.5c0 0.271-0.229 0.5-0.5 0.5h-23c-0.271 0-0.5-0.229-0.5-0.5v-27c0-0.271 0.229-0.5 0.5-0.5 0 0 15.499-0 15.5 0v7c0 0.552 0.448 1 1 1h7v19.5z\"></path>\n",
       "<path d=\"M23 26h-14c-0.552 0-1-0.448-1-1s0.448-1 1-1h14c0.552 0 1 0.448 1 1s-0.448 1-1 1z\"></path>\n",
       "<path d=\"M23 22h-14c-0.552 0-1-0.448-1-1s0.448-1 1-1h14c0.552 0 1 0.448 1 1s-0.448 1-1 1z\"></path>\n",
       "<path d=\"M23 18h-14c-0.552 0-1-0.448-1-1s0.448-1 1-1h14c0.552 0 1 0.448 1 1s-0.448 1-1 1z\"></path>\n",
       "</symbol>\n",
       "</defs>\n",
       "</svg>\n",
       "<style>/* CSS stylesheet for displaying xarray objects in jupyterlab.\n",
       " *\n",
       " */\n",
       "\n",
       ":root {\n",
       "  --xr-font-color0: var(--jp-content-font-color0, rgba(0, 0, 0, 1));\n",
       "  --xr-font-color2: var(--jp-content-font-color2, rgba(0, 0, 0, 0.54));\n",
       "  --xr-font-color3: var(--jp-content-font-color3, rgba(0, 0, 0, 0.38));\n",
       "  --xr-border-color: var(--jp-border-color2, #e0e0e0);\n",
       "  --xr-disabled-color: var(--jp-layout-color3, #bdbdbd);\n",
       "  --xr-background-color: var(--jp-layout-color0, white);\n",
       "  --xr-background-color-row-even: var(--jp-layout-color1, white);\n",
       "  --xr-background-color-row-odd: var(--jp-layout-color2, #eeeeee);\n",
       "}\n",
       "\n",
       "html[theme=dark],\n",
       "body.vscode-dark {\n",
       "  --xr-font-color0: rgba(255, 255, 255, 1);\n",
       "  --xr-font-color2: rgba(255, 255, 255, 0.54);\n",
       "  --xr-font-color3: rgba(255, 255, 255, 0.38);\n",
       "  --xr-border-color: #1F1F1F;\n",
       "  --xr-disabled-color: #515151;\n",
       "  --xr-background-color: #111111;\n",
       "  --xr-background-color-row-even: #111111;\n",
       "  --xr-background-color-row-odd: #313131;\n",
       "}\n",
       "\n",
       ".xr-wrap {\n",
       "  display: block;\n",
       "  min-width: 300px;\n",
       "  max-width: 700px;\n",
       "}\n",
       "\n",
       ".xr-text-repr-fallback {\n",
       "  /* fallback to plain text repr when CSS is not injected (untrusted notebook) */\n",
       "  display: none;\n",
       "}\n",
       "\n",
       ".xr-header {\n",
       "  padding-top: 6px;\n",
       "  padding-bottom: 6px;\n",
       "  margin-bottom: 4px;\n",
       "  border-bottom: solid 1px var(--xr-border-color);\n",
       "}\n",
       "\n",
       ".xr-header > div,\n",
       ".xr-header > ul {\n",
       "  display: inline;\n",
       "  margin-top: 0;\n",
       "  margin-bottom: 0;\n",
       "}\n",
       "\n",
       ".xr-obj-type,\n",
       ".xr-array-name {\n",
       "  margin-left: 2px;\n",
       "  margin-right: 10px;\n",
       "}\n",
       "\n",
       ".xr-obj-type {\n",
       "  color: var(--xr-font-color2);\n",
       "}\n",
       "\n",
       ".xr-sections {\n",
       "  padding-left: 0 !important;\n",
       "  display: grid;\n",
       "  grid-template-columns: 150px auto auto 1fr 20px 20px;\n",
       "}\n",
       "\n",
       ".xr-section-item {\n",
       "  display: contents;\n",
       "}\n",
       "\n",
       ".xr-section-item input {\n",
       "  display: none;\n",
       "}\n",
       "\n",
       ".xr-section-item input + label {\n",
       "  color: var(--xr-disabled-color);\n",
       "}\n",
       "\n",
       ".xr-section-item input:enabled + label {\n",
       "  cursor: pointer;\n",
       "  color: var(--xr-font-color2);\n",
       "}\n",
       "\n",
       ".xr-section-item input:enabled + label:hover {\n",
       "  color: var(--xr-font-color0);\n",
       "}\n",
       "\n",
       ".xr-section-summary {\n",
       "  grid-column: 1;\n",
       "  color: var(--xr-font-color2);\n",
       "  font-weight: 500;\n",
       "}\n",
       "\n",
       ".xr-section-summary > span {\n",
       "  display: inline-block;\n",
       "  padding-left: 0.5em;\n",
       "}\n",
       "\n",
       ".xr-section-summary-in:disabled + label {\n",
       "  color: var(--xr-font-color2);\n",
       "}\n",
       "\n",
       ".xr-section-summary-in + label:before {\n",
       "  display: inline-block;\n",
       "  content: '►';\n",
       "  font-size: 11px;\n",
       "  width: 15px;\n",
       "  text-align: center;\n",
       "}\n",
       "\n",
       ".xr-section-summary-in:disabled + label:before {\n",
       "  color: var(--xr-disabled-color);\n",
       "}\n",
       "\n",
       ".xr-section-summary-in:checked + label:before {\n",
       "  content: '▼';\n",
       "}\n",
       "\n",
       ".xr-section-summary-in:checked + label > span {\n",
       "  display: none;\n",
       "}\n",
       "\n",
       ".xr-section-summary,\n",
       ".xr-section-inline-details {\n",
       "  padding-top: 4px;\n",
       "  padding-bottom: 4px;\n",
       "}\n",
       "\n",
       ".xr-section-inline-details {\n",
       "  grid-column: 2 / -1;\n",
       "}\n",
       "\n",
       ".xr-section-details {\n",
       "  display: none;\n",
       "  grid-column: 1 / -1;\n",
       "  margin-bottom: 5px;\n",
       "}\n",
       "\n",
       ".xr-section-summary-in:checked ~ .xr-section-details {\n",
       "  display: contents;\n",
       "}\n",
       "\n",
       ".xr-array-wrap {\n",
       "  grid-column: 1 / -1;\n",
       "  display: grid;\n",
       "  grid-template-columns: 20px auto;\n",
       "}\n",
       "\n",
       ".xr-array-wrap > label {\n",
       "  grid-column: 1;\n",
       "  vertical-align: top;\n",
       "}\n",
       "\n",
       ".xr-preview {\n",
       "  color: var(--xr-font-color3);\n",
       "}\n",
       "\n",
       ".xr-array-preview,\n",
       ".xr-array-data {\n",
       "  padding: 0 5px !important;\n",
       "  grid-column: 2;\n",
       "}\n",
       "\n",
       ".xr-array-data,\n",
       ".xr-array-in:checked ~ .xr-array-preview {\n",
       "  display: none;\n",
       "}\n",
       "\n",
       ".xr-array-in:checked ~ .xr-array-data,\n",
       ".xr-array-preview {\n",
       "  display: inline-block;\n",
       "}\n",
       "\n",
       ".xr-dim-list {\n",
       "  display: inline-block !important;\n",
       "  list-style: none;\n",
       "  padding: 0 !important;\n",
       "  margin: 0;\n",
       "}\n",
       "\n",
       ".xr-dim-list li {\n",
       "  display: inline-block;\n",
       "  padding: 0;\n",
       "  margin: 0;\n",
       "}\n",
       "\n",
       ".xr-dim-list:before {\n",
       "  content: '(';\n",
       "}\n",
       "\n",
       ".xr-dim-list:after {\n",
       "  content: ')';\n",
       "}\n",
       "\n",
       ".xr-dim-list li:not(:last-child):after {\n",
       "  content: ',';\n",
       "  padding-right: 5px;\n",
       "}\n",
       "\n",
       ".xr-has-index {\n",
       "  font-weight: bold;\n",
       "}\n",
       "\n",
       ".xr-var-list,\n",
       ".xr-var-item {\n",
       "  display: contents;\n",
       "}\n",
       "\n",
       ".xr-var-item > div,\n",
       ".xr-var-item label,\n",
       ".xr-var-item > .xr-var-name span {\n",
       "  background-color: var(--xr-background-color-row-even);\n",
       "  margin-bottom: 0;\n",
       "}\n",
       "\n",
       ".xr-var-item > .xr-var-name:hover span {\n",
       "  padding-right: 5px;\n",
       "}\n",
       "\n",
       ".xr-var-list > li:nth-child(odd) > div,\n",
       ".xr-var-list > li:nth-child(odd) > label,\n",
       ".xr-var-list > li:nth-child(odd) > .xr-var-name span {\n",
       "  background-color: var(--xr-background-color-row-odd);\n",
       "}\n",
       "\n",
       ".xr-var-name {\n",
       "  grid-column: 1;\n",
       "}\n",
       "\n",
       ".xr-var-dims {\n",
       "  grid-column: 2;\n",
       "}\n",
       "\n",
       ".xr-var-dtype {\n",
       "  grid-column: 3;\n",
       "  text-align: right;\n",
       "  color: var(--xr-font-color2);\n",
       "}\n",
       "\n",
       ".xr-var-preview {\n",
       "  grid-column: 4;\n",
       "}\n",
       "\n",
       ".xr-var-name,\n",
       ".xr-var-dims,\n",
       ".xr-var-dtype,\n",
       ".xr-preview,\n",
       ".xr-attrs dt {\n",
       "  white-space: nowrap;\n",
       "  overflow: hidden;\n",
       "  text-overflow: ellipsis;\n",
       "  padding-right: 10px;\n",
       "}\n",
       "\n",
       ".xr-var-name:hover,\n",
       ".xr-var-dims:hover,\n",
       ".xr-var-dtype:hover,\n",
       ".xr-attrs dt:hover {\n",
       "  overflow: visible;\n",
       "  width: auto;\n",
       "  z-index: 1;\n",
       "}\n",
       "\n",
       ".xr-var-attrs,\n",
       ".xr-var-data {\n",
       "  display: none;\n",
       "  background-color: var(--xr-background-color) !important;\n",
       "  padding-bottom: 5px !important;\n",
       "}\n",
       "\n",
       ".xr-var-attrs-in:checked ~ .xr-var-attrs,\n",
       ".xr-var-data-in:checked ~ .xr-var-data {\n",
       "  display: block;\n",
       "}\n",
       "\n",
       ".xr-var-data > table {\n",
       "  float: right;\n",
       "}\n",
       "\n",
       ".xr-var-name span,\n",
       ".xr-var-data,\n",
       ".xr-attrs {\n",
       "  padding-left: 25px !important;\n",
       "}\n",
       "\n",
       ".xr-attrs,\n",
       ".xr-var-attrs,\n",
       ".xr-var-data {\n",
       "  grid-column: 1 / -1;\n",
       "}\n",
       "\n",
       "dl.xr-attrs {\n",
       "  padding: 0;\n",
       "  margin: 0;\n",
       "  display: grid;\n",
       "  grid-template-columns: 125px auto;\n",
       "}\n",
       "\n",
       ".xr-attrs dt,\n",
       ".xr-attrs dd {\n",
       "  padding: 0;\n",
       "  margin: 0;\n",
       "  float: left;\n",
       "  padding-right: 10px;\n",
       "  width: auto;\n",
       "}\n",
       "\n",
       ".xr-attrs dt {\n",
       "  font-weight: normal;\n",
       "  grid-column: 1;\n",
       "}\n",
       "\n",
       ".xr-attrs dt:hover span {\n",
       "  display: inline-block;\n",
       "  background: var(--xr-background-color);\n",
       "  padding-right: 10px;\n",
       "}\n",
       "\n",
       ".xr-attrs dd {\n",
       "  grid-column: 2;\n",
       "  white-space: pre-wrap;\n",
       "  word-break: break-all;\n",
       "}\n",
       "\n",
       ".xr-icon-database,\n",
       ".xr-icon-file-text2 {\n",
       "  display: inline-block;\n",
       "  vertical-align: middle;\n",
       "  width: 1em;\n",
       "  height: 1.5em !important;\n",
       "  stroke-width: 0;\n",
       "  stroke: currentColor;\n",
       "  fill: currentColor;\n",
       "}\n",
       "</style><pre class='xr-text-repr-fallback'>&lt;xarray.DataArray (model: 20, month: 12, lat: 60, lon: 95)&gt;\n",
       "dask.array&lt;where, shape=(20, 12, 60, 95), dtype=float32, chunksize=(20, 1, 60, 95), chunktype=numpy.ndarray&gt;\n",
       "Coordinates:\n",
       "  * lat      (lat) float64 -29.5 -28.5 -27.5 -26.5 -25.5 ... 26.5 27.5 28.5 29.5\n",
       "  * lon      (lon) float64 30.5 31.5 32.5 33.5 34.5 ... 121.5 122.5 123.5 124.5\n",
       "  * month    (month) int64 1 2 3 4 5 6 7 8 9 10 11 12\n",
       "Dimensions without coordinates: model</pre><div class='xr-wrap' hidden><div class='xr-header'><div class='xr-obj-type'>xarray.DataArray</div><div class='xr-array-name'></div><ul class='xr-dim-list'><li><span>model</span>: 20</li><li><span class='xr-has-index'>month</span>: 12</li><li><span class='xr-has-index'>lat</span>: 60</li><li><span class='xr-has-index'>lon</span>: 95</li></ul></div><ul class='xr-sections'><li class='xr-section-item'><div class='xr-array-wrap'><input id='section-16bb110f-8d37-421c-92b3-794f619880d5' class='xr-array-in' type='checkbox' checked><label for='section-16bb110f-8d37-421c-92b3-794f619880d5' title='Show/hide data repr'><svg class='icon xr-icon-database'><use xlink:href='#icon-database'></use></svg></label><div class='xr-array-preview xr-preview'><span>dask.array&lt;chunksize=(20, 1, 60, 95), meta=np.ndarray&gt;</span></div><div class='xr-array-data'><table>\n",
       "<tr>\n",
       "<td>\n",
       "<table>\n",
       "  <thead>\n",
       "    <tr><td> </td><th> Array </th><th> Chunk </th></tr>\n",
       "  </thead>\n",
       "  <tbody>\n",
       "    <tr><th> Bytes </th><td> 5.47 MB </td> <td> 456.00 kB </td></tr>\n",
       "    <tr><th> Shape </th><td> (20, 12, 60, 95) </td> <td> (20, 1, 60, 95) </td></tr>\n",
       "    <tr><th> Count </th><td> 329 Tasks </td><td> 12 Chunks </td></tr>\n",
       "    <tr><th> Type </th><td> float32 </td><td> numpy.ndarray </td></tr>\n",
       "  </tbody>\n",
       "</table>\n",
       "</td>\n",
       "<td>\n",
       "<svg width=\"417\" height=\"149\" style=\"stroke:rgb(0,0,0);stroke-width:1\" >\n",
       "\n",
       "  <!-- Horizontal lines -->\n",
       "  <line x1=\"0\" y1=\"0\" x2=\"42\" y2=\"0\" style=\"stroke-width:2\" />\n",
       "  <line x1=\"0\" y1=\"25\" x2=\"42\" y2=\"25\" style=\"stroke-width:2\" />\n",
       "\n",
       "  <!-- Vertical lines -->\n",
       "  <line x1=\"0\" y1=\"0\" x2=\"0\" y2=\"25\" style=\"stroke-width:2\" />\n",
       "  <line x1=\"42\" y1=\"0\" x2=\"42\" y2=\"25\" style=\"stroke-width:2\" />\n",
       "\n",
       "  <!-- Colored Rectangle -->\n",
       "  <polygon points=\"0.0,0.0 42.22381320093874,0.0 42.22381320093874,25.659885755337758 0.0,25.659885755337758\" style=\"fill:#ECB172A0;stroke-width:0\"/>\n",
       "\n",
       "  <!-- Text -->\n",
       "  <text x=\"21.111907\" y=\"45.659886\" font-size=\"1.0rem\" font-weight=\"100\" text-anchor=\"middle\" >20</text>\n",
       "  <text x=\"62.223813\" y=\"12.829943\" font-size=\"1.0rem\" font-weight=\"100\" text-anchor=\"middle\" transform=\"rotate(0,62.223813,12.829943)\">1</text>\n",
       "\n",
       "\n",
       "  <!-- Horizontal lines -->\n",
       "  <line x1=\"112\" y1=\"0\" x2=\"135\" y2=\"23\" style=\"stroke-width:2\" />\n",
       "  <line x1=\"112\" y1=\"75\" x2=\"135\" y2=\"99\" style=\"stroke-width:2\" />\n",
       "\n",
       "  <!-- Vertical lines -->\n",
       "  <line x1=\"112\" y1=\"0\" x2=\"112\" y2=\"75\" style=\"stroke-width:2\" />\n",
       "  <line x1=\"113\" y1=\"1\" x2=\"113\" y2=\"77\" />\n",
       "  <line x1=\"115\" y1=\"3\" x2=\"115\" y2=\"79\" />\n",
       "  <line x1=\"117\" y1=\"5\" x2=\"117\" y2=\"81\" />\n",
       "  <line x1=\"119\" y1=\"7\" x2=\"119\" y2=\"83\" />\n",
       "  <line x1=\"121\" y1=\"9\" x2=\"121\" y2=\"85\" />\n",
       "  <line x1=\"123\" y1=\"11\" x2=\"123\" y2=\"87\" />\n",
       "  <line x1=\"125\" y1=\"13\" x2=\"125\" y2=\"89\" />\n",
       "  <line x1=\"127\" y1=\"15\" x2=\"127\" y2=\"91\" />\n",
       "  <line x1=\"129\" y1=\"17\" x2=\"129\" y2=\"93\" />\n",
       "  <line x1=\"131\" y1=\"19\" x2=\"131\" y2=\"95\" />\n",
       "  <line x1=\"133\" y1=\"21\" x2=\"133\" y2=\"97\" />\n",
       "  <line x1=\"135\" y1=\"23\" x2=\"135\" y2=\"99\" style=\"stroke-width:2\" />\n",
       "\n",
       "  <!-- Colored Rectangle -->\n",
       "  <polygon points=\"112.0,0.0 135.4400149289175,23.440014928917492 135.4400149289175,99.22948861312803 112.0,75.78947368421053\" style=\"fill:#ECB172A0;stroke-width:0\"/>\n",
       "\n",
       "  <!-- Horizontal lines -->\n",
       "  <line x1=\"112\" y1=\"0\" x2=\"232\" y2=\"0\" style=\"stroke-width:2\" />\n",
       "  <line x1=\"113\" y1=\"1\" x2=\"233\" y2=\"1\" />\n",
       "  <line x1=\"115\" y1=\"3\" x2=\"235\" y2=\"3\" />\n",
       "  <line x1=\"117\" y1=\"5\" x2=\"237\" y2=\"5\" />\n",
       "  <line x1=\"119\" y1=\"7\" x2=\"239\" y2=\"7\" />\n",
       "  <line x1=\"121\" y1=\"9\" x2=\"241\" y2=\"9\" />\n",
       "  <line x1=\"123\" y1=\"11\" x2=\"243\" y2=\"11\" />\n",
       "  <line x1=\"125\" y1=\"13\" x2=\"245\" y2=\"13\" />\n",
       "  <line x1=\"127\" y1=\"15\" x2=\"247\" y2=\"15\" />\n",
       "  <line x1=\"129\" y1=\"17\" x2=\"249\" y2=\"17\" />\n",
       "  <line x1=\"131\" y1=\"19\" x2=\"251\" y2=\"19\" />\n",
       "  <line x1=\"133\" y1=\"21\" x2=\"253\" y2=\"21\" />\n",
       "  <line x1=\"135\" y1=\"23\" x2=\"255\" y2=\"23\" style=\"stroke-width:2\" />\n",
       "\n",
       "  <!-- Vertical lines -->\n",
       "  <line x1=\"112\" y1=\"0\" x2=\"135\" y2=\"23\" style=\"stroke-width:2\" />\n",
       "  <line x1=\"232\" y1=\"0\" x2=\"255\" y2=\"23\" style=\"stroke-width:2\" />\n",
       "\n",
       "  <!-- Colored Rectangle -->\n",
       "  <polygon points=\"112.0,0.0 232.0,0.0 255.4400149289175,23.440014928917492 135.4400149289175,23.440014928917492\" style=\"fill:#ECB172A0;stroke-width:0\"/>\n",
       "\n",
       "  <!-- Horizontal lines -->\n",
       "  <line x1=\"135\" y1=\"23\" x2=\"255\" y2=\"23\" style=\"stroke-width:2\" />\n",
       "  <line x1=\"135\" y1=\"99\" x2=\"255\" y2=\"99\" style=\"stroke-width:2\" />\n",
       "\n",
       "  <!-- Vertical lines -->\n",
       "  <line x1=\"135\" y1=\"23\" x2=\"135\" y2=\"99\" style=\"stroke-width:2\" />\n",
       "  <line x1=\"255\" y1=\"23\" x2=\"255\" y2=\"99\" style=\"stroke-width:2\" />\n",
       "\n",
       "  <!-- Colored Rectangle -->\n",
       "  <polygon points=\"135.4400149289175,23.440014928917492 255.4400149289175,23.440014928917492 255.4400149289175,99.22948861312803 135.4400149289175,99.22948861312803\" style=\"fill:#ECB172A0;stroke-width:0\"/>\n",
       "\n",
       "  <!-- Text -->\n",
       "  <text x=\"195.440015\" y=\"119.229489\" font-size=\"1.0rem\" font-weight=\"100\" text-anchor=\"middle\" >95</text>\n",
       "  <text x=\"275.440015\" y=\"61.334752\" font-size=\"1.0rem\" font-weight=\"100\" text-anchor=\"middle\" transform=\"rotate(0,275.440015,61.334752)\">60</text>\n",
       "  <text x=\"113.720007\" y=\"107.509481\" font-size=\"1.0rem\" font-weight=\"100\" text-anchor=\"middle\" transform=\"rotate(45,113.720007,107.509481)\">12</text>\n",
       "</svg>\n",
       "</td>\n",
       "</tr>\n",
       "</table></div></div></li><li class='xr-section-item'><input id='section-2233575f-a928-4fc5-a8c0-35b797671599' class='xr-section-summary-in' type='checkbox'  checked><label for='section-2233575f-a928-4fc5-a8c0-35b797671599' class='xr-section-summary' >Coordinates: <span>(3)</span></label><div class='xr-section-inline-details'></div><div class='xr-section-details'><ul class='xr-var-list'><li class='xr-var-item'><div class='xr-var-name'><span class='xr-has-index'>lat</span></div><div class='xr-var-dims'>(lat)</div><div class='xr-var-dtype'>float64</div><div class='xr-var-preview xr-preview'>-29.5 -28.5 -27.5 ... 28.5 29.5</div><input id='attrs-f5e5a7fb-ad6d-49b0-a5b2-83a79abbc204' class='xr-var-attrs-in' type='checkbox' ><label for='attrs-f5e5a7fb-ad6d-49b0-a5b2-83a79abbc204' title='Show/Hide attributes'><svg class='icon xr-icon-file-text2'><use xlink:href='#icon-file-text2'></use></svg></label><input id='data-fbfb453b-104d-4e8b-a00a-1a529ca2f5a8' class='xr-var-data-in' type='checkbox'><label for='data-fbfb453b-104d-4e8b-a00a-1a529ca2f5a8' title='Show/Hide data repr'><svg class='icon xr-icon-database'><use xlink:href='#icon-database'></use></svg></label><div class='xr-var-attrs'><dl class='xr-attrs'><dt><span>standard_name :</span></dt><dd>latitude</dd><dt><span>long_name :</span></dt><dd>latitude</dd><dt><span>units :</span></dt><dd>degrees_north</dd><dt><span>axis :</span></dt><dd>Y</dd></dl></div><div class='xr-var-data'><pre>array([-29.5, -28.5, -27.5, -26.5, -25.5, -24.5, -23.5, -22.5, -21.5, -20.5,\n",
       "       -19.5, -18.5, -17.5, -16.5, -15.5, -14.5, -13.5, -12.5, -11.5, -10.5,\n",
       "        -9.5,  -8.5,  -7.5,  -6.5,  -5.5,  -4.5,  -3.5,  -2.5,  -1.5,  -0.5,\n",
       "         0.5,   1.5,   2.5,   3.5,   4.5,   5.5,   6.5,   7.5,   8.5,   9.5,\n",
       "        10.5,  11.5,  12.5,  13.5,  14.5,  15.5,  16.5,  17.5,  18.5,  19.5,\n",
       "        20.5,  21.5,  22.5,  23.5,  24.5,  25.5,  26.5,  27.5,  28.5,  29.5])</pre></div></li><li class='xr-var-item'><div class='xr-var-name'><span class='xr-has-index'>lon</span></div><div class='xr-var-dims'>(lon)</div><div class='xr-var-dtype'>float64</div><div class='xr-var-preview xr-preview'>30.5 31.5 32.5 ... 123.5 124.5</div><input id='attrs-4e4b78ec-880f-439f-b28a-75c57262e119' class='xr-var-attrs-in' type='checkbox' ><label for='attrs-4e4b78ec-880f-439f-b28a-75c57262e119' title='Show/Hide attributes'><svg class='icon xr-icon-file-text2'><use xlink:href='#icon-file-text2'></use></svg></label><input id='data-915cb4ef-c033-44dc-b4a1-f1a226ca1a3e' class='xr-var-data-in' type='checkbox'><label for='data-915cb4ef-c033-44dc-b4a1-f1a226ca1a3e' title='Show/Hide data repr'><svg class='icon xr-icon-database'><use xlink:href='#icon-database'></use></svg></label><div class='xr-var-attrs'><dl class='xr-attrs'><dt><span>standard_name :</span></dt><dd>longitude</dd><dt><span>long_name :</span></dt><dd>longitude</dd><dt><span>units :</span></dt><dd>degrees_east</dd><dt><span>axis :</span></dt><dd>X</dd></dl></div><div class='xr-var-data'><pre>array([ 30.5,  31.5,  32.5,  33.5,  34.5,  35.5,  36.5,  37.5,  38.5,  39.5,\n",
       "        40.5,  41.5,  42.5,  43.5,  44.5,  45.5,  46.5,  47.5,  48.5,  49.5,\n",
       "        50.5,  51.5,  52.5,  53.5,  54.5,  55.5,  56.5,  57.5,  58.5,  59.5,\n",
       "        60.5,  61.5,  62.5,  63.5,  64.5,  65.5,  66.5,  67.5,  68.5,  69.5,\n",
       "        70.5,  71.5,  72.5,  73.5,  74.5,  75.5,  76.5,  77.5,  78.5,  79.5,\n",
       "        80.5,  81.5,  82.5,  83.5,  84.5,  85.5,  86.5,  87.5,  88.5,  89.5,\n",
       "        90.5,  91.5,  92.5,  93.5,  94.5,  95.5,  96.5,  97.5,  98.5,  99.5,\n",
       "       100.5, 101.5, 102.5, 103.5, 104.5, 105.5, 106.5, 107.5, 108.5, 109.5,\n",
       "       110.5, 111.5, 112.5, 113.5, 114.5, 115.5, 116.5, 117.5, 118.5, 119.5,\n",
       "       120.5, 121.5, 122.5, 123.5, 124.5])</pre></div></li><li class='xr-var-item'><div class='xr-var-name'><span class='xr-has-index'>month</span></div><div class='xr-var-dims'>(month)</div><div class='xr-var-dtype'>int64</div><div class='xr-var-preview xr-preview'>1 2 3 4 5 6 7 8 9 10 11 12</div><input id='attrs-7b56a251-963e-405b-af76-96ce77b81fdc' class='xr-var-attrs-in' type='checkbox' disabled><label for='attrs-7b56a251-963e-405b-af76-96ce77b81fdc' title='Show/Hide attributes'><svg class='icon xr-icon-file-text2'><use xlink:href='#icon-file-text2'></use></svg></label><input id='data-6b8ea978-b0fd-43db-ad9f-40a8abad755e' class='xr-var-data-in' type='checkbox'><label for='data-6b8ea978-b0fd-43db-ad9f-40a8abad755e' title='Show/Hide data repr'><svg class='icon xr-icon-database'><use xlink:href='#icon-database'></use></svg></label><div class='xr-var-attrs'><dl class='xr-attrs'></dl></div><div class='xr-var-data'><pre>array([ 1,  2,  3,  4,  5,  6,  7,  8,  9, 10, 11, 12])</pre></div></li></ul></div></li><li class='xr-section-item'><input id='section-b7136e63-68c5-487f-9a2e-c99faed50c2b' class='xr-section-summary-in' type='checkbox' disabled ><label for='section-b7136e63-68c5-487f-9a2e-c99faed50c2b' class='xr-section-summary'  title='Expand/collapse section'>Attributes: <span>(0)</span></label><div class='xr-section-inline-details'></div><div class='xr-section-details'><dl class='xr-attrs'></dl></div></li></ul></div></div>"
      ],
      "text/plain": [
       "<xarray.DataArray (model: 20, month: 12, lat: 60, lon: 95)>\n",
       "dask.array<where, shape=(20, 12, 60, 95), dtype=float32, chunksize=(20, 1, 60, 95), chunktype=numpy.ndarray>\n",
       "Coordinates:\n",
       "  * lat      (lat) float64 -29.5 -28.5 -27.5 -26.5 -25.5 ... 26.5 27.5 28.5 29.5\n",
       "  * lon      (lon) float64 30.5 31.5 32.5 33.5 34.5 ... 121.5 122.5 123.5 124.5\n",
       "  * month    (month) int64 1 2 3 4 5 6 7 8 9 10 11 12\n",
       "Dimensions without coordinates: model"
      ]
     },
     "execution_count": 8,
     "metadata": {},
     "output_type": "execute_result"
    }
   ],
   "source": [
    "SSTB"
   ]
  },
  {
   "cell_type": "code",
   "execution_count": 9,
   "metadata": {},
   "outputs": [],
   "source": [
    "SSTbias = SSTB.where(abs(SSTB) > 0)"
   ]
  },
  {
   "cell_type": "markdown",
   "metadata": {},
   "source": [
    "# Main panel"
   ]
  },
  {
   "cell_type": "code",
   "execution_count": 21,
   "metadata": {},
   "outputs": [
    {
     "name": "stderr",
     "output_type": "stream",
     "text": [
      "/home/z5113258/anaconda3/lib/python3.8/site-packages/dask/array/numpy_compat.py:41: RuntimeWarning: invalid value encountered in true_divide\n",
      "  x = np.divide(x1, x2, out)\n",
      "/home/z5113258/anaconda3/lib/python3.8/site-packages/numpy/lib/nanfunctions.py:1113: RuntimeWarning: All-NaN slice encountered\n",
      "  r, k = function_base._ureduce(a, func=_nanmedian, axis=axis, out=out,\n",
      "/home/z5113258/anaconda3/lib/python3.8/site-packages/cartopy/mpl/geoaxes.py:1763: MatplotlibDeprecationWarning: shading='flat' when X and Y have the same dimensions as C is deprecated since 3.3.  Either specify the corners of the quadrilaterals with X and Y, or pass shading='auto', 'nearest' or 'gouraud', or set rcParams['pcolor.shading'].  This will become an error two minor releases later.\n",
      "  result = matplotlib.axes.Axes.pcolor(self, *args, **kwargs)\n",
      "/home/z5113258/anaconda3/lib/python3.8/site-packages/dask/array/numpy_compat.py:41: RuntimeWarning: invalid value encountered in true_divide\n",
      "  x = np.divide(x1, x2, out)\n",
      "/home/z5113258/anaconda3/lib/python3.8/site-packages/numpy/lib/nanfunctions.py:1113: RuntimeWarning: All-NaN slice encountered\n",
      "  r, k = function_base._ureduce(a, func=_nanmedian, axis=axis, out=out,\n",
      "/home/z5113258/anaconda3/lib/python3.8/site-packages/cartopy/mpl/geoaxes.py:1763: MatplotlibDeprecationWarning: shading='flat' when X and Y have the same dimensions as C is deprecated since 3.3.  Either specify the corners of the quadrilaterals with X and Y, or pass shading='auto', 'nearest' or 'gouraud', or set rcParams['pcolor.shading'].  This will become an error two minor releases later.\n",
      "  result = matplotlib.axes.Axes.pcolor(self, *args, **kwargs)\n"
     ]
    },
    {
     "data": {
      "image/png": "[encoded data removed]",
      "text/plain": [
       "<Figure size 864x504 with 2 Axes>"
      ]
     },
     "metadata": {
      "needs_background": "light"
     },
     "output_type": "display_data"
    }
   ],
   "source": [
    "import matplotlib.patches as patches\n",
    "fig = plt.figure(figsize = (12,7))\n",
    "#mean wind bias\n",
    "XBMa = XBM.mean('month')\n",
    "YBMa = YBM.mean('month')\n",
    "\n",
    "ax = fig.add_subplot(1, 1, 1, projection=ccrs.PlateCarree())\n",
    "C = ax.pcolor(SSTbias.lon, SSTbias.lat, SSTbias.median('model').mean('month'), \n",
    "          transform=ccrs.PlateCarree(), vmin = -1.5, vmax = 1.5, cmap = 'RdBu_r')\n",
    "ax.pcolor(LSM.lon, LSM.lat, LSM, transform=ccrs.PlateCarree(),cmap = 'Accent_r')\n",
    "fig.colorbar(C, ax=ax, label = \"bias ($^\\circ$C)\")\n",
    "Q = ax.quiver(XBM.lon[::3], XBM.lat[::3], XBMa[::3,::3], YBMa[::3,::3], \n",
    "                  transform=ccrs.PlateCarree(), scale = 0.5)\n",
    "\n",
    "#plt.title('Annual mean wind bias')\n",
    "ax.coastlines()\n",
    "qk = ax.quiverkey(Q, 0.8, 1.06, 0.05, r'$0.05 \\frac{N}{m^2}$', labelpos='E',\n",
    "                   coordinates='axes')\n",
    "ax.add_patch(patches.Rectangle((50,-10), 20, 20, color=\"k\", fill = False, linewidth=1, alpha = 1))\n",
    "ax.add_patch(patches.Rectangle((50,10), 20, 10, color=\"k\", fill = False, linewidth=1, alpha = 1))\n",
    "ax.add_patch(patches.Rectangle((90,-10), 20, 10, color=\"k\", fill = False, linewidth=1, alpha = 1))\n",
    "ax.set_facecolor('white')\n",
    "ax.set_extent([30, 120, -20, 20])\n",
    "#plt.savefig('bias_white_grey.eps')"
   ]
  },
  {
   "cell_type": "code",
   "execution_count": 25,
   "metadata": {},
   "outputs": [
    {
     "name": "stdout",
     "output_type": "stream",
     "text": [
      "[Errno 2] No such file or directory: b'/home/z5113258/Documents/data/CMIP6_HB_new/not_full/not_full_temp_tendency.nc'\n",
      "[Errno 2] No such file or directory: b'/home/z5113258/Documents/data/CMIP6_HB_new/not_full/not_full_u_advection.nc'\n",
      "[Errno 2] No such file or directory: b'/home/z5113258/Documents/data/CMIP6_HB_new/not_full/not_full_v_advection.nc'\n",
      "[Errno 2] No such file or directory: b'/home/z5113258/Documents/data/CMIP6_HB_new/not_full/not_full_w_advection.nc'\n",
      "[Errno 2] No such file or directory: b'/home/z5113258/Documents/data/CMIP6_HB_new/not_full/not_full_netLW.nc'\n",
      "[Errno 2] No such file or directory: b'/home/z5113258/Documents/data/CMIP6_HB_new/not_full/not_full_netSW.nc'\n",
      "[Errno 2] No such file or directory: b'/home/z5113258/Documents/data/CMIP6_HB_new/not_full/not_full_hfls.nc'\n",
      "[Errno 2] No such file or directory: b'/home/z5113258/Documents/data/CMIP6_HB_new/not_full/not_full_hfss.nc'\n",
      "[Errno 2] No such file or directory: b'/home/z5113258/Documents/data/CMIP6_HB_new/not_full/not_full_tos.nc'\n"
     ]
    }
   ],
   "source": [
    "#load in data\n",
    "#loop to go through data folders. Do this in try except so that we know if/when somehting has failed, but the script will keep on running\n",
    "datadir = '/home/z5113258/Documents/data/CMIP6_HB_new/'\n",
    "#dict with file names\n",
    "varis = {'dTdt':'_temp_tendency.nc', 'ua':'_u_advection.nc', 'va':'_v_advection.nc',\n",
    "             'wa':'_w_advection.nc', 'lw':'_netLW.nc', 'sw':'_netSW.nc', 'lhf':'_hfls.nc', \n",
    "             'shf':'_hfss.nc', 'SST': '_tos.nc'}\n",
    "models={}\n",
    "#get all data for temp tendency\n",
    "var = 'thetao/*.nc'\n",
    "for model in os.listdir(datadir):\n",
    "    #go thorugh all varis\n",
    "    if model == 'NESM3':\n",
    "        pass\n",
    "    else:\n",
    "        mod={}\n",
    "        for key in varis.keys():\n",
    "            #input file\n",
    "            inp_files = (os.path.join(datadir, model, str(model+varis[key])))\n",
    "            try:\n",
    "                #load in file\n",
    "                var = xr.open_dataarray(inp_files)\n",
    "                #put into dict\n",
    "                mod[key]=var\n",
    "                models[model] = mod\n",
    "\n",
    "            except Exception as e:\n",
    "                print(e)\n",
    "                pass"
   ]
  },
  {
   "cell_type": "code",
   "execution_count": 26,
   "metadata": {},
   "outputs": [
    {
     "name": "stdout",
     "output_type": "stream",
     "text": [
      "[Errno 2] No such file or directory: b'/home/z5113258/Documents/data/REAN_HB/OAFLUX/OAFLUX_temp_tendency.nc'\n",
      "[Errno 2] No such file or directory: b'/home/z5113258/Documents/data/REAN_HB/OAFLUX/OAFLUX_u_advection.nc'\n",
      "[Errno 2] No such file or directory: b'/home/z5113258/Documents/data/REAN_HB/OAFLUX/OAFLUX_v_advection.nc'\n",
      "[Errno 2] No such file or directory: b'/home/z5113258/Documents/data/REAN_HB/OAFLUX/OAFLUX_w_advection.nc'\n",
      "[Errno 2] No such file or directory: b'/home/z5113258/Documents/data/REAN_HB/OAFLUX/OAFLUX_tos.nc'\n",
      "[Errno 2] No such file or directory: b'/home/z5113258/Documents/data/REAN_HB/ERA5/ERA5_temp_tendency.nc'\n",
      "[Errno 2] No such file or directory: b'/home/z5113258/Documents/data/REAN_HB/ERA5/ERA5_u_advection.nc'\n",
      "[Errno 2] No such file or directory: b'/home/z5113258/Documents/data/REAN_HB/ERA5/ERA5_v_advection.nc'\n",
      "[Errno 2] No such file or directory: b'/home/z5113258/Documents/data/REAN_HB/ERA5/ERA5_w_advection.nc'\n",
      "[Errno 2] No such file or directory: b'/home/z5113258/Documents/data/REAN_HB/ERA5/ERA5_tos.nc'\n",
      "[Errno 2] No such file or directory: b'/home/z5113258/Documents/data/REAN_HB/ARGO/ARGO_u_advection.nc'\n",
      "[Errno 2] No such file or directory: b'/home/z5113258/Documents/data/REAN_HB/ARGO/ARGO_v_advection.nc'\n",
      "[Errno 2] No such file or directory: b'/home/z5113258/Documents/data/REAN_HB/ARGO/ARGO_w_advection.nc'\n",
      "[Errno 2] No such file or directory: b'/home/z5113258/Documents/data/REAN_HB/ARGO/ARGO_qnet.nc'\n"
     ]
    }
   ],
   "source": [
    "#load in REAn products with all HB terms\n",
    "#loop to go through data folders. Do this in try except so that we know if/when somehting has failed, but the script will keep on running\n",
    "datadir = '/home/z5113258/Documents/data/REAN_HB/'\n",
    "#dict with file names\n",
    "varis = {'dTdt':'_temp_tendency.nc', 'ua':'_u_advection.nc', 'va':'_v_advection.nc',\n",
    "             'wa':'_w_advection.nc', 'q':'_qnet.nc', 'SST': '_tos.nc'}\n",
    "OBS={}\n",
    "#get all data for temp tendency\n",
    "var = 'thetao/*.nc'\n",
    "for model in os.listdir(datadir):\n",
    "    #go thorugh all varis\n",
    "    if model == 'NESM3':\n",
    "        pass\n",
    "    else:\n",
    "        mod={}\n",
    "        for key in varis.keys():\n",
    "            #input file\n",
    "            inp_files = (os.path.join(datadir, model, str(model+varis[key])))\n",
    "            try:\n",
    "                #load in file\n",
    "                var = xr.open_dataarray(inp_files)\n",
    "                #put into dict\n",
    "                mod[key]=var\n",
    "                OBS[model] = mod\n",
    "\n",
    "            except Exception as e:\n",
    "                print(e)\n",
    "                pass"
   ]
  },
  {
   "cell_type": "code",
   "execution_count": 27,
   "metadata": {},
   "outputs": [
    {
     "name": "stdout",
     "output_type": "stream",
     "text": [
      "'dTdt' OAFLUX\n",
      "'dTdt' ERA5\n",
      "'ua' ARGO\n"
     ]
    }
   ],
   "source": [
    "#reverse signs on advection, pack Qnet nad HF terms separately\n",
    "models1={}\n",
    "model_HF={}\n",
    "for model in models.keys():\n",
    "    try:\n",
    "        HB=models[model]\n",
    "        T=HB['dTdt']\n",
    "        U=HB['ua']\n",
    "        V=HB['va']\n",
    "        W=HB['wa']\n",
    "        lw=HB['lw']\n",
    "        sw=HB['sw']\n",
    "        lhf=HB['lhf']\n",
    "        shf=HB['shf']\n",
    "        Q=(lw+sw-lhf-shf)/(3986*1026*50)#terms are all positive so have to add in sign, and scale to degC/month\n",
    "        SST = HB['SST']\n",
    "        resid = T-Q+U+V+W\n",
    "        #repack dict with correct sign so everything is additive\n",
    "        HB1={'dTdt':T, 'ua':-U, 'va':-V,'wa':-W, 'q':Q, 'res':resid, 'SST':SST}\n",
    "        #pack HF terms into different dict\n",
    "        HF={'lw':lw, 'sw':sw, 'lhf':-lhf, 'shf':-shf, 'q':Q}\n",
    "        model_HF[model]=HF\n",
    "        models1[model]=HB1\n",
    "    except Exception as e:\n",
    "        print(e, model)\n",
    "#do the same for OBS\n",
    "OBS1={}\n",
    "for model in OBS.keys():\n",
    "    try:\n",
    "        HB=OBS[model]\n",
    "        T=HB['dTdt']\n",
    "        U=HB['ua']\n",
    "        V=HB['va']\n",
    "        W=HB['wa']\n",
    "        Q=HB['q']\n",
    "        SST = HB['SST']\n",
    "        resid = T-Q+U+V+W\n",
    "        #repack dict\n",
    "        HB1={'dTdt':T, 'ua':-U, 'va':-V,'wa':-W, 'q':Q, 'res':resid, 'SST':SST}\n",
    "        OBS1[model]=HB1\n",
    "    except Exception as e:\n",
    "        print(e, model)"
   ]
  },
  {
   "cell_type": "code",
   "execution_count": 22,
   "metadata": {},
   "outputs": [],
   "source": [
    "def get_model_TS(MM_D):\n",
    "    for i, model in enumerate(MM_D.keys()):\n",
    "        HB = MM_D[model]\n",
    "        T=HB['dTdt']\n",
    "        U=HB['ua']\n",
    "        V=HB['va']\n",
    "        W=HB['wa']\n",
    "        Q=HB['q']\n",
    "        resid = HB['res']\n",
    "        SST = HB['SST']\n",
    "\n",
    "        T=T.assign_coords({'model':model})\n",
    "        U=U.assign_coords({'model':model})\n",
    "        V=V.assign_coords({'model':model})\n",
    "        W=W.assign_coords({'model':model})\n",
    "        Q=Q.assign_coords({'model':model})\n",
    "        resid = resid.assign_coords({'model':model})\n",
    "        SST = SST.assign_coords({'model':model})\n",
    "        #now turn all these variables into an array\n",
    "        if i == 0:\n",
    "            TM = T\n",
    "            UM = U\n",
    "            VM = V\n",
    "            WM = W\n",
    "            QM = Q\n",
    "            RM = resid\n",
    "            SM = SST\n",
    "        else:\n",
    "            TM = xr.concat([TM, T], dim = 'model')\n",
    "            UM = xr.concat([UM, U], dim = 'model')\n",
    "            VM = xr.concat([VM, V], dim = 'model')\n",
    "            WM = xr.concat([WM, W], dim = 'model')\n",
    "            QM = xr.concat([QM, Q], dim = 'model')\n",
    "            RM = xr.concat([RM, resid], dim = 'model')\n",
    "            SM = xr.concat([SM, SST], dim = 'model')\n",
    "    return TM, UM, VM, WM, QM, RM, SM"
   ]
  },
  {
   "cell_type": "code",
   "execution_count": 29,
   "metadata": {},
   "outputs": [],
   "source": [
    "def get_region(da, lat, lat_r, lon, lon_r):\n",
    "    DA_ss = da.sel(lat=slice(lat, lat_r),lon=slice(lon, lon_r)).mean(['lat', 'lon'])\n",
    "    return DA_ss"
   ]
  },
  {
   "cell_type": "code",
   "execution_count": 30,
   "metadata": {},
   "outputs": [],
   "source": [
    "def get_SSTBIAS(MM_D, lat, lat_r, lon, lon_r):\n",
    "    #create a 'model-series' for each variable\n",
    "    TM, UM, VM, WM, QM, RM, SM = get_model_TS(MM_D)\n",
    "    #Now calculate the multimodel means/\n",
    "    TMM = SM.median(dim = 'model')\n",
    "    T_argo = OBS['ARGO']['SST']\n",
    "    diff = get_region((TMM), lat, lat_r, lon, lon_r) - get_region((T_argo), lat, lat_r, lon, lon_r)\n",
    "    return diff"
   ]
  },
  {
   "cell_type": "code",
   "execution_count": 31,
   "metadata": {},
   "outputs": [],
   "source": [
    "WTIO = get_SSTBIAS(models1, -10,10, 50,70)\n",
    "SETIO = get_SSTBIAS(models1, -10,0, 90,110)\n",
    "AS = get_SSTBIAS(models1, 10,20, 50,70)"
   ]
  },
  {
   "cell_type": "markdown",
   "metadata": {},
   "source": [
    "# Arabian sea SST bias"
   ]
  },
  {
   "cell_type": "code",
   "execution_count": 32,
   "metadata": {},
   "outputs": [
    {
     "data": {
      "text/plain": [
       "([], [])"
      ]
     },
     "execution_count": 32,
     "metadata": {},
     "output_type": "execute_result"
    },
    {
     "data": {
      "image/png": "[encoded data removed]",
      "text/plain": [
       "<Figure size 432x288 with 1 Axes>"
      ]
     },
     "metadata": {
      "needs_background": "light"
     },
     "output_type": "display_data"
    }
   ],
   "source": [
    "plt.imshow([AS], cmap = 'RdBu_r', vmin = -1.5, vmax = 1.5)\n",
    "plt.xticks(range(0,12), ['J','F','M','A','M','J','J','A','S','O','N','D'])   \n",
    "plt.yticks([])"
   ]
  },
  {
   "cell_type": "markdown",
   "metadata": {},
   "source": [
    "# WTIO SST bias"
   ]
  },
  {
   "cell_type": "code",
   "execution_count": 33,
   "metadata": {},
   "outputs": [
    {
     "data": {
      "text/plain": [
       "([], [])"
      ]
     },
     "execution_count": 33,
     "metadata": {},
     "output_type": "execute_result"
    },
    {
     "data": {
      "image/png": "[encoded data removed]",
      "text/plain": [
       "<Figure size 432x288 with 1 Axes>"
      ]
     },
     "metadata": {
      "needs_background": "light"
     },
     "output_type": "display_data"
    }
   ],
   "source": [
    "plt.imshow([WTIO], cmap = 'RdBu_r', vmin = -1.5, vmax = 1.5)\n",
    "plt.xticks(range(0,12), ['J','F','M','A','M','J','J','A','S','O','N','D'])   \n",
    "plt.yticks([])"
   ]
  },
  {
   "cell_type": "markdown",
   "metadata": {},
   "source": [
    "# SETIO SST bias"
   ]
  },
  {
   "cell_type": "code",
   "execution_count": 35,
   "metadata": {},
   "outputs": [
    {
     "data": {
      "text/plain": [
       "([], [])"
      ]
     },
     "execution_count": 35,
     "metadata": {},
     "output_type": "execute_result"
    },
    {
     "data": {
      "image/png": "[encoded data removed]",
      "text/plain": [
       "<Figure size 432x288 with 1 Axes>"
      ]
     },
     "metadata": {
      "needs_background": "light"
     },
     "output_type": "display_data"
    }
   ],
   "source": [
    "plt.imshow([SETIO], cmap = 'RdBu_r', vmin = -1.5, vmax = 1.5)\n",
    "plt.xticks(range(0,12), ['J','F','M','A','M','J','J','A','S','O','N','D'])   \n",
    "plt.yticks([])"
   ]
  },
  {
   "cell_type": "code",
   "execution_count": null,
   "metadata": {},
   "outputs": [],
   "source": []
  }
 ],
 "metadata": {
  "kernelspec": {
   "display_name": "Python 3",
   "language": "python",
   "name": "python3"
  },
  "language_info": {
   "codemirror_mode": {
    "name": "ipython",
    "version": 3
   },
   "file_extension": ".py",
   "mimetype": "text/x-python",
   "name": "python",
   "nbconvert_exporter": "python",
   "pygments_lexer": "ipython3",
   "version": "3.8.5"
  }
 },
 "nbformat": 4,
 "nbformat_minor": 4
}
