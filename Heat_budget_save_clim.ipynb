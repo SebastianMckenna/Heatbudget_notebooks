{
 "cells": [
  {
   "cell_type": "code",
   "execution_count": 1,
   "metadata": {},
   "outputs": [],
   "source": [
    "import xarray as xr\n",
    "import dask\n",
    "import matplotlib.pyplot as plt\n",
    "import matplotlib as mpl\n",
    "import numpy as np\n",
    "import scipy\n",
    "import os\n",
    "import glob as glob\n",
    "import cartopy.crs as ccrs\n",
    "import cartopy.feature as cfeature\n",
    "import calendar"
   ]
  },
  {
   "cell_type": "code",
   "execution_count": 2,
   "metadata": {},
   "outputs": [],
   "source": [
    "#functions that get each heat budget variable calculated.\n",
    "#general form so can use any dataset\n",
    "def diff_T(T):\n",
    "    dTdt = T.differentiate(coord = 'time',datetime_unit= 's')\n",
    "    dTdx = T.differentiate('lon') / (110e3 * np.cos(T.lat * np.pi / 180))\n",
    "    dTdy = T.differentiate('lat') / (110e3 )\n",
    "    dTdz = (T[:,0] - T[:,-1])/float(T.level[-1])\n",
    "    return dTdt[:,:-1], dTdx[:,:-1], dTdy[:,:-1], dTdz\n",
    "\n",
    "def advection(u, v, w, dx, dy, dz):\n",
    "    uadv = u*dx\n",
    "    vadv = v*dy\n",
    "    wadv = w*dz\n",
    "    return uadv, vadv, wadv\n",
    "\n",
    "def get_weights(INP):\n",
    "    weights = INP.level\n",
    "    #add a 0m surface layer\n",
    "    wt=np.array([0.])\n",
    "    for i in range(len(weights.values)):\n",
    "        NW = 2*weights.values[i]-wt[i]\n",
    "        wt = np.insert(wt,i+1,NW)\n",
    "    thickness = wt[1:]-wt[:-1]\n",
    "    thickness_DA = xr.DataArray(thickness, coords={'level': INP.level},\n",
    "                 dims=['level'])\n",
    "    return thickness_DA\n",
    "\n",
    "def weighted_avg(inp, weights):\n",
    "    avg=inp.weighted(weights).mean('level')\n",
    "    return avg\n",
    "\n",
    "\n",
    "def get_clim(dict_name):\n",
    "    dict1={}\n",
    "    #unpack dict, get climatology, repack\n",
    "    for key in dict_name.keys():\n",
    "        var = dict_name[key]\n",
    "        var = var.groupby('time.month').mean('time')\n",
    "        dict1[key] = var\n",
    "    return dict1\n"
   ]
  },
  {
   "cell_type": "code",
   "execution_count": 3,
   "metadata": {
    "scrolled": true
   },
   "outputs": [
    {
     "name": "stderr",
     "output_type": "stream",
     "text": [
      "/apps/jupyterlab/2.1.4-py3.7/lib/python3.7/site-packages/ipykernel_launcher.py:2: FutureWarning: In xarray version 0.15 the default behaviour of `open_mfdataset`\n",
      "will change. To retain the existing behavior, pass\n",
      "combine='nested'. To use future default behavior, pass\n",
      "combine='by_coords'. See\n",
      "http://xarray.pydata.org/en/stable/combining.html#combining-multi\n",
      "\n",
      "  \n",
      "/apps/xarray/0.15.1-py3.7/lib/python3.7/site-packages/xarray-0.15.1-py3.7.egg/xarray/backends/api.py:941: FutureWarning: The datasets supplied have global dimension coordinates. You may want\n",
      "to use the new `combine_by_coords` function (or the\n",
      "`combine='by_coords'` option to `open_mfdataset`) to order the datasets\n",
      "before concatenation. Alternatively, to continue concatenating based\n",
      "on the order the datasets are supplied in future, please use the new\n",
      "`combine_nested` function (or the `combine='nested'` option to\n",
      "open_mfdataset).\n",
      "  from_openmfds=True,\n",
      "/apps/jupyterlab/2.1.4-py3.7/lib/python3.7/site-packages/ipykernel_launcher.py:3: FutureWarning: In xarray version 0.15 the default behaviour of `open_mfdataset`\n",
      "will change. To retain the existing behavior, pass\n",
      "combine='nested'. To use future default behavior, pass\n",
      "combine='by_coords'. See\n",
      "http://xarray.pydata.org/en/stable/combining.html#combining-multi\n",
      "\n",
      "  This is separate from the ipykernel package so we can avoid doing imports until\n",
      "/apps/xarray/0.15.1-py3.7/lib/python3.7/site-packages/xarray-0.15.1-py3.7.egg/xarray/backends/api.py:941: FutureWarning: The datasets supplied have global dimension coordinates. You may want\n",
      "to use the new `combine_by_coords` function (or the\n",
      "`combine='by_coords'` option to `open_mfdataset`) to order the datasets\n",
      "before concatenation. Alternatively, to continue concatenating based\n",
      "on the order the datasets are supplied in future, please use the new\n",
      "`combine_nested` function (or the `combine='nested'` option to\n",
      "open_mfdataset).\n",
      "  from_openmfds=True,\n",
      "/apps/jupyterlab/2.1.4-py3.7/lib/python3.7/site-packages/ipykernel_launcher.py:4: FutureWarning: In xarray version 0.15 the default behaviour of `open_mfdataset`\n",
      "will change. To retain the existing behavior, pass\n",
      "combine='nested'. To use future default behavior, pass\n",
      "combine='by_coords'. See\n",
      "http://xarray.pydata.org/en/stable/combining.html#combining-multi\n",
      "\n",
      "  after removing the cwd from sys.path.\n",
      "/apps/xarray/0.15.1-py3.7/lib/python3.7/site-packages/xarray-0.15.1-py3.7.egg/xarray/backends/api.py:941: FutureWarning: The datasets supplied have global dimension coordinates. You may want\n",
      "to use the new `combine_by_coords` function (or the\n",
      "`combine='by_coords'` option to `open_mfdataset`) to order the datasets\n",
      "before concatenation. Alternatively, to continue concatenating based\n",
      "on the order the datasets are supplied in future, please use the new\n",
      "`combine_nested` function (or the `combine='nested'` option to\n",
      "open_mfdataset).\n",
      "  from_openmfds=True,\n",
      "/apps/jupyterlab/2.1.4-py3.7/lib/python3.7/site-packages/ipykernel_launcher.py:5: FutureWarning: In xarray version 0.15 the default behaviour of `open_mfdataset`\n",
      "will change. To retain the existing behavior, pass\n",
      "combine='nested'. To use future default behavior, pass\n",
      "combine='by_coords'. See\n",
      "http://xarray.pydata.org/en/stable/combining.html#combining-multi\n",
      "\n",
      "  \"\"\"\n",
      "/apps/xarray/0.15.1-py3.7/lib/python3.7/site-packages/xarray-0.15.1-py3.7.egg/xarray/backends/api.py:941: FutureWarning: The datasets supplied have global dimension coordinates. You may want\n",
      "to use the new `combine_by_coords` function (or the\n",
      "`combine='by_coords'` option to `open_mfdataset`) to order the datasets\n",
      "before concatenation. Alternatively, to continue concatenating based\n",
      "on the order the datasets are supplied in future, please use the new\n",
      "`combine_nested` function (or the `combine='nested'` option to\n",
      "open_mfdataset).\n",
      "  from_openmfds=True,\n",
      "/apps/jupyterlab/2.1.4-py3.7/lib/python3.7/site-packages/ipykernel_launcher.py:6: FutureWarning: In xarray version 0.15 the default behaviour of `open_mfdataset`\n",
      "will change. To retain the existing behavior, pass\n",
      "combine='nested'. To use future default behavior, pass\n",
      "combine='by_coords'. See\n",
      "http://xarray.pydata.org/en/stable/combining.html#combining-multi\n",
      "\n",
      "  \n",
      "/apps/xarray/0.15.1-py3.7/lib/python3.7/site-packages/xarray-0.15.1-py3.7.egg/xarray/backends/api.py:941: FutureWarning: The datasets supplied have global dimension coordinates. You may want\n",
      "to use the new `combine_by_coords` function (or the\n",
      "`combine='by_coords'` option to `open_mfdataset`) to order the datasets\n",
      "before concatenation. Alternatively, to continue concatenating based\n",
      "on the order the datasets are supplied in future, please use the new\n",
      "`combine_nested` function (or the `combine='nested'` option to\n",
      "open_mfdataset).\n",
      "  from_openmfds=True,\n"
     ]
    }
   ],
   "source": [
    "#load in GODAS\n",
    "gT = xr.open_mfdataset('/g/data/e14/sm2435/GODAS/remapcon_1/pottmp/*.nc').pottmp\n",
    "gU = xr.open_mfdataset('/g/data/e14/sm2435/GODAS/remapcon_1/ucur/*.nc').ucur\n",
    "gV = xr.open_mfdataset('/g/data/e14/sm2435/GODAS/remapcon_1/vcur/*.nc').vcur\n",
    "gW = xr.open_mfdataset('/g/data/e14/sm2435/GODAS/remapcon_1/dzdt/*.nc').dzdt\n",
    "gQ = xr.open_mfdataset('/g/data/e14/sm2435/GODAS/remapcon_1/thflx/*.nc').thflx\n",
    "#get only to 50m\n",
    "gT = gT[:,:5]\n",
    "gU = gU[:,:5]\n",
    "gV = gV[:,:5]\n",
    "gW = gW[:,4]\n",
    "#now put lat lon of uvw to T\n",
    "gU = gU.assign_coords({'lat': gT.lat, 'lon': gT.lon})\n",
    "gV = gV.assign_coords({'lat': gT.lat, 'lon': gT.lon})\n",
    "gW = gW.assign_coords({'lat': gT.lat, 'lon': gT.lon})\n"
   ]
  },
  {
   "cell_type": "code",
   "execution_count": 31,
   "metadata": {
    "scrolled": true
   },
   "outputs": [],
   "source": [
    "#function that will chnage date to middle of month. Uase differencing technique from other script.dtdt_manual\n",
    "def date_to_middle(vari, varname):\n",
    "    data_list = []\n",
    "    if len(vari.dims) ==4:\n",
    "        try:\n",
    "            for i in range(len(vari.time)):\n",
    "                val = ((vari[i,:,:,:]+vari[i+1,:,:,:])/(2)).values\n",
    "                data_list.append(val)\n",
    "        except:\n",
    "            print('error')\n",
    "        arr = np.asarray(data_list)\n",
    "        test = xr.DataArray(arr, coords={'time': vari.time[:-1], 'level': vari.level, 'lat': vari.lat, 'lon':vari.lon},\n",
    "                     dims=['time', 'level', 'lat', 'lon'], attrs=dict(\n",
    "                description=varname))\n",
    "    elif len(vari.dims)==3:\n",
    "        try:\n",
    "            for i in range(len(vari.time)):\n",
    "                val = ((vari[i,:,:]+vari[i+1,:,:])/(2)).values\n",
    "                data_list.append(val)\n",
    "        except:\n",
    "            print('error')\n",
    "        arr = np.asarray(data_list)\n",
    "        test = xr.DataArray(arr, coords={'time': vari.time[:-1], 'lat': vari.lat, 'lon':vari.lon},\n",
    "                     dims=['time', 'lat', 'lon'], attrs=dict(\n",
    "                description=varname))\n",
    "    return test"
   ]
  },
  {
   "cell_type": "code",
   "execution_count": 32,
   "metadata": {
    "scrolled": true
   },
   "outputs": [
    {
     "name": "stdout",
     "output_type": "stream",
     "text": [
      "error\n",
      "error\n",
      "error\n",
      "error\n",
      "error\n"
     ]
    }
   ],
   "source": [
    "#now perfrom on all godas data\n",
    "gT = date_to_middle(gT, 'pottmp')\n",
    "gU = date_to_middle(gU, 'ucur')\n",
    "gV = date_to_middle(gV, 'vcur')\n",
    "gW = date_to_middle(gW, 'dzdt')\n",
    "gQ = date_to_middle(gQ, 'thflx')"
   ]
  },
  {
   "cell_type": "code",
   "execution_count": 27,
   "metadata": {},
   "outputs": [
    {
     "data": {
      "text/plain": [
       "4"
      ]
     },
     "execution_count": 27,
     "metadata": {},
     "output_type": "execute_result"
    }
   ],
   "source": [
    "len(gT.dims)"
   ]
  },
  {
   "cell_type": "code",
   "execution_count": 33,
   "metadata": {},
   "outputs": [],
   "source": [
    "dTdtg, dTdxg, dTdyg, dTdzg = diff_T(gT)"
   ]
  },
  {
   "cell_type": "code",
   "execution_count": 34,
   "metadata": {},
   "outputs": [],
   "source": [
    "uadvg, vadvg, wadvg = advection(gU, gV, gW, dTdxg, dTdyg, dTdzg)"
   ]
  },
  {
   "cell_type": "code",
   "execution_count": 35,
   "metadata": {},
   "outputs": [
    {
     "name": "stderr",
     "output_type": "stream",
     "text": [
      "/apps/xarray/0.15.1-py3.7/lib/python3.7/site-packages/xarray-0.15.1-py3.7.egg/xarray/core/nanops.py:142: RuntimeWarning: Mean of empty slice\n",
      "  return np.nanmean(a, axis=axis, dtype=dtype)\n"
     ]
    },
    {
     "data": {
      "text/plain": [
       "<matplotlib.collections.QuadMesh at 0x7fc8a4051190>"
      ]
     },
     "execution_count": 35,
     "metadata": {},
     "output_type": "execute_result"
    },
    {
     "data": {
      "image/png": "[encoded data removed]",
      "text/plain": [
       "<Figure size 432x288 with 2 Axes>"
      ]
     },
     "metadata": {
      "needs_background": "light"
     },
     "output_type": "display_data"
    }
   ],
   "source": [
    "uadvg.mean('level').mean('time').plot()"
   ]
  },
  {
   "cell_type": "code",
   "execution_count": null,
   "metadata": {},
   "outputs": [],
   "source": []
  },
  {
   "cell_type": "code",
   "execution_count": 36,
   "metadata": {},
   "outputs": [],
   "source": [
    "#calcualate weights of levels\n",
    "weights = get_weights(gT)\n",
    "#now get wtd avg\n",
    "dTdt_gw = weighted_avg(dTdtg, weights)\n",
    "uwg = weighted_avg(uadvg, weights)\n",
    "vwg = weighted_avg(vadvg, weights)\n",
    "wwg = wadvg"
   ]
  },
  {
   "cell_type": "code",
   "execution_count": 37,
   "metadata": {},
   "outputs": [],
   "source": [
    "#get Q\n",
    "gqnet = (gQ/(3986*1026*50))"
   ]
  },
  {
   "cell_type": "code",
   "execution_count": 38,
   "metadata": {},
   "outputs": [
    {
     "name": "stderr",
     "output_type": "stream",
     "text": [
      "/apps/xarray/0.15.1-py3.7/lib/python3.7/site-packages/xarray-0.15.1-py3.7.egg/xarray/core/nanops.py:142: RuntimeWarning: Mean of empty slice\n",
      "  return np.nanmean(a, axis=axis, dtype=dtype)\n"
     ]
    }
   ],
   "source": [
    "#now calcaulte cliamotlogy of terms\n",
    "dT_cg = dTdt_gw.groupby('time.month').mean('time')\n",
    "u_cg = uwg.groupby('time.month').mean('time')\n",
    "v_cg = vwg.groupby('time.month').mean('time')\n",
    "w_cg = wwg.groupby('time.month').mean('time')\n",
    "q_cg = gqnet.groupby('time.month').mean('time')"
   ]
  },
  {
   "cell_type": "code",
   "execution_count": 39,
   "metadata": {},
   "outputs": [],
   "source": [
    "#now convert to netcdf\n",
    "dT_cg.to_netcdf('/g/data/e14/sm2435/Gt_n.nc')\n",
    "u_cg.to_netcdf('/g/data/e14/sm2435/Gu_n.nc')\n",
    "v_cg.to_netcdf('/g/data/e14/sm2435/Gv_n.nc')\n",
    "w_cg.to_netcdf('/g/data/e14/sm2435/Gw_n.nc')\n",
    "q_cg.to_netcdf('/g/data/e14/sm2435/Gq_n.nc')"
   ]
  },
  {
   "cell_type": "code",
   "execution_count": 11,
   "metadata": {
    "scrolled": true
   },
   "outputs": [
    {
     "name": "stderr",
     "output_type": "stream",
     "text": [
      "/apps/jupyterlab/2.1.4-py3.7/lib/python3.7/site-packages/ipykernel_launcher.py:2: FutureWarning: In xarray version 0.15 the default behaviour of `open_mfdataset`\n",
      "will change. To retain the existing behavior, pass\n",
      "combine='nested'. To use future default behavior, pass\n",
      "combine='by_coords'. See\n",
      "http://xarray.pydata.org/en/stable/combining.html#combining-multi\n",
      "\n",
      "  \n",
      "/apps/xarray/0.15.1-py3.7/lib/python3.7/site-packages/xarray-0.15.1-py3.7.egg/xarray/backends/api.py:941: FutureWarning: The datasets supplied have global dimension coordinates. You may want\n",
      "to use the new `combine_by_coords` function (or the\n",
      "`combine='by_coords'` option to `open_mfdataset`) to order the datasets\n",
      "before concatenation. Alternatively, to continue concatenating based\n",
      "on the order the datasets are supplied in future, please use the new\n",
      "`combine_nested` function (or the `combine='nested'` option to\n",
      "open_mfdataset).\n",
      "  from_openmfds=True,\n",
      "/apps/jupyterlab/2.1.4-py3.7/lib/python3.7/site-packages/ipykernel_launcher.py:3: FutureWarning: In xarray version 0.15 the default behaviour of `open_mfdataset`\n",
      "will change. To retain the existing behavior, pass\n",
      "combine='nested'. To use future default behavior, pass\n",
      "combine='by_coords'. See\n",
      "http://xarray.pydata.org/en/stable/combining.html#combining-multi\n",
      "\n",
      "  This is separate from the ipykernel package so we can avoid doing imports until\n",
      "/apps/xarray/0.15.1-py3.7/lib/python3.7/site-packages/xarray-0.15.1-py3.7.egg/xarray/backends/api.py:941: FutureWarning: The datasets supplied have global dimension coordinates. You may want\n",
      "to use the new `combine_by_coords` function (or the\n",
      "`combine='by_coords'` option to `open_mfdataset`) to order the datasets\n",
      "before concatenation. Alternatively, to continue concatenating based\n",
      "on the order the datasets are supplied in future, please use the new\n",
      "`combine_nested` function (or the `combine='nested'` option to\n",
      "open_mfdataset).\n",
      "  from_openmfds=True,\n",
      "/apps/jupyterlab/2.1.4-py3.7/lib/python3.7/site-packages/ipykernel_launcher.py:4: FutureWarning: In xarray version 0.15 the default behaviour of `open_mfdataset`\n",
      "will change. To retain the existing behavior, pass\n",
      "combine='nested'. To use future default behavior, pass\n",
      "combine='by_coords'. See\n",
      "http://xarray.pydata.org/en/stable/combining.html#combining-multi\n",
      "\n",
      "  after removing the cwd from sys.path.\n",
      "/apps/xarray/0.15.1-py3.7/lib/python3.7/site-packages/xarray-0.15.1-py3.7.egg/xarray/backends/api.py:941: FutureWarning: The datasets supplied have global dimension coordinates. You may want\n",
      "to use the new `combine_by_coords` function (or the\n",
      "`combine='by_coords'` option to `open_mfdataset`) to order the datasets\n",
      "before concatenation. Alternatively, to continue concatenating based\n",
      "on the order the datasets are supplied in future, please use the new\n",
      "`combine_nested` function (or the `combine='nested'` option to\n",
      "open_mfdataset).\n",
      "  from_openmfds=True,\n",
      "/apps/jupyterlab/2.1.4-py3.7/lib/python3.7/site-packages/ipykernel_launcher.py:5: FutureWarning: In xarray version 0.15 the default behaviour of `open_mfdataset`\n",
      "will change. To retain the existing behavior, pass\n",
      "combine='nested'. To use future default behavior, pass\n",
      "combine='by_coords'. See\n",
      "http://xarray.pydata.org/en/stable/combining.html#combining-multi\n",
      "\n",
      "  \"\"\"\n",
      "/apps/xarray/0.15.1-py3.7/lib/python3.7/site-packages/xarray-0.15.1-py3.7.egg/xarray/backends/api.py:941: FutureWarning: The datasets supplied have global dimension coordinates. You may want\n",
      "to use the new `combine_by_coords` function (or the\n",
      "`combine='by_coords'` option to `open_mfdataset`) to order the datasets\n",
      "before concatenation. Alternatively, to continue concatenating based\n",
      "on the order the datasets are supplied in future, please use the new\n",
      "`combine_nested` function (or the `combine='nested'` option to\n",
      "open_mfdataset).\n",
      "  from_openmfds=True,\n",
      "/apps/jupyterlab/2.1.4-py3.7/lib/python3.7/site-packages/ipykernel_launcher.py:6: FutureWarning: In xarray version 0.15 the default behaviour of `open_mfdataset`\n",
      "will change. To retain the existing behavior, pass\n",
      "combine='nested'. To use future default behavior, pass\n",
      "combine='by_coords'. See\n",
      "http://xarray.pydata.org/en/stable/combining.html#combining-multi\n",
      "\n",
      "  \n",
      "/apps/xarray/0.15.1-py3.7/lib/python3.7/site-packages/xarray-0.15.1-py3.7.egg/xarray/backends/api.py:941: FutureWarning: The datasets supplied have global dimension coordinates. You may want\n",
      "to use the new `combine_by_coords` function (or the\n",
      "`combine='by_coords'` option to `open_mfdataset`) to order the datasets\n",
      "before concatenation. Alternatively, to continue concatenating based\n",
      "on the order the datasets are supplied in future, please use the new\n",
      "`combine_nested` function (or the `combine='nested'` option to\n",
      "open_mfdataset).\n",
      "  from_openmfds=True,\n"
     ]
    }
   ],
   "source": [
    "#now do the same for ec-earth3\n",
    "T = xr.open_mfdataset('/g/data/e14/sm2435/CMIP6/EC-Earth3/lev_int/THETAO/*.nc').thetao\n",
    "U = xr.open_mfdataset('/g/data/e14/sm2435/CMIP6/EC-Earth3/lev_int/UO/*.nc').uo\n",
    "V = xr.open_mfdataset('/g/data/e14/sm2435/CMIP6/EC-Earth3/lev_int/VO/*.nc').vo\n",
    "W = xr.open_mfdataset('/g/data/e14/sm2435/CMIP6/EC-Earth3/lev_int/WO/*.nc').wo\n",
    "Q = xr.open_mfdataset('/g/data/e14/sm2435/CMIP6/EC-Earth3/EC-Earth3_HFDS.nc').hfds\n",
    "#get only to 50m\n",
    "T = T[:,:5]\n",
    "U = U[:,:5]\n",
    "V = V[:,:5]\n",
    "W = W[:,4]\n",
    "#now put lat lon of uvw to T\n",
    "U = U.assign_coords({'lat': T.lat, 'lon': T.lon})\n",
    "V = V.assign_coords({'lat': T.lat, 'lon': T.lon})\n",
    "W = W.assign_coords({'lat': T.lat, 'lon': T.lon})\n",
    "#rename lev coord to level\n",
    "T = T.rename({'lev':'level'})\n",
    "U = U.rename({'lev':'level'})\n",
    "V = V.rename({'lev':'level'})\n",
    "W = W.rename({'lev':'level'})"
   ]
  },
  {
   "cell_type": "code",
   "execution_count": 12,
   "metadata": {},
   "outputs": [],
   "source": [
    "dTdt, dTdx, dTdy, dTdz = diff_T(T)\n",
    "uadv, vadv, wadv = advection(U, V, W, dTdx, dTdy, dTdz)"
   ]
  },
  {
   "cell_type": "code",
   "execution_count": 13,
   "metadata": {},
   "outputs": [],
   "source": [
    "#calcualate weights of levels\n",
    "weightsE = get_weights(T)\n",
    "#now get wtd avg\n",
    "dTdt_w = weighted_avg(dTdt, weightsE)\n",
    "uw = weighted_avg(uadv, weightsE)\n",
    "vw = weighted_avg(vadv, weightsE)\n",
    "ww = wadv"
   ]
  },
  {
   "cell_type": "code",
   "execution_count": 14,
   "metadata": {},
   "outputs": [],
   "source": [
    "qnet = (Q/(3986*1026*50))"
   ]
  },
  {
   "cell_type": "code",
   "execution_count": 15,
   "metadata": {},
   "outputs": [],
   "source": [
    "#now calcaulte cliamotlogy of terms\n",
    "dT_c = dTdt_w.groupby('time.month').mean('time')\n",
    "u_c = uw.groupby('time.month').mean('time')\n",
    "v_c = vw.groupby('time.month').mean('time')\n",
    "w_c = ww.groupby('time.month').mean('time')\n",
    "q_c = qnet.groupby('time.month').mean('time')"
   ]
  },
  {
   "cell_type": "code",
   "execution_count": 16,
   "metadata": {},
   "outputs": [
    {
     "name": "stderr",
     "output_type": "stream",
     "text": [
      "/apps/dask/2.19.0-py3.7/lib/python3.7/site-packages/dask/array/numpy_compat.py:40: RuntimeWarning: invalid value encountered in true_divide\n",
      "  x = np.divide(x1, x2, out)\n",
      "/apps/dask/2.19.0-py3.7/lib/python3.7/site-packages/dask/array/numpy_compat.py:40: RuntimeWarning: invalid value encountered in true_divide\n",
      "  x = np.divide(x1, x2, out)\n",
      "/apps/dask/2.19.0-py3.7/lib/python3.7/site-packages/dask/array/numpy_compat.py:40: RuntimeWarning: invalid value encountered in true_divide\n",
      "  x = np.divide(x1, x2, out)\n",
      "/apps/dask/2.19.0-py3.7/lib/python3.7/site-packages/dask/array/numpy_compat.py:40: RuntimeWarning: invalid value encountered in true_divide\n",
      "  x = np.divide(x1, x2, out)\n",
      "/apps/dask/2.19.0-py3.7/lib/python3.7/site-packages/dask/array/numpy_compat.py:40: RuntimeWarning: invalid value encountered in true_divide\n",
      "  x = np.divide(x1, x2, out)\n"
     ]
    }
   ],
   "source": [
    "#now convert to netcdf\n",
    "dT_c.to_netcdf('/g/data/e14/sm2435/ECt.nc')\n",
    "u_c.to_netcdf('/g/data/e14/sm2435/ECu.nc')\n",
    "v_c.to_netcdf('/g/data/e14/sm2435/ECv.nc')\n",
    "w_c.to_netcdf('/g/data/e14/sm2435/ECw.nc')\n",
    "q_c.to_netcdf('/g/data/e14/sm2435/ECq.nc')"
   ]
  },
  {
   "cell_type": "code",
   "execution_count": 17,
   "metadata": {
    "scrolled": true
   },
   "outputs": [
    {
     "name": "stderr",
     "output_type": "stream",
     "text": [
      "/apps/jupyterlab/2.1.4-py3.7/lib/python3.7/site-packages/ipykernel_launcher.py:2: FutureWarning: In xarray version 0.15 the default behaviour of `open_mfdataset`\n",
      "will change. To retain the existing behavior, pass\n",
      "combine='nested'. To use future default behavior, pass\n",
      "combine='by_coords'. See\n",
      "http://xarray.pydata.org/en/stable/combining.html#combining-multi\n",
      "\n",
      "  \n",
      "/apps/xarray/0.15.1-py3.7/lib/python3.7/site-packages/xarray-0.15.1-py3.7.egg/xarray/backends/api.py:941: FutureWarning: The datasets supplied have global dimension coordinates. You may want\n",
      "to use the new `combine_by_coords` function (or the\n",
      "`combine='by_coords'` option to `open_mfdataset`) to order the datasets\n",
      "before concatenation. Alternatively, to continue concatenating based\n",
      "on the order the datasets are supplied in future, please use the new\n",
      "`combine_nested` function (or the `combine='nested'` option to\n",
      "open_mfdataset).\n",
      "  from_openmfds=True,\n",
      "/apps/jupyterlab/2.1.4-py3.7/lib/python3.7/site-packages/ipykernel_launcher.py:3: FutureWarning: In xarray version 0.15 the default behaviour of `open_mfdataset`\n",
      "will change. To retain the existing behavior, pass\n",
      "combine='nested'. To use future default behavior, pass\n",
      "combine='by_coords'. See\n",
      "http://xarray.pydata.org/en/stable/combining.html#combining-multi\n",
      "\n",
      "  This is separate from the ipykernel package so we can avoid doing imports until\n",
      "/apps/xarray/0.15.1-py3.7/lib/python3.7/site-packages/xarray-0.15.1-py3.7.egg/xarray/backends/api.py:941: FutureWarning: The datasets supplied have global dimension coordinates. You may want\n",
      "to use the new `combine_by_coords` function (or the\n",
      "`combine='by_coords'` option to `open_mfdataset`) to order the datasets\n",
      "before concatenation. Alternatively, to continue concatenating based\n",
      "on the order the datasets are supplied in future, please use the new\n",
      "`combine_nested` function (or the `combine='nested'` option to\n",
      "open_mfdataset).The datasets supplied require both concatenation and merging. From\n",
      "xarray version 0.15 this will operation will require either using the\n",
      "new `combine_nested` function (or the `combine='nested'` option to\n",
      "open_mfdataset), with a nested list structure such that you can combine\n",
      "along the dimensions None. Alternatively if your datasets have global\n",
      "dimension coordinates then you can use the new `combine_by_coords`\n",
      "function.\n",
      "  from_openmfds=True,\n"
     ]
    }
   ],
   "source": [
    "#load in wind data and create climatology\n",
    "UA = xr.open_mfdataset('/g/data/e14/sm2435/CMIP6/EC-Earth3/UAS/*.nc')\n",
    "VA = xr.open_mfdataset('/g/data/e14/sm2435/CMIP6/EC-Earth3/VAS/*.nc')"
   ]
  },
  {
   "cell_type": "code",
   "execution_count": 18,
   "metadata": {},
   "outputs": [],
   "source": [
    "#now calculate climatology of winds\n",
    "UAC = UA.uas.groupby('time.month').mean('time')\n",
    "VAC = VA.vas.groupby('time.month').mean('time')"
   ]
  },
  {
   "cell_type": "code",
   "execution_count": 19,
   "metadata": {},
   "outputs": [],
   "source": [
    "UAC.to_netcdf('/g/data/e14/sm2435/Ewind_u.nc')\n",
    "VAC.to_netcdf('/g/data/e14/sm2435/Ewind_v.nc')"
   ]
  },
  {
   "cell_type": "code",
   "execution_count": 20,
   "metadata": {},
   "outputs": [],
   "source": [
    "#load in obs U,v\n",
    "NU = xr.open_dataset('/g/data/e14/sm2435/GODAS/uwnd.10m.mon.mean.nc')\n",
    "NV = xr.open_dataset('/g/data/e14/sm2435/GODAS/vwnd.10m.mon.mean.nc')\n"
   ]
  },
  {
   "cell_type": "code",
   "execution_count": 21,
   "metadata": {},
   "outputs": [],
   "source": [
    "NUC = NU.uwnd.groupby('time.month').mean('time')\n",
    "NVC = NV.vwnd.groupby('time.month').mean('time')"
   ]
  },
  {
   "cell_type": "code",
   "execution_count": 22,
   "metadata": {},
   "outputs": [],
   "source": [
    "#convert to netcdf\n",
    "NUC.to_netcdf('/g/data/e14/sm2435/OBSwind_u.nc')\n",
    "NVC.to_netcdf('/g/data/e14/sm2435/OBSwind_v.nc')"
   ]
  },
  {
   "cell_type": "code",
   "execution_count": 23,
   "metadata": {},
   "outputs": [],
   "source": [
    "#decompose advection terms to see where the bias is coming from - temp or current\n",
    "#GODAS\n",
    "dTdxgw = weighted_avg(dTdxg, weights)\n",
    "dTdygw = weighted_avg(dTdyg, weights)\n",
    "\n",
    "gUw = weighted_avg(gU, weights)\n",
    "gVw = weighted_avg(gV, weights)\n"
   ]
  },
  {
   "cell_type": "code",
   "execution_count": 24,
   "metadata": {},
   "outputs": [],
   "source": [
    "#EC-earth\n",
    "dTdxw = weighted_avg(dTdx, weightsE)\n",
    "dTdyw = weighted_avg(dTdy, weightsE)\n",
    "\n",
    "Uw = weighted_avg(U, weightsE)\n",
    "Vw = weighted_avg(V, weightsE)\n"
   ]
  },
  {
   "cell_type": "code",
   "execution_count": 25,
   "metadata": {},
   "outputs": [],
   "source": [
    "#now get climatology of these terms\n",
    "dxC = dTdxw.groupby('time.month').mean('time')\n",
    "dyC = dTdyw.groupby('time.month').mean('time')\n",
    "dzC = dTdz.groupby('time.month').mean('time')\n",
    "uC = Uw.groupby('time.month').mean('time')\n",
    "vC = Vw.groupby('time.month').mean('time')\n",
    "wC = W.groupby('time.month').mean('time')\n",
    "\n",
    "dxgC = dTdxgw.groupby('time.month').mean('time')\n",
    "dygC = dTdygw.groupby('time.month').mean('time')\n",
    "dzgC = dTdzg.groupby('time.month').mean('time')\n",
    "ugC = gUw.groupby('time.month').mean('time')\n",
    "vgC = gVw.groupby('time.month').mean('time')\n",
    "wgC = gW.groupby('time.month').mean('time')\n"
   ]
  },
  {
   "cell_type": "code",
   "execution_count": 26,
   "metadata": {},
   "outputs": [],
   "source": [
    "#now calcualte the difference in each term\n",
    "ddx = dxgC - dxC\n",
    "ddy = dygC - dyC\n",
    "ddz = dzgC - dzC\n",
    "du = ugC - uC\n",
    "dv = vgC - vC\n",
    "dw = wgC - wC"
   ]
  },
  {
   "cell_type": "code",
   "execution_count": 27,
   "metadata": {},
   "outputs": [
    {
     "name": "stderr",
     "output_type": "stream",
     "text": [
      "/apps/dask/2.19.0-py3.7/lib/python3.7/site-packages/dask/array/numpy_compat.py:40: RuntimeWarning: invalid value encountered in true_divide\n",
      "  x = np.divide(x1, x2, out)\n",
      "/apps/dask/2.19.0-py3.7/lib/python3.7/site-packages/dask/array/numpy_compat.py:40: RuntimeWarning: invalid value encountered in true_divide\n",
      "  x = np.divide(x1, x2, out)\n",
      "/apps/dask/2.19.0-py3.7/lib/python3.7/site-packages/dask/array/numpy_compat.py:40: RuntimeWarning: invalid value encountered in true_divide\n",
      "  x = np.divide(x1, x2, out)\n",
      "/apps/dask/2.19.0-py3.7/lib/python3.7/site-packages/dask/array/numpy_compat.py:40: RuntimeWarning: invalid value encountered in true_divide\n",
      "  x = np.divide(x1, x2, out)\n",
      "/apps/dask/2.19.0-py3.7/lib/python3.7/site-packages/dask/array/numpy_compat.py:40: RuntimeWarning: invalid value encountered in true_divide\n",
      "  x = np.divide(x1, x2, out)\n",
      "/apps/dask/2.19.0-py3.7/lib/python3.7/site-packages/dask/array/numpy_compat.py:40: RuntimeWarning: invalid value encountered in true_divide\n",
      "  x = np.divide(x1, x2, out)\n"
     ]
    }
   ],
   "source": [
    "#convert to netcdf\n",
    "ddx.to_netcdf('/g/data/e14/sm2435/ddtdx.nc')\n",
    "ddy.to_netcdf('/g/data/e14/sm2435/ddtdy.nc')\n",
    "ddz.to_netcdf('/g/data/e14/sm2435/ddtdz.nc')\n",
    "du.to_netcdf('/g/data/e14/sm2435/du.nc')\n",
    "dv.to_netcdf('/g/data/e14/sm2435/dv.nc')\n",
    "dw.to_netcdf('/g/data/e14/sm2435/dw.nc')"
   ]
  },
  {
   "cell_type": "code",
   "execution_count": null,
   "metadata": {},
   "outputs": [],
   "source": []
  }
 ],
 "metadata": {
  "kernelspec": {
   "display_name": "Python 3",
   "language": "python",
   "name": "python3"
  },
  "language_info": {
   "codemirror_mode": {
    "name": "ipython",
    "version": 3
   },
   "file_extension": ".py",
   "mimetype": "text/x-python",
   "name": "python",
   "nbconvert_exporter": "python",
   "pygments_lexer": "ipython3",
   "version": "3.7.4"
  }
 },
 "nbformat": 4,
 "nbformat_minor": 4
}
