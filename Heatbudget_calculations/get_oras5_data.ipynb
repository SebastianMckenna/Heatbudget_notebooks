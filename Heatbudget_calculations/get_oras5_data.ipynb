{
 "cells": [
  {
   "cell_type": "code",
   "execution_count": null,
   "metadata": {},
   "outputs": [],
   "source": [
    "#process ORAS5 data to heat budget variables"
   ]
  },
  {
   "cell_type": "code",
   "execution_count": 2,
   "metadata": {},
   "outputs": [],
   "source": [
    "import xarray as xr\n",
    "from HeatBudget_oras5 import *\n",
    "import xarray as xr\n",
    "import dask\n",
    "import numpy as np\n",
    "import scipy\n",
    "import os\n",
    "from pathlib import Path\n",
    "import traceback"
   ]
  },
  {
   "cell_type": "code",
   "execution_count": 1,
   "metadata": {},
   "outputs": [],
   "source": [
    "#loop to go through data folders. Do this in try except so that we know if/when somehting has failed, but the script will keep on running\n",
    "ORAS5_dir = '/home/z5113258/Documents/ORAS5/'\n",
    "outdir = '/home/z5113258/Documents/data/CMIP6_HB/ORAS5/'\n",
    "\n",
    "\n",
    "#get Qnet term\n",
    "theta = 'votemper_70/*.nc'\n",
    "uo = 'vozocrte_70/*.nc'\n",
    "vo = 'vomecrtn_70/*.nc'\n",
    "q = 'sohefldo_surf/*.nc'\n",
    "\n"
   ]
  },
  {
   "cell_type": "code",
   "execution_count": 3,
   "metadata": {},
   "outputs": [
    {
     "name": "stdout",
     "output_type": "stream",
     "text": [
      "calc Qnet\n",
      "finish qnet, save output\n"
     ]
    },
    {
     "name": "stderr",
     "output_type": "stream",
     "text": [
      "/home/z5113258/anaconda3/lib/python3.8/site-packages/dask/array/numpy_compat.py:41: RuntimeWarning: invalid value encountered in true_divide\n",
      "  x = np.divide(x1, x2, out)\n"
     ]
    },
    {
     "name": "stdout",
     "output_type": "stream",
     "text": [
      "qnet advection saved to  /home/z5113258/Documents/ORAS5/HB/qnet_clim.nc\n"
     ]
    }
   ],
   "source": [
    "#input file\n",
    "q_files = (os.path.join(ORAS5_dir, q))\n",
    "#create file output location if it doesn't exist\n",
    "out_loc = outdir\n",
    "Path(out_loc).mkdir(parents=True, exist_ok=True)\n",
    "try:\n",
    "    #calculate temperature tendency\n",
    "    print('calc Qnet')\n",
    "    qnet = get_qnet(q_files)\n",
    "    print('finish qnet, save output')\n",
    "    #save output as netcdf file\n",
    "    qnet.to_netcdf(os.path.join(out_loc, 'qnet_clim.nc'))\n",
    "    print('qnet advection saved to ', os.path.join(out_loc, 'qnet_clim.nc'))\n",
    "except Exception as e:\n",
    "    print(e)\n",
    "    traceback.print_exc()\n",
    "    pass\n"
   ]
  },
  {
   "cell_type": "code",
   "execution_count": 4,
   "metadata": {
    "scrolled": true
   },
   "outputs": [
    {
     "name": "stdout",
     "output_type": "stream",
     "text": [
      "calc dtdt\n",
      "finish qnet, save output\n",
      "dtdt advection saved to  /home/z5113258/Documents/ORAS5/HB/dtdt_clim.nc\n"
     ]
    },
    {
     "name": "stderr",
     "output_type": "stream",
     "text": [
      "/home/z5113258/anaconda3/lib/python3.8/site-packages/dask/array/numpy_compat.py:41: RuntimeWarning: invalid value encountered in true_divide\n",
      "  x = np.divide(x1, x2, out)\n"
     ]
    }
   ],
   "source": [
    "#input file\n",
    "t_files = (os.path.join(ORAS5_dir, theta))\n",
    "#create file output location if it doesn't exist\n",
    "out_loc = outdir\n",
    "Path(out_loc).mkdir(parents=True, exist_ok=True)\n",
    "try:\n",
    "    #calculate temperature tendency\n",
    "    print('calc dtdt')\n",
    "    dTdt = get_temp_tendency(t_files)\n",
    "    print('finish qnet, save output')\n",
    "    #save output as netcdf file\n",
    "    dTdt.to_netcdf(os.path.join(out_loc, 'dtdt_clim.nc'))\n",
    "    print('dtdt advection saved to ', os.path.join(out_loc, 'dtdt_clim.nc'))\n",
    "except Exception as e:\n",
    "    print(e)\n",
    "    traceback.print_exc()\n",
    "    pass\n"
   ]
  },
  {
   "cell_type": "code",
   "execution_count": 5,
   "metadata": {},
   "outputs": [
    {
     "name": "stdout",
     "output_type": "stream",
     "text": [
      "calc dtdt\n",
      "finish qnet, save output\n"
     ]
    },
    {
     "name": "stderr",
     "output_type": "stream",
     "text": [
      "/home/z5113258/anaconda3/lib/python3.8/site-packages/dask/array/numpy_compat.py:41: RuntimeWarning: invalid value encountered in true_divide\n",
      "  x = np.divide(x1, x2, out)\n"
     ]
    },
    {
     "name": "stdout",
     "output_type": "stream",
     "text": [
      "dtdt advection saved to  /home/z5113258/Documents/ORAS5/HB/uadv_clim.nc\n"
     ]
    }
   ],
   "source": [
    "#input file\n",
    "t_files = (os.path.join(ORAS5_dir, theta))\n",
    "u_files = (os.path.join(ORAS5_dir, uo))\n",
    "#create file output location if it doesn't exist\n",
    "out_loc = outdir\n",
    "Path(out_loc).mkdir(parents=True, exist_ok=True)\n",
    "try:\n",
    "    #calculate temperature tendency\n",
    "    print('calc dtdt')\n",
    "    uadv = get_uadv(u_files, t_files)\n",
    "    print('finish qnet, save output')\n",
    "    #save output as netcdf file\n",
    "    uadv.to_netcdf(os.path.join(out_loc, 'uadv_clim.nc'))\n",
    "    print('dtdt advection saved to ', os.path.join(out_loc, 'uadv_clim.nc'))\n",
    "except Exception as e:\n",
    "    print(e)\n",
    "    traceback.print_exc()\n",
    "    pass\n"
   ]
  },
  {
   "cell_type": "code",
   "execution_count": 5,
   "metadata": {},
   "outputs": [
    {
     "name": "stdout",
     "output_type": "stream",
     "text": [
      "calc dtdt\n",
      "finish qnet, save output\n"
     ]
    },
    {
     "name": "stderr",
     "output_type": "stream",
     "text": [
      "/home/z5113258/anaconda3/lib/python3.8/site-packages/dask/array/numpy_compat.py:41: RuntimeWarning: invalid value encountered in true_divide\n",
      "  x = np.divide(x1, x2, out)\n"
     ]
    },
    {
     "name": "stdout",
     "output_type": "stream",
     "text": [
      "dtdt advection saved to  /home/z5113258/Documents/ORAS5/HB/vadv_clim.nc\n"
     ]
    }
   ],
   "source": [
    "#input file\n",
    "t_files = (os.path.join(ORAS5_dir, theta))\n",
    "v_files = (os.path.join(ORAS5_dir, vo))\n",
    "#create file output location if it doesn't exist\n",
    "out_loc = outdir\n",
    "Path(out_loc).mkdir(parents=True, exist_ok=True)\n",
    "try:\n",
    "    #calculate temperature tendency\n",
    "    print('calc dtdt')\n",
    "    vadv = get_vadv(v_files, t_files)\n",
    "    print('finish qnet, save output')\n",
    "    #save output as netcdf file\n",
    "    vadv.to_netcdf(os.path.join(out_loc, 'vadv_clim.nc'))\n",
    "    print('dtdt advection saved to ', os.path.join(out_loc, 'vadv_clim.nc'))\n",
    "except Exception as e:\n",
    "    print(e)\n",
    "    traceback.print_exc()\n",
    "    pass"
   ]
  },
  {
   "cell_type": "code",
   "execution_count": 3,
   "metadata": {},
   "outputs": [
    {
     "name": "stdout",
     "output_type": "stream",
     "text": [
      "calc dtdt\n",
      "finish qnet, save output\n"
     ]
    },
    {
     "name": "stderr",
     "output_type": "stream",
     "text": [
      "/home/z5113258/anaconda3/lib/python3.8/site-packages/dask/array/numpy_compat.py:41: RuntimeWarning: invalid value encountered in true_divide\n",
      "  x = np.divide(x1, x2, out)\n"
     ]
    },
    {
     "name": "stdout",
     "output_type": "stream",
     "text": [
      "dtdt advection saved to  /home/z5113258/Documents/ORAS5/HB/wadv_clim.nc\n"
     ]
    }
   ],
   "source": [
    "#input file\n",
    "t_files = (os.path.join(ORAS5_dir, theta))\n",
    "v_files = (os.path.join(ORAS5_dir, vo))\n",
    "u_files = (os.path.join(ORAS5_dir, uo))\n",
    "#create file output location if it doesn't exist\n",
    "out_loc = outdir\n",
    "Path(out_loc).mkdir(parents=True, exist_ok=True)\n",
    "try:\n",
    "    #calculate temperature tendency\n",
    "    print('calc dtdt')\n",
    "    wadv = get_wadv_cont(u_files, v_files, t_files)\n",
    "    print('finish qnet, save output')\n",
    "    #save output as netcdf file\n",
    "    wadv.to_netcdf(os.path.join(out_loc, 'wadv_clim.nc'))\n",
    "    print('dtdt advection saved to ', os.path.join(out_loc, 'wadv_clim.nc'))\n",
    "except Exception as e:\n",
    "    print(e)\n",
    "    traceback.print_exc()\n",
    "    pass"
   ]
  },
  {
   "cell_type": "code",
   "execution_count": 4,
   "metadata": {},
   "outputs": [
    {
     "name": "stdout",
     "output_type": "stream",
     "text": [
      "calc currs and grads\n",
      "finish calcs, save output\n"
     ]
    },
    {
     "name": "stderr",
     "output_type": "stream",
     "text": [
      "/home/z5113258/anaconda3/lib/python3.8/site-packages/dask/array/numpy_compat.py:41: RuntimeWarning: invalid value encountered in true_divide\n",
      "  x = np.divide(x1, x2, out)\n",
      "/home/z5113258/anaconda3/lib/python3.8/site-packages/dask/array/numpy_compat.py:41: RuntimeWarning: invalid value encountered in true_divide\n",
      "  x = np.divide(x1, x2, out)\n",
      "/home/z5113258/anaconda3/lib/python3.8/site-packages/dask/array/numpy_compat.py:41: RuntimeWarning: invalid value encountered in true_divide\n",
      "  x = np.divide(x1, x2, out)\n"
     ]
    },
    {
     "name": "stdout",
     "output_type": "stream",
     "text": [
      "outs_saved\n"
     ]
    }
   ],
   "source": [
    "#input file\n",
    "t_files = (os.path.join(ORAS5_dir, theta))\n",
    "v_files = (os.path.join(ORAS5_dir, vo))\n",
    "u_files = (os.path.join(ORAS5_dir, uo))\n",
    "#create file output location if it doesn't exist\n",
    "out_loc = outdir\n",
    "Path(out_loc).mkdir(parents=True, exist_ok=True)\n",
    "try:\n",
    "    #calculate temperature tendency\n",
    "    print('calc currs and grads')\n",
    "    T = load_T(t_files)\n",
    "    U = load_U(u_files).groupby('time.month').mean('time')\n",
    "    V = load_V(v_files).groupby('time.month').mean('time')\n",
    "    W = calc_w_no_w(u_files, v_files).groupby('time.month').mean('time')\n",
    "    W = W.interp(lev=50)\n",
    "    dx = T_xgrad(T).groupby('time.month').mean('time')\n",
    "    dy = T_ygrad(T).groupby('time.month').mean('time')\n",
    "    dz = T_zgrad(T).groupby('time.month').mean('time')\n",
    "    U = weighted_avg(U)\n",
    "    V = weighted_avg(V)\n",
    "    dx = weighted_avg(dx)\n",
    "    dy = weighted_avg(dy)\n",
    "    print('finish calcs, save output')\n",
    "    #save output as netcdf file\n",
    "    U.to_netcdf(os.path.join(out_loc, 'ORAS5_ucur.nc'))\n",
    "    V.to_netcdf(os.path.join(out_loc, 'ORAS5_vcur.nc'))\n",
    "    W.to_netcdf(os.path.join(out_loc, 'ORAS5_wcur.nc'))\n",
    "    dx.to_netcdf(os.path.join(out_loc, 'ORAS5_dtx.nc'))\n",
    "    dy.to_netcdf(os.path.join(out_loc, 'ORAS5_dty.nc'))\n",
    "    dz.to_netcdf(os.path.join(out_loc, 'ORAS5_dtz.nc'))\n",
    "    print('outs_saved')\n",
    "except Exception as e:\n",
    "    print(e)\n",
    "    traceback.print_exc()\n",
    "    pass"
   ]
  },
  {
   "cell_type": "code",
   "execution_count": null,
   "metadata": {},
   "outputs": [],
   "source": []
  },
  {
   "cell_type": "code",
   "execution_count": null,
   "metadata": {},
   "outputs": [],
   "source": []
  },
  {
   "cell_type": "code",
   "execution_count": 6,
   "metadata": {},
   "outputs": [],
   "source": [
    "#retry W advection manually"
   ]
  },
  {
   "cell_type": "code",
   "execution_count": 3,
   "metadata": {},
   "outputs": [],
   "source": [
    "#make functions for getting w advection\n",
    "U = xr.open_mfdataset(str(ORAS5_dir+uo), parallel=True).vozocrte.rename({'time_counter':'time', 'deptht':'lev'})\n",
    "\n",
    "#subset spatially\n",
    "U = U.sel(lat=slice(-40,30),lon=slice(30,125))\n",
    "#subset time\n",
    "U = U.sel(time= slice('1950', '2015'))\n",
    "#set land values to 0\n",
    "U = U.fillna(0)\n",
    "    \n",
    "    \n",
    "#load in U\n",
    "V = xr.open_mfdataset(str(ORAS5_dir+vo), parallel=True).vomecrtn.rename({'time_counter':'time', 'deptht':'lev'})\n",
    "#subset spatially\n",
    "V = V.sel(lat=slice(-40,30),lon=slice(30,125))\n",
    "#subset time\n",
    "V = V.sel(time= slice('1950', '2015'))\n",
    "#set land values to 0\n",
    "V = V.fillna(0)\n",
    "\n",
    "\n",
    "dudx = U.differentiate(coord = 'lon') / (110e3 * np.cos(U.lat * np.pi / 180))\n",
    "dvdy = V.differentiate(coord='lat') / (110e3)\n",
    "    "
   ]
  },
  {
   "cell_type": "code",
   "execution_count": 4,
   "metadata": {},
   "outputs": [],
   "source": [
    "T_lay = U.lev\n",
    "lay_bot=np.array([0.])\n",
    "for i in range(len(T_lay.values)):\n",
    "    thickness = 2*T_lay.values[i]-lay_bot[i]\n",
    "    lay_bot = np.insert(lay_bot,i+1,thickness)\n",
    "lay_bot = lay_bot[1:]"
   ]
  },
  {
   "cell_type": "code",
   "execution_count": 5,
   "metadata": {},
   "outputs": [
    {
     "data": {
      "text/plain": [
       "array([ 1.01152003,  2.10019052,  3.23517287,  4.47738683,  5.80333579,\n",
       "        7.28273141,  8.9023062 , 10.74319398, 12.80416548, 15.17791116,\n",
       "       17.87273276, 20.98687112, 24.52836096, 28.58823907, 33.16088355,\n",
       "       38.31952417, 44.04052222, 50.38326776, 57.3180033 , 64.90767419,\n",
       "       73.13569129])"
      ]
     },
     "execution_count": 5,
     "metadata": {},
     "output_type": "execute_result"
    }
   ],
   "source": [
    "lay_bot"
   ]
  },
  {
   "cell_type": "code",
   "execution_count": 13,
   "metadata": {},
   "outputs": [],
   "source": [
    "w_list = []\n",
    "for i, j in enumerate(lay_bot):\n",
    "    if i == 0:\n",
    "        w = (dudx[:,i]*j + dvdy[:,i]*j)\n",
    "        #add to new DataArray with vertical coords put in\n",
    "        w = w.assign_coords({'lev': lay_bot[i]})\n",
    "        w_list.append(w)\n",
    "    else:\n",
    "        l = (dudx[:,i]*j + dvdy[:,i]*j) + w_list[i-1]\n",
    "        w = l.assign_coords({'lev': lay_bot[i]})\n",
    "        w_list.append(w)\n",
    "#now put all layers into one array\n",
    "w = xr.concat(w_list, dim = 'lev')"
   ]
  },
  {
   "cell_type": "code",
   "execution_count": 7,
   "metadata": {},
   "outputs": [
    {
     "name": "stdout",
     "output_type": "stream",
     "text": [
      "-1.0115200281143188\n",
      "-1.0886704921722412\n",
      "-1.1349823474884033\n",
      "-1.2422139644622803\n",
      "-1.32594895362854\n",
      "-1.4793956279754639\n",
      "-1.619574785232544\n",
      "-1.8408877849578857\n",
      "-2.06097149848938\n",
      "-2.3737456798553467\n",
      "-2.69482159614563\n",
      "-3.11413836479187\n",
      "-3.541489839553833\n",
      "-4.05987811088562\n",
      "-4.572644472122192\n",
      "-5.158640623092651\n",
      "-5.720998048782349\n",
      "-6.342745542526245\n",
      "-6.934735536575317\n",
      "-7.589670896530151\n",
      "-8.228017091751099\n"
     ]
    }
   ],
   "source": [
    "w_list = []\n",
    "for i, j in enumerate(lay_bot):\n",
    "    if i == 0:\n",
    "        dz = 0 - j\n",
    "        print(dz)\n",
    "        w = (dudx[:,i] + dvdy[:,i])*-dz\n",
    "        #add to new DataArray with vertical coords put in\n",
    "        w = w.assign_coords({'lev': lay_bot[i]})\n",
    "        w_list.append(w)\n",
    "    else:\n",
    "        dz = lay_bot[i-1] - j\n",
    "        print(dz)\n",
    "        l = (dudx[:,i] + dvdy[:,i])*-dz + w_list[i-1]\n",
    "        w = l.assign_coords({'lev': lay_bot[i]})\n",
    "        w_list.append(w)\n",
    "#now put all layers into one array\n",
    "w2 = xr.concat(w_list, dim = 'lev')"
   ]
  },
  {
   "cell_type": "code",
   "execution_count": 14,
   "metadata": {},
   "outputs": [
    {
     "data": {
      "text/html": [
       "<div><svg style=\"position: absolute; width: 0; height: 0; overflow: hidden\">\n",
       "<defs>\n",
       "<symbol id=\"icon-database\" viewBox=\"0 0 32 32\">\n",
       "<path d=\"M16 0c-8.837 0-16 2.239-16 5v4c0 2.761 7.163 5 16 5s16-2.239 16-5v-4c0-2.761-7.163-5-16-5z\"></path>\n",
       "<path d=\"M16 17c-8.837 0-16-2.239-16-5v6c0 2.761 7.163 5 16 5s16-2.239 16-5v-6c0 2.761-7.163 5-16 5z\"></path>\n",
       "<path d=\"M16 26c-8.837 0-16-2.239-16-5v6c0 2.761 7.163 5 16 5s16-2.239 16-5v-6c0 2.761-7.163 5-16 5z\"></path>\n",
       "</symbol>\n",
       "<symbol id=\"icon-file-text2\" viewBox=\"0 0 32 32\">\n",
       "<path d=\"M28.681 7.159c-0.694-0.947-1.662-2.053-2.724-3.116s-2.169-2.030-3.116-2.724c-1.612-1.182-2.393-1.319-2.841-1.319h-15.5c-1.378 0-2.5 1.121-2.5 2.5v27c0 1.378 1.122 2.5 2.5 2.5h23c1.378 0 2.5-1.122 2.5-2.5v-19.5c0-0.448-0.137-1.23-1.319-2.841zM24.543 5.457c0.959 0.959 1.712 1.825 2.268 2.543h-4.811v-4.811c0.718 0.556 1.584 1.309 2.543 2.268zM28 29.5c0 0.271-0.229 0.5-0.5 0.5h-23c-0.271 0-0.5-0.229-0.5-0.5v-27c0-0.271 0.229-0.5 0.5-0.5 0 0 15.499-0 15.5 0v7c0 0.552 0.448 1 1 1h7v19.5z\"></path>\n",
       "<path d=\"M23 26h-14c-0.552 0-1-0.448-1-1s0.448-1 1-1h14c0.552 0 1 0.448 1 1s-0.448 1-1 1z\"></path>\n",
       "<path d=\"M23 22h-14c-0.552 0-1-0.448-1-1s0.448-1 1-1h14c0.552 0 1 0.448 1 1s-0.448 1-1 1z\"></path>\n",
       "<path d=\"M23 18h-14c-0.552 0-1-0.448-1-1s0.448-1 1-1h14c0.552 0 1 0.448 1 1s-0.448 1-1 1z\"></path>\n",
       "</symbol>\n",
       "</defs>\n",
       "</svg>\n",
       "<style>/* CSS stylesheet for displaying xarray objects in jupyterlab.\n",
       " *\n",
       " */\n",
       "\n",
       ":root {\n",
       "  --xr-font-color0: var(--jp-content-font-color0, rgba(0, 0, 0, 1));\n",
       "  --xr-font-color2: var(--jp-content-font-color2, rgba(0, 0, 0, 0.54));\n",
       "  --xr-font-color3: var(--jp-content-font-color3, rgba(0, 0, 0, 0.38));\n",
       "  --xr-border-color: var(--jp-border-color2, #e0e0e0);\n",
       "  --xr-disabled-color: var(--jp-layout-color3, #bdbdbd);\n",
       "  --xr-background-color: var(--jp-layout-color0, white);\n",
       "  --xr-background-color-row-even: var(--jp-layout-color1, white);\n",
       "  --xr-background-color-row-odd: var(--jp-layout-color2, #eeeeee);\n",
       "}\n",
       "\n",
       "html[theme=dark],\n",
       "body.vscode-dark {\n",
       "  --xr-font-color0: rgba(255, 255, 255, 1);\n",
       "  --xr-font-color2: rgba(255, 255, 255, 0.54);\n",
       "  --xr-font-color3: rgba(255, 255, 255, 0.38);\n",
       "  --xr-border-color: #1F1F1F;\n",
       "  --xr-disabled-color: #515151;\n",
       "  --xr-background-color: #111111;\n",
       "  --xr-background-color-row-even: #111111;\n",
       "  --xr-background-color-row-odd: #313131;\n",
       "}\n",
       "\n",
       ".xr-wrap {\n",
       "  display: block;\n",
       "  min-width: 300px;\n",
       "  max-width: 700px;\n",
       "}\n",
       "\n",
       ".xr-text-repr-fallback {\n",
       "  /* fallback to plain text repr when CSS is not injected (untrusted notebook) */\n",
       "  display: none;\n",
       "}\n",
       "\n",
       ".xr-header {\n",
       "  padding-top: 6px;\n",
       "  padding-bottom: 6px;\n",
       "  margin-bottom: 4px;\n",
       "  border-bottom: solid 1px var(--xr-border-color);\n",
       "}\n",
       "\n",
       ".xr-header > div,\n",
       ".xr-header > ul {\n",
       "  display: inline;\n",
       "  margin-top: 0;\n",
       "  margin-bottom: 0;\n",
       "}\n",
       "\n",
       ".xr-obj-type,\n",
       ".xr-array-name {\n",
       "  margin-left: 2px;\n",
       "  margin-right: 10px;\n",
       "}\n",
       "\n",
       ".xr-obj-type {\n",
       "  color: var(--xr-font-color2);\n",
       "}\n",
       "\n",
       ".xr-sections {\n",
       "  padding-left: 0 !important;\n",
       "  display: grid;\n",
       "  grid-template-columns: 150px auto auto 1fr 20px 20px;\n",
       "}\n",
       "\n",
       ".xr-section-item {\n",
       "  display: contents;\n",
       "}\n",
       "\n",
       ".xr-section-item input {\n",
       "  display: none;\n",
       "}\n",
       "\n",
       ".xr-section-item input + label {\n",
       "  color: var(--xr-disabled-color);\n",
       "}\n",
       "\n",
       ".xr-section-item input:enabled + label {\n",
       "  cursor: pointer;\n",
       "  color: var(--xr-font-color2);\n",
       "}\n",
       "\n",
       ".xr-section-item input:enabled + label:hover {\n",
       "  color: var(--xr-font-color0);\n",
       "}\n",
       "\n",
       ".xr-section-summary {\n",
       "  grid-column: 1;\n",
       "  color: var(--xr-font-color2);\n",
       "  font-weight: 500;\n",
       "}\n",
       "\n",
       ".xr-section-summary > span {\n",
       "  display: inline-block;\n",
       "  padding-left: 0.5em;\n",
       "}\n",
       "\n",
       ".xr-section-summary-in:disabled + label {\n",
       "  color: var(--xr-font-color2);\n",
       "}\n",
       "\n",
       ".xr-section-summary-in + label:before {\n",
       "  display: inline-block;\n",
       "  content: '►';\n",
       "  font-size: 11px;\n",
       "  width: 15px;\n",
       "  text-align: center;\n",
       "}\n",
       "\n",
       ".xr-section-summary-in:disabled + label:before {\n",
       "  color: var(--xr-disabled-color);\n",
       "}\n",
       "\n",
       ".xr-section-summary-in:checked + label:before {\n",
       "  content: '▼';\n",
       "}\n",
       "\n",
       ".xr-section-summary-in:checked + label > span {\n",
       "  display: none;\n",
       "}\n",
       "\n",
       ".xr-section-summary,\n",
       ".xr-section-inline-details {\n",
       "  padding-top: 4px;\n",
       "  padding-bottom: 4px;\n",
       "}\n",
       "\n",
       ".xr-section-inline-details {\n",
       "  grid-column: 2 / -1;\n",
       "}\n",
       "\n",
       ".xr-section-details {\n",
       "  display: none;\n",
       "  grid-column: 1 / -1;\n",
       "  margin-bottom: 5px;\n",
       "}\n",
       "\n",
       ".xr-section-summary-in:checked ~ .xr-section-details {\n",
       "  display: contents;\n",
       "}\n",
       "\n",
       ".xr-array-wrap {\n",
       "  grid-column: 1 / -1;\n",
       "  display: grid;\n",
       "  grid-template-columns: 20px auto;\n",
       "}\n",
       "\n",
       ".xr-array-wrap > label {\n",
       "  grid-column: 1;\n",
       "  vertical-align: top;\n",
       "}\n",
       "\n",
       ".xr-preview {\n",
       "  color: var(--xr-font-color3);\n",
       "}\n",
       "\n",
       ".xr-array-preview,\n",
       ".xr-array-data {\n",
       "  padding: 0 5px !important;\n",
       "  grid-column: 2;\n",
       "}\n",
       "\n",
       ".xr-array-data,\n",
       ".xr-array-in:checked ~ .xr-array-preview {\n",
       "  display: none;\n",
       "}\n",
       "\n",
       ".xr-array-in:checked ~ .xr-array-data,\n",
       ".xr-array-preview {\n",
       "  display: inline-block;\n",
       "}\n",
       "\n",
       ".xr-dim-list {\n",
       "  display: inline-block !important;\n",
       "  list-style: none;\n",
       "  padding: 0 !important;\n",
       "  margin: 0;\n",
       "}\n",
       "\n",
       ".xr-dim-list li {\n",
       "  display: inline-block;\n",
       "  padding: 0;\n",
       "  margin: 0;\n",
       "}\n",
       "\n",
       ".xr-dim-list:before {\n",
       "  content: '(';\n",
       "}\n",
       "\n",
       ".xr-dim-list:after {\n",
       "  content: ')';\n",
       "}\n",
       "\n",
       ".xr-dim-list li:not(:last-child):after {\n",
       "  content: ',';\n",
       "  padding-right: 5px;\n",
       "}\n",
       "\n",
       ".xr-has-index {\n",
       "  font-weight: bold;\n",
       "}\n",
       "\n",
       ".xr-var-list,\n",
       ".xr-var-item {\n",
       "  display: contents;\n",
       "}\n",
       "\n",
       ".xr-var-item > div,\n",
       ".xr-var-item label,\n",
       ".xr-var-item > .xr-var-name span {\n",
       "  background-color: var(--xr-background-color-row-even);\n",
       "  margin-bottom: 0;\n",
       "}\n",
       "\n",
       ".xr-var-item > .xr-var-name:hover span {\n",
       "  padding-right: 5px;\n",
       "}\n",
       "\n",
       ".xr-var-list > li:nth-child(odd) > div,\n",
       ".xr-var-list > li:nth-child(odd) > label,\n",
       ".xr-var-list > li:nth-child(odd) > .xr-var-name span {\n",
       "  background-color: var(--xr-background-color-row-odd);\n",
       "}\n",
       "\n",
       ".xr-var-name {\n",
       "  grid-column: 1;\n",
       "}\n",
       "\n",
       ".xr-var-dims {\n",
       "  grid-column: 2;\n",
       "}\n",
       "\n",
       ".xr-var-dtype {\n",
       "  grid-column: 3;\n",
       "  text-align: right;\n",
       "  color: var(--xr-font-color2);\n",
       "}\n",
       "\n",
       ".xr-var-preview {\n",
       "  grid-column: 4;\n",
       "}\n",
       "\n",
       ".xr-var-name,\n",
       ".xr-var-dims,\n",
       ".xr-var-dtype,\n",
       ".xr-preview,\n",
       ".xr-attrs dt {\n",
       "  white-space: nowrap;\n",
       "  overflow: hidden;\n",
       "  text-overflow: ellipsis;\n",
       "  padding-right: 10px;\n",
       "}\n",
       "\n",
       ".xr-var-name:hover,\n",
       ".xr-var-dims:hover,\n",
       ".xr-var-dtype:hover,\n",
       ".xr-attrs dt:hover {\n",
       "  overflow: visible;\n",
       "  width: auto;\n",
       "  z-index: 1;\n",
       "}\n",
       "\n",
       ".xr-var-attrs,\n",
       ".xr-var-data {\n",
       "  display: none;\n",
       "  background-color: var(--xr-background-color) !important;\n",
       "  padding-bottom: 5px !important;\n",
       "}\n",
       "\n",
       ".xr-var-attrs-in:checked ~ .xr-var-attrs,\n",
       ".xr-var-data-in:checked ~ .xr-var-data {\n",
       "  display: block;\n",
       "}\n",
       "\n",
       ".xr-var-data > table {\n",
       "  float: right;\n",
       "}\n",
       "\n",
       ".xr-var-name span,\n",
       ".xr-var-data,\n",
       ".xr-attrs {\n",
       "  padding-left: 25px !important;\n",
       "}\n",
       "\n",
       ".xr-attrs,\n",
       ".xr-var-attrs,\n",
       ".xr-var-data {\n",
       "  grid-column: 1 / -1;\n",
       "}\n",
       "\n",
       "dl.xr-attrs {\n",
       "  padding: 0;\n",
       "  margin: 0;\n",
       "  display: grid;\n",
       "  grid-template-columns: 125px auto;\n",
       "}\n",
       "\n",
       ".xr-attrs dt,\n",
       ".xr-attrs dd {\n",
       "  padding: 0;\n",
       "  margin: 0;\n",
       "  float: left;\n",
       "  padding-right: 10px;\n",
       "  width: auto;\n",
       "}\n",
       "\n",
       ".xr-attrs dt {\n",
       "  font-weight: normal;\n",
       "  grid-column: 1;\n",
       "}\n",
       "\n",
       ".xr-attrs dt:hover span {\n",
       "  display: inline-block;\n",
       "  background: var(--xr-background-color);\n",
       "  padding-right: 10px;\n",
       "}\n",
       "\n",
       ".xr-attrs dd {\n",
       "  grid-column: 2;\n",
       "  white-space: pre-wrap;\n",
       "  word-break: break-all;\n",
       "}\n",
       "\n",
       ".xr-icon-database,\n",
       ".xr-icon-file-text2 {\n",
       "  display: inline-block;\n",
       "  vertical-align: middle;\n",
       "  width: 1em;\n",
       "  height: 1.5em !important;\n",
       "  stroke-width: 0;\n",
       "  stroke: currentColor;\n",
       "  fill: currentColor;\n",
       "}\n",
       "</style><pre class='xr-text-repr-fallback'>&lt;xarray.DataArray (lev: 21, time: 432, lat: 70, lon: 95)&gt;\n",
       "dask.array&lt;concatenate, shape=(21, 432, 70, 95), dtype=float32, chunksize=(1, 1, 70, 95), chunktype=numpy.ndarray&gt;\n",
       "Coordinates:\n",
       "  * time     (time) datetime64[ns] 1980-01-16 1980-02-15 ... 2015-12-16\n",
       "  * lon      (lon) float32 30.5 31.5 32.5 33.5 34.5 ... 121.5 122.5 123.5 124.5\n",
       "  * lat      (lat) float32 -39.5 -38.5 -37.5 -36.5 -35.5 ... 26.5 27.5 28.5 29.5\n",
       "  * lev      (lev) float64 1.012 2.1 3.235 4.477 ... 50.38 57.32 64.91 73.14</pre><div class='xr-wrap' hidden><div class='xr-header'><div class='xr-obj-type'>xarray.DataArray</div><div class='xr-array-name'></div><ul class='xr-dim-list'><li><span class='xr-has-index'>lev</span>: 21</li><li><span class='xr-has-index'>time</span>: 432</li><li><span class='xr-has-index'>lat</span>: 70</li><li><span class='xr-has-index'>lon</span>: 95</li></ul></div><ul class='xr-sections'><li class='xr-section-item'><div class='xr-array-wrap'><input id='section-402dcc5c-9cf2-4ca4-a5d3-78eee0eb456b' class='xr-array-in' type='checkbox' checked><label for='section-402dcc5c-9cf2-4ca4-a5d3-78eee0eb456b' title='Show/hide data repr'><svg class='icon xr-icon-database'><use xlink:href='#icon-database'></use></svg></label><div class='xr-array-preview xr-preview'><span>dask.array&lt;chunksize=(1, 1, 70, 95), meta=np.ndarray&gt;</span></div><div class='xr-array-data'><table>\n",
       "<tr>\n",
       "<td>\n",
       "<table>\n",
       "  <thead>\n",
       "    <tr><td> </td><th> Array </th><th> Chunk </th></tr>\n",
       "  </thead>\n",
       "  <tbody>\n",
       "    <tr><th> Bytes </th><td> 241.32 MB </td> <td> 26.60 kB </td></tr>\n",
       "    <tr><th> Shape </th><td> (21, 432, 70, 95) </td> <td> (1, 1, 70, 95) </td></tr>\n",
       "    <tr><th> Count </th><td> 85393 Tasks </td><td> 9072 Chunks </td></tr>\n",
       "    <tr><th> Type </th><td> float32 </td><td> numpy.ndarray </td></tr>\n",
       "  </tbody>\n",
       "</table>\n",
       "</td>\n",
       "<td>\n",
       "<svg width=\"370\" height=\"161\" style=\"stroke:rgb(0,0,0);stroke-width:1\" >\n",
       "\n",
       "  <!-- Horizontal lines -->\n",
       "  <line x1=\"0\" y1=\"0\" x2=\"34\" y2=\"0\" style=\"stroke-width:2\" />\n",
       "  <line x1=\"0\" y1=\"25\" x2=\"34\" y2=\"25\" style=\"stroke-width:2\" />\n",
       "\n",
       "  <!-- Vertical lines -->\n",
       "  <line x1=\"0\" y1=\"0\" x2=\"0\" y2=\"25\" style=\"stroke-width:2\" />\n",
       "  <line x1=\"1\" y1=\"0\" x2=\"1\" y2=\"25\" />\n",
       "  <line x1=\"3\" y1=\"0\" x2=\"3\" y2=\"25\" />\n",
       "  <line x1=\"4\" y1=\"0\" x2=\"4\" y2=\"25\" />\n",
       "  <line x1=\"6\" y1=\"0\" x2=\"6\" y2=\"25\" />\n",
       "  <line x1=\"8\" y1=\"0\" x2=\"8\" y2=\"25\" />\n",
       "  <line x1=\"9\" y1=\"0\" x2=\"9\" y2=\"25\" />\n",
       "  <line x1=\"11\" y1=\"0\" x2=\"11\" y2=\"25\" />\n",
       "  <line x1=\"13\" y1=\"0\" x2=\"13\" y2=\"25\" />\n",
       "  <line x1=\"14\" y1=\"0\" x2=\"14\" y2=\"25\" />\n",
       "  <line x1=\"16\" y1=\"0\" x2=\"16\" y2=\"25\" />\n",
       "  <line x1=\"17\" y1=\"0\" x2=\"17\" y2=\"25\" />\n",
       "  <line x1=\"19\" y1=\"0\" x2=\"19\" y2=\"25\" />\n",
       "  <line x1=\"21\" y1=\"0\" x2=\"21\" y2=\"25\" />\n",
       "  <line x1=\"22\" y1=\"0\" x2=\"22\" y2=\"25\" />\n",
       "  <line x1=\"24\" y1=\"0\" x2=\"24\" y2=\"25\" />\n",
       "  <line x1=\"26\" y1=\"0\" x2=\"26\" y2=\"25\" />\n",
       "  <line x1=\"27\" y1=\"0\" x2=\"27\" y2=\"25\" />\n",
       "  <line x1=\"29\" y1=\"0\" x2=\"29\" y2=\"25\" />\n",
       "  <line x1=\"31\" y1=\"0\" x2=\"31\" y2=\"25\" />\n",
       "  <line x1=\"32\" y1=\"0\" x2=\"32\" y2=\"25\" />\n",
       "  <line x1=\"34\" y1=\"0\" x2=\"34\" y2=\"25\" style=\"stroke-width:2\" />\n",
       "\n",
       "  <!-- Colored Rectangle -->\n",
       "  <polygon points=\"0.0,0.0 34.328464153978565,0.0 34.328464153978565,25.412616514582485 0.0,25.412616514582485\" style=\"fill:#ECB172A0;stroke-width:0\"/>\n",
       "\n",
       "  <!-- Text -->\n",
       "  <text x=\"17.164232\" y=\"45.412617\" font-size=\"1.0rem\" font-weight=\"100\" text-anchor=\"middle\" >21</text>\n",
       "  <text x=\"54.328464\" y=\"12.706308\" font-size=\"1.0rem\" font-weight=\"100\" text-anchor=\"middle\" transform=\"rotate(0,54.328464,12.706308)\">1</text>\n",
       "\n",
       "\n",
       "  <!-- Horizontal lines -->\n",
       "  <line x1=\"104\" y1=\"0\" x2=\"174\" y2=\"70\" style=\"stroke-width:2\" />\n",
       "  <line x1=\"104\" y1=\"41\" x2=\"174\" y2=\"111\" style=\"stroke-width:2\" />\n",
       "\n",
       "  <!-- Vertical lines -->\n",
       "  <line x1=\"104\" y1=\"0\" x2=\"104\" y2=\"41\" style=\"stroke-width:2\" />\n",
       "  <line x1=\"106\" y1=\"2\" x2=\"106\" y2=\"43\" />\n",
       "  <line x1=\"108\" y1=\"4\" x2=\"108\" y2=\"45\" />\n",
       "  <line x1=\"110\" y1=\"6\" x2=\"110\" y2=\"47\" />\n",
       "  <line x1=\"112\" y1=\"8\" x2=\"112\" y2=\"49\" />\n",
       "  <line x1=\"114\" y1=\"10\" x2=\"114\" y2=\"52\" />\n",
       "  <line x1=\"117\" y1=\"13\" x2=\"117\" y2=\"54\" />\n",
       "  <line x1=\"119\" y1=\"15\" x2=\"119\" y2=\"56\" />\n",
       "  <line x1=\"121\" y1=\"17\" x2=\"121\" y2=\"58\" />\n",
       "  <line x1=\"123\" y1=\"19\" x2=\"123\" y2=\"60\" />\n",
       "  <line x1=\"126\" y1=\"22\" x2=\"126\" y2=\"63\" />\n",
       "  <line x1=\"128\" y1=\"24\" x2=\"128\" y2=\"65\" />\n",
       "  <line x1=\"130\" y1=\"26\" x2=\"130\" y2=\"67\" />\n",
       "  <line x1=\"132\" y1=\"28\" x2=\"132\" y2=\"69\" />\n",
       "  <line x1=\"134\" y1=\"30\" x2=\"134\" y2=\"71\" />\n",
       "  <line x1=\"137\" y1=\"33\" x2=\"137\" y2=\"74\" />\n",
       "  <line x1=\"139\" y1=\"35\" x2=\"139\" y2=\"76\" />\n",
       "  <line x1=\"141\" y1=\"37\" x2=\"141\" y2=\"78\" />\n",
       "  <line x1=\"143\" y1=\"39\" x2=\"143\" y2=\"80\" />\n",
       "  <line x1=\"145\" y1=\"41\" x2=\"145\" y2=\"82\" />\n",
       "  <line x1=\"148\" y1=\"44\" x2=\"148\" y2=\"85\" />\n",
       "  <line x1=\"150\" y1=\"46\" x2=\"150\" y2=\"87\" />\n",
       "  <line x1=\"152\" y1=\"48\" x2=\"152\" y2=\"89\" />\n",
       "  <line x1=\"154\" y1=\"50\" x2=\"154\" y2=\"91\" />\n",
       "  <line x1=\"156\" y1=\"52\" x2=\"156\" y2=\"94\" />\n",
       "  <line x1=\"159\" y1=\"55\" x2=\"159\" y2=\"96\" />\n",
       "  <line x1=\"161\" y1=\"57\" x2=\"161\" y2=\"98\" />\n",
       "  <line x1=\"163\" y1=\"59\" x2=\"163\" y2=\"100\" />\n",
       "  <line x1=\"165\" y1=\"61\" x2=\"165\" y2=\"102\" />\n",
       "  <line x1=\"167\" y1=\"63\" x2=\"167\" y2=\"104\" />\n",
       "  <line x1=\"170\" y1=\"66\" x2=\"170\" y2=\"107\" />\n",
       "  <line x1=\"172\" y1=\"68\" x2=\"172\" y2=\"109\" />\n",
       "  <line x1=\"174\" y1=\"70\" x2=\"174\" y2=\"111\" style=\"stroke-width:2\" />\n",
       "\n",
       "  <!-- Colored Rectangle -->\n",
       "  <polygon points=\"104.0,0.0 174.58823529411765,70.58823529411765 174.58823529411765,111.6612781020128 104.0,41.07304280789514\" style=\"fill:#8B4903A0;stroke-width:0\"/>\n",
       "\n",
       "  <!-- Horizontal lines -->\n",
       "  <line x1=\"104\" y1=\"0\" x2=\"146\" y2=\"0\" style=\"stroke-width:2\" />\n",
       "  <line x1=\"106\" y1=\"2\" x2=\"148\" y2=\"2\" />\n",
       "  <line x1=\"108\" y1=\"4\" x2=\"150\" y2=\"4\" />\n",
       "  <line x1=\"110\" y1=\"6\" x2=\"152\" y2=\"6\" />\n",
       "  <line x1=\"112\" y1=\"8\" x2=\"155\" y2=\"8\" />\n",
       "  <line x1=\"114\" y1=\"10\" x2=\"157\" y2=\"10\" />\n",
       "  <line x1=\"117\" y1=\"13\" x2=\"159\" y2=\"13\" />\n",
       "  <line x1=\"119\" y1=\"15\" x2=\"161\" y2=\"15\" />\n",
       "  <line x1=\"121\" y1=\"17\" x2=\"164\" y2=\"17\" />\n",
       "  <line x1=\"123\" y1=\"19\" x2=\"166\" y2=\"19\" />\n",
       "  <line x1=\"126\" y1=\"22\" x2=\"168\" y2=\"22\" />\n",
       "  <line x1=\"128\" y1=\"24\" x2=\"170\" y2=\"24\" />\n",
       "  <line x1=\"130\" y1=\"26\" x2=\"172\" y2=\"26\" />\n",
       "  <line x1=\"132\" y1=\"28\" x2=\"174\" y2=\"28\" />\n",
       "  <line x1=\"134\" y1=\"30\" x2=\"177\" y2=\"30\" />\n",
       "  <line x1=\"137\" y1=\"33\" x2=\"179\" y2=\"33\" />\n",
       "  <line x1=\"139\" y1=\"35\" x2=\"181\" y2=\"35\" />\n",
       "  <line x1=\"141\" y1=\"37\" x2=\"183\" y2=\"37\" />\n",
       "  <line x1=\"143\" y1=\"39\" x2=\"186\" y2=\"39\" />\n",
       "  <line x1=\"145\" y1=\"41\" x2=\"188\" y2=\"41\" />\n",
       "  <line x1=\"148\" y1=\"44\" x2=\"190\" y2=\"44\" />\n",
       "  <line x1=\"150\" y1=\"46\" x2=\"192\" y2=\"46\" />\n",
       "  <line x1=\"152\" y1=\"48\" x2=\"194\" y2=\"48\" />\n",
       "  <line x1=\"154\" y1=\"50\" x2=\"197\" y2=\"50\" />\n",
       "  <line x1=\"156\" y1=\"52\" x2=\"199\" y2=\"52\" />\n",
       "  <line x1=\"159\" y1=\"55\" x2=\"201\" y2=\"55\" />\n",
       "  <line x1=\"161\" y1=\"57\" x2=\"203\" y2=\"57\" />\n",
       "  <line x1=\"163\" y1=\"59\" x2=\"205\" y2=\"59\" />\n",
       "  <line x1=\"165\" y1=\"61\" x2=\"208\" y2=\"61\" />\n",
       "  <line x1=\"167\" y1=\"63\" x2=\"210\" y2=\"63\" />\n",
       "  <line x1=\"170\" y1=\"66\" x2=\"212\" y2=\"66\" />\n",
       "  <line x1=\"172\" y1=\"68\" x2=\"214\" y2=\"68\" />\n",
       "  <line x1=\"174\" y1=\"70\" x2=\"216\" y2=\"70\" style=\"stroke-width:2\" />\n",
       "\n",
       "  <!-- Vertical lines -->\n",
       "  <line x1=\"104\" y1=\"0\" x2=\"174\" y2=\"70\" style=\"stroke-width:2\" />\n",
       "  <line x1=\"146\" y1=\"0\" x2=\"216\" y2=\"70\" style=\"stroke-width:2\" />\n",
       "\n",
       "  <!-- Colored Rectangle -->\n",
       "  <polygon points=\"104.0,0.0 146.4011403029026,0.0 216.98937559702026,70.58823529411765 174.58823529411765,70.58823529411765\" style=\"fill:#8B4903A0;stroke-width:0\"/>\n",
       "\n",
       "  <!-- Horizontal lines -->\n",
       "  <line x1=\"174\" y1=\"70\" x2=\"216\" y2=\"70\" style=\"stroke-width:2\" />\n",
       "  <line x1=\"174\" y1=\"111\" x2=\"216\" y2=\"111\" style=\"stroke-width:2\" />\n",
       "\n",
       "  <!-- Vertical lines -->\n",
       "  <line x1=\"174\" y1=\"70\" x2=\"174\" y2=\"111\" style=\"stroke-width:2\" />\n",
       "  <line x1=\"216\" y1=\"70\" x2=\"216\" y2=\"111\" style=\"stroke-width:2\" />\n",
       "\n",
       "  <!-- Colored Rectangle -->\n",
       "  <polygon points=\"174.58823529411765,70.58823529411765 216.98937559702026,70.58823529411765 216.98937559702026,111.6612781020128 174.58823529411765,111.6612781020128\" style=\"fill:#ECB172A0;stroke-width:0\"/>\n",
       "\n",
       "  <!-- Text -->\n",
       "  <text x=\"195.788805\" y=\"131.661278\" font-size=\"1.0rem\" font-weight=\"100\" text-anchor=\"middle\" >95</text>\n",
       "  <text x=\"236.989376\" y=\"91.124757\" font-size=\"1.0rem\" font-weight=\"100\" text-anchor=\"middle\" transform=\"rotate(0,236.989376,91.124757)\">70</text>\n",
       "  <text x=\"129.294118\" y=\"96.367160\" font-size=\"1.0rem\" font-weight=\"100\" text-anchor=\"middle\" transform=\"rotate(45,129.294118,96.367160)\">432</text>\n",
       "</svg>\n",
       "</td>\n",
       "</tr>\n",
       "</table></div></div></li><li class='xr-section-item'><input id='section-9ebba518-4246-4b3f-ac31-2a809ac405dc' class='xr-section-summary-in' type='checkbox'  checked><label for='section-9ebba518-4246-4b3f-ac31-2a809ac405dc' class='xr-section-summary' >Coordinates: <span>(4)</span></label><div class='xr-section-inline-details'></div><div class='xr-section-details'><ul class='xr-var-list'><li class='xr-var-item'><div class='xr-var-name'><span class='xr-has-index'>time</span></div><div class='xr-var-dims'>(time)</div><div class='xr-var-dtype'>datetime64[ns]</div><div class='xr-var-preview xr-preview'>1980-01-16 ... 2015-12-16</div><input id='attrs-f1026769-101f-4841-bee1-ac2fcd009730' class='xr-var-attrs-in' type='checkbox' ><label for='attrs-f1026769-101f-4841-bee1-ac2fcd009730' title='Show/Hide attributes'><svg class='icon xr-icon-file-text2'><use xlink:href='#icon-file-text2'></use></svg></label><input id='data-88227833-9221-472e-a4b7-8dba7e31c860' class='xr-var-data-in' type='checkbox'><label for='data-88227833-9221-472e-a4b7-8dba7e31c860' title='Show/Hide data repr'><svg class='icon xr-icon-database'><use xlink:href='#icon-database'></use></svg></label><div class='xr-var-attrs'><dl class='xr-attrs'><dt><span>standard_name :</span></dt><dd>time</dd><dt><span>axis :</span></dt><dd>T</dd></dl></div><div class='xr-var-data'><pre>array([&#x27;1980-01-16T00:00:00.000000000&#x27;, &#x27;1980-02-15T00:00:00.000000000&#x27;,\n",
       "       &#x27;1980-03-16T00:00:00.000000000&#x27;, ..., &#x27;2015-10-16T00:00:00.000000000&#x27;,\n",
       "       &#x27;2015-11-16T00:00:00.000000000&#x27;, &#x27;2015-12-16T00:00:00.000000000&#x27;],\n",
       "      dtype=&#x27;datetime64[ns]&#x27;)</pre></div></li><li class='xr-var-item'><div class='xr-var-name'><span class='xr-has-index'>lon</span></div><div class='xr-var-dims'>(lon)</div><div class='xr-var-dtype'>float32</div><div class='xr-var-preview xr-preview'>30.5 31.5 32.5 ... 123.5 124.5</div><input id='attrs-bcff7db4-e9e3-42ce-9107-452a764dfce4' class='xr-var-attrs-in' type='checkbox' ><label for='attrs-bcff7db4-e9e3-42ce-9107-452a764dfce4' title='Show/Hide attributes'><svg class='icon xr-icon-file-text2'><use xlink:href='#icon-file-text2'></use></svg></label><input id='data-5ab26fe5-f65c-4bd7-92a4-db6209bc8b39' class='xr-var-data-in' type='checkbox'><label for='data-5ab26fe5-f65c-4bd7-92a4-db6209bc8b39' title='Show/Hide data repr'><svg class='icon xr-icon-database'><use xlink:href='#icon-database'></use></svg></label><div class='xr-var-attrs'><dl class='xr-attrs'><dt><span>standard_name :</span></dt><dd>longitude</dd><dt><span>long_name :</span></dt><dd>longitude</dd><dt><span>units :</span></dt><dd>degrees_east</dd><dt><span>axis :</span></dt><dd>X</dd></dl></div><div class='xr-var-data'><pre>array([ 30.5,  31.5,  32.5,  33.5,  34.5,  35.5,  36.5,  37.5,  38.5,  39.5,\n",
       "        40.5,  41.5,  42.5,  43.5,  44.5,  45.5,  46.5,  47.5,  48.5,  49.5,\n",
       "        50.5,  51.5,  52.5,  53.5,  54.5,  55.5,  56.5,  57.5,  58.5,  59.5,\n",
       "        60.5,  61.5,  62.5,  63.5,  64.5,  65.5,  66.5,  67.5,  68.5,  69.5,\n",
       "        70.5,  71.5,  72.5,  73.5,  74.5,  75.5,  76.5,  77.5,  78.5,  79.5,\n",
       "        80.5,  81.5,  82.5,  83.5,  84.5,  85.5,  86.5,  87.5,  88.5,  89.5,\n",
       "        90.5,  91.5,  92.5,  93.5,  94.5,  95.5,  96.5,  97.5,  98.5,  99.5,\n",
       "       100.5, 101.5, 102.5, 103.5, 104.5, 105.5, 106.5, 107.5, 108.5, 109.5,\n",
       "       110.5, 111.5, 112.5, 113.5, 114.5, 115.5, 116.5, 117.5, 118.5, 119.5,\n",
       "       120.5, 121.5, 122.5, 123.5, 124.5], dtype=float32)</pre></div></li><li class='xr-var-item'><div class='xr-var-name'><span class='xr-has-index'>lat</span></div><div class='xr-var-dims'>(lat)</div><div class='xr-var-dtype'>float32</div><div class='xr-var-preview xr-preview'>-39.5 -38.5 -37.5 ... 28.5 29.5</div><input id='attrs-ba310ad2-80f1-433b-9552-2be1dd5614ce' class='xr-var-attrs-in' type='checkbox' ><label for='attrs-ba310ad2-80f1-433b-9552-2be1dd5614ce' title='Show/Hide attributes'><svg class='icon xr-icon-file-text2'><use xlink:href='#icon-file-text2'></use></svg></label><input id='data-327ff34a-81b7-467b-9f4a-e437cbbd355a' class='xr-var-data-in' type='checkbox'><label for='data-327ff34a-81b7-467b-9f4a-e437cbbd355a' title='Show/Hide data repr'><svg class='icon xr-icon-database'><use xlink:href='#icon-database'></use></svg></label><div class='xr-var-attrs'><dl class='xr-attrs'><dt><span>standard_name :</span></dt><dd>latitude</dd><dt><span>long_name :</span></dt><dd>latitude</dd><dt><span>units :</span></dt><dd>degrees_north</dd><dt><span>axis :</span></dt><dd>Y</dd></dl></div><div class='xr-var-data'><pre>array([-39.5, -38.5, -37.5, -36.5, -35.5, -34.5, -33.5, -32.5, -31.5, -30.5,\n",
       "       -29.5, -28.5, -27.5, -26.5, -25.5, -24.5, -23.5, -22.5, -21.5, -20.5,\n",
       "       -19.5, -18.5, -17.5, -16.5, -15.5, -14.5, -13.5, -12.5, -11.5, -10.5,\n",
       "        -9.5,  -8.5,  -7.5,  -6.5,  -5.5,  -4.5,  -3.5,  -2.5,  -1.5,  -0.5,\n",
       "         0.5,   1.5,   2.5,   3.5,   4.5,   5.5,   6.5,   7.5,   8.5,   9.5,\n",
       "        10.5,  11.5,  12.5,  13.5,  14.5,  15.5,  16.5,  17.5,  18.5,  19.5,\n",
       "        20.5,  21.5,  22.5,  23.5,  24.5,  25.5,  26.5,  27.5,  28.5,  29.5],\n",
       "      dtype=float32)</pre></div></li><li class='xr-var-item'><div class='xr-var-name'><span class='xr-has-index'>lev</span></div><div class='xr-var-dims'>(lev)</div><div class='xr-var-dtype'>float64</div><div class='xr-var-preview xr-preview'>1.012 2.1 3.235 ... 64.91 73.14</div><input id='attrs-79129929-78a5-42e9-bde7-d0a7660cbe19' class='xr-var-attrs-in' type='checkbox' disabled><label for='attrs-79129929-78a5-42e9-bde7-d0a7660cbe19' title='Show/Hide attributes'><svg class='icon xr-icon-file-text2'><use xlink:href='#icon-file-text2'></use></svg></label><input id='data-dfc2ab43-7b8e-44e3-b7b6-1f6c6673f043' class='xr-var-data-in' type='checkbox'><label for='data-dfc2ab43-7b8e-44e3-b7b6-1f6c6673f043' title='Show/Hide data repr'><svg class='icon xr-icon-database'><use xlink:href='#icon-database'></use></svg></label><div class='xr-var-attrs'><dl class='xr-attrs'></dl></div><div class='xr-var-data'><pre>array([ 1.01152 ,  2.100191,  3.235173,  4.477387,  5.803336,  7.282731,\n",
       "        8.902306, 10.743194, 12.804165, 15.177911, 17.872733, 20.986871,\n",
       "       24.528361, 28.588239, 33.160884, 38.319524, 44.040522, 50.383268,\n",
       "       57.318003, 64.907674, 73.135691])</pre></div></li></ul></div></li><li class='xr-section-item'><input id='section-26b8b190-2b12-42e2-9ea7-6210763d90cf' class='xr-section-summary-in' type='checkbox' disabled ><label for='section-26b8b190-2b12-42e2-9ea7-6210763d90cf' class='xr-section-summary'  title='Expand/collapse section'>Attributes: <span>(0)</span></label><div class='xr-section-inline-details'></div><div class='xr-section-details'><dl class='xr-attrs'></dl></div></li></ul></div></div>"
      ],
      "text/plain": [
       "<xarray.DataArray (lev: 21, time: 432, lat: 70, lon: 95)>\n",
       "dask.array<concatenate, shape=(21, 432, 70, 95), dtype=float32, chunksize=(1, 1, 70, 95), chunktype=numpy.ndarray>\n",
       "Coordinates:\n",
       "  * time     (time) datetime64[ns] 1980-01-16 1980-02-15 ... 2015-12-16\n",
       "  * lon      (lon) float32 30.5 31.5 32.5 33.5 34.5 ... 121.5 122.5 123.5 124.5\n",
       "  * lat      (lat) float32 -39.5 -38.5 -37.5 -36.5 -35.5 ... 26.5 27.5 28.5 29.5\n",
       "  * lev      (lev) float64 1.012 2.1 3.235 4.477 ... 50.38 57.32 64.91 73.14"
      ]
     },
     "execution_count": 14,
     "metadata": {},
     "output_type": "execute_result"
    }
   ],
   "source": [
    "w"
   ]
  },
  {
   "cell_type": "code",
   "execution_count": 15,
   "metadata": {},
   "outputs": [],
   "source": [
    "w_old= w.interp(lev=50)"
   ]
  },
  {
   "cell_type": "code",
   "execution_count": 16,
   "metadata": {},
   "outputs": [],
   "source": [
    "w_new= w2.interp(lev=50)"
   ]
  },
  {
   "cell_type": "code",
   "execution_count": 19,
   "metadata": {},
   "outputs": [
    {
     "data": {
      "text/plain": [
       "<matplotlib.collections.QuadMesh at 0x7f38e1f021f0>"
      ]
     },
     "execution_count": 19,
     "metadata": {},
     "output_type": "execute_result"
    },
    {
     "data": {
      "image/png": "[encoded data removed]",
      "text/plain": [
       "<Figure size 432x288 with 2 Axes>"
      ]
     },
     "metadata": {
      "needs_background": "light"
     },
     "output_type": "display_data"
    }
   ],
   "source": [
    "w_old.mean('time').plot(vmin = -1e-5)"
   ]
  },
  {
   "cell_type": "code",
   "execution_count": 21,
   "metadata": {},
   "outputs": [
    {
     "data": {
      "text/plain": [
       "<matplotlib.collections.QuadMesh at 0x7f38e5ea51f0>"
      ]
     },
     "execution_count": 21,
     "metadata": {},
     "output_type": "execute_result"
    },
    {
     "data": {
      "image/png": "[encoded data removed]",
      "text/plain": [
       "<Figure size 432x288 with 2 Axes>"
      ]
     },
     "metadata": {
      "needs_background": "light"
     },
     "output_type": "display_data"
    }
   ],
   "source": [
    "w_new.groupby('time.month').mean('time')[0].plot(vmin = -1e-5)"
   ]
  },
  {
   "cell_type": "code",
   "execution_count": 24,
   "metadata": {},
   "outputs": [],
   "source": [
    "t_files = (os.path.join(ORAS5_dir, theta))\n",
    "\n",
    "T = load_T(t_files)\n",
    "#get zgrad\n",
    "dtdz = T_zgrad(T)"
   ]
  },
  {
   "cell_type": "code",
   "execution_count": 26,
   "metadata": {},
   "outputs": [],
   "source": [
    "dTdz1 = (T[:,0] - T[:,-1])/float(T.lev[-1])"
   ]
  },
  {
   "cell_type": "code",
   "execution_count": null,
   "metadata": {},
   "outputs": [],
   "source": []
  },
  {
   "cell_type": "code",
   "execution_count": 27,
   "metadata": {
    "scrolled": true
   },
   "outputs": [],
   "source": [
    "w50 = w.interp(lev=50)"
   ]
  },
  {
   "cell_type": "code",
   "execution_count": 28,
   "metadata": {},
   "outputs": [],
   "source": [
    "test_wadv = w50*dTdz1"
   ]
  },
  {
   "cell_type": "code",
   "execution_count": 29,
   "metadata": {},
   "outputs": [],
   "source": [
    "wadv = dtdz*w50"
   ]
  },
  {
   "cell_type": "code",
   "execution_count": 31,
   "metadata": {},
   "outputs": [],
   "source": [
    "tw50 = test_wadv.groupby('time.month').mean('time')"
   ]
  },
  {
   "cell_type": "code",
   "execution_count": 33,
   "metadata": {},
   "outputs": [
    {
     "name": "stderr",
     "output_type": "stream",
     "text": [
      "/home/z5113258/anaconda3/lib/python3.8/site-packages/dask/array/numpy_compat.py:41: RuntimeWarning: invalid value encountered in true_divide\n",
      "  x = np.divide(x1, x2, out)\n"
     ]
    },
    {
     "data": {
      "text/plain": [
       "<matplotlib.collections.QuadMesh at 0x7f46d641dee0>"
      ]
     },
     "execution_count": 33,
     "metadata": {},
     "output_type": "execute_result"
    },
    {
     "data": {
      "image/png": "[encoded data removed]",
      "text/plain": [
       "<Figure size 432x288 with 2 Axes>"
      ]
     },
     "metadata": {
      "needs_background": "light"
     },
     "output_type": "display_data"
    }
   ],
   "source": [
    "tw50[0].plot(vmin = -1e-6, vmax = 1e-6)"
   ]
  },
  {
   "cell_type": "code",
   "execution_count": 36,
   "metadata": {},
   "outputs": [
    {
     "data": {
      "text/plain": [
       "<matplotlib.collections.QuadMesh at 0x7f46d6b13d00>"
      ]
     },
     "execution_count": 36,
     "metadata": {},
     "output_type": "execute_result"
    },
    {
     "data": {
      "image/png": "[encoded data removed]",
      "text/plain": [
       "<Figure size 432x288 with 2 Axes>"
      ]
     },
     "metadata": {
      "needs_background": "light"
     },
     "output_type": "display_data"
    }
   ],
   "source": [
    "w50.groupby('time.month').mean('time')[0].plot(vmin = -1e-4, vmax = 1e-4)"
   ]
  },
  {
   "cell_type": "code",
   "execution_count": 38,
   "metadata": {},
   "outputs": [
    {
     "name": "stderr",
     "output_type": "stream",
     "text": [
      "/home/z5113258/anaconda3/lib/python3.8/site-packages/dask/array/numpy_compat.py:41: RuntimeWarning: invalid value encountered in true_divide\n",
      "  x = np.divide(x1, x2, out)\n"
     ]
    },
    {
     "data": {
      "text/plain": [
       "<matplotlib.collections.QuadMesh at 0x7f46d5b7e130>"
      ]
     },
     "execution_count": 38,
     "metadata": {},
     "output_type": "execute_result"
    },
    {
     "data": {
      "image/png": "[encoded data removed]",
      "text/plain": [
       "<Figure size 432x288 with 2 Axes>"
      ]
     },
     "metadata": {
      "needs_background": "light"
     },
     "output_type": "display_data"
    }
   ],
   "source": [
    "dTdz1.groupby('time.month').mean('time')[0].plot()"
   ]
  },
  {
   "cell_type": "code",
   "execution_count": null,
   "metadata": {},
   "outputs": [],
   "source": []
  },
  {
   "cell_type": "code",
   "execution_count": null,
   "metadata": {},
   "outputs": [],
   "source": []
  },
  {
   "cell_type": "code",
   "execution_count": null,
   "metadata": {},
   "outputs": [],
   "source": [
    "lay_bot = get_bot_layer(U)\n",
    "    \n",
    "    return w\n",
    "\n",
    "\n",
    "def T_zgrad(T):\n",
    "    #get z at 50m layer (but at t coordinate part of it)\n",
    "    dTdz = (T[:,0] - T[:,-1])/float(T.lev[-1])\n",
    "    return dTdz\n",
    "\n",
    "def get_wadv_cont(modelu, modelv, modelt):\n",
    "    #load\n",
    "    W = calc_w_no_w(modelu, modelv)\n",
    "    #get W at 50 m\n",
    "    W = W.interp(lev=50)\n",
    "    T = load_T(modelt)\n",
    "    #get zgrad\n",
    "    dtdz = T_zgrad(T)\n",
    "    #calc advection\n",
    "    wadv = W*dtdz\n",
    "    wadv_clim = get_clim(wadv)\n",
    "    return wadv_clim"
   ]
  }
 ],
 "metadata": {
  "kernelspec": {
   "display_name": "Python 3",
   "language": "python",
   "name": "python3"
  },
  "language_info": {
   "codemirror_mode": {
    "name": "ipython",
    "version": 3
   },
   "file_extension": ".py",
   "mimetype": "text/x-python",
   "name": "python",
   "nbconvert_exporter": "python",
   "pygments_lexer": "ipython3",
   "version": "3.8.5"
  }
 },
 "nbformat": 4,
 "nbformat_minor": 4
}
