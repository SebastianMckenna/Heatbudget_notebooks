{
 "cells": [
  {
   "cell_type": "code",
   "execution_count": 1,
   "metadata": {},
   "outputs": [],
   "source": [
    "#import packages needed\n",
    "import xarray as xr\n",
    "import dask\n",
    "import matplotlib.pyplot as plt\n",
    "import matplotlib as mpl\n",
    "import numpy as np\n",
    "import scipy\n",
    "import os\n",
    "import glob as glob\n",
    "import cartopy.crs as ccrs\n",
    "import cartopy.feature as cfeature\n",
    "import calendar"
   ]
  },
  {
   "cell_type": "code",
   "execution_count": 2,
   "metadata": {},
   "outputs": [],
   "source": [
    "#decompose advection terms into ubar u' dtdxbar dtxdx'\n",
    "\n",
    "#do wrt to monthly mean and wrt to annual mean\n"
   ]
  },
  {
   "cell_type": "code",
   "execution_count": 3,
   "metadata": {},
   "outputs": [],
   "source": [
    "#functions that get each heat budget variable calculated.\n",
    "#general form so can use any dataset\n",
    "def diff_T(T):\n",
    "    dTdt = T.differentiate(coord = 'time',datetime_unit= 's')\n",
    "    dTdx = T.differentiate('lon') / (110e3 * np.cos(T.lat * np.pi / 180))\n",
    "    dTdy = T.differentiate('lat') / (110e3 )\n",
    "    dTdz = (T[:,0] - T[:,-1])/float(T.level[-1])\n",
    "    return dTdt[:,:-1], dTdx[:,:-1], dTdy[:,:-1], dTdz\n",
    "\n",
    "def advection(u, v, w, dx, dy, dz):\n",
    "    uadv = u*dx\n",
    "    vadv = v*dy\n",
    "    wadv = w*dz\n",
    "    return uadv, vadv, wadv\n",
    "\n",
    "def get_weights(INP):\n",
    "    weights = INP.level\n",
    "    #add a 0m surface layer\n",
    "    wt=np.array([0.])\n",
    "    for i in range(len(weights.values)):\n",
    "        NW = 2*weights.values[i]-wt[i]\n",
    "        wt = np.insert(wt,i+1,NW)\n",
    "    thickness = wt[1:]-wt[:-1]\n",
    "    thickness_DA = xr.DataArray(thickness, coords={'level': INP.level},\n",
    "                 dims=['level'])\n",
    "    return thickness_DA\n",
    "\n",
    "def weighted_avg(inp, weights):\n",
    "    avg=inp.weighted(weights).mean('level')\n",
    "    return avg\n",
    "\n",
    "\n",
    "def get_clim(dict_name):\n",
    "    dict1={}\n",
    "    #unpack dict, get climatology, repack\n",
    "    for key in dict_name.keys():\n",
    "        var = dict_name[key]\n",
    "        var = var.groupby('time.month').mean('time')\n",
    "        dict1[key] = var\n",
    "    return dict1\n"
   ]
  },
  {
   "cell_type": "code",
   "execution_count": 7,
   "metadata": {
    "scrolled": true
   },
   "outputs": [],
   "source": [
    "#now do the same for ec-earth3\n",
    "T = xr.open_mfdataset('/home/z5113258/Documents/data/CMIP6/EC-Earth3/lev_int/THETAO/*.nc').thetao\n",
    "U = xr.open_mfdataset('/home/z5113258/Documents/data/CMIP6/EC-Earth3/lev_int/UO/*.nc').uo\n",
    "V = xr.open_mfdataset('/home/z5113258/Documents/data/CMIP6/EC-Earth3/lev_int/VO/*.nc').vo\n",
    "W = xr.open_mfdataset('/home/z5113258/Documents/data/CMIP6/EC-Earth3/lev_int/WO/*.nc').wo\n",
    "Q = xr.open_mfdataset('/home/z5113258/Documents/data/CMIP6/EC-Earth3/EC-Earth3_HFDS.nc').hfds\n",
    "SW = xr.open_mfdataset('/home/z5113258/Documents/data/CMIP6/EC-Earth3/RSNTDS/*.nc').rsntds\n",
    "#get only to 50m\n",
    "T = T[:,:5]\n",
    "U = U[:,:5]\n",
    "V = V[:,:5]\n",
    "W = W[:,4]\n",
    "#now put lat lon of uvw to T\n",
    "U = U.assign_coords({'lat': T.lat, 'lon': T.lon})\n",
    "V = V.assign_coords({'lat': T.lat, 'lon': T.lon})\n",
    "W = W.assign_coords({'lat': T.lat, 'lon': T.lon})\n",
    "#rename lev coord to level\n",
    "T = T.rename({'lev':'level'})\n",
    "U = U.rename({'lev':'level'})\n",
    "V = V.rename({'lev':'level'})\n",
    "W = W.rename({'lev':'level'})"
   ]
  },
  {
   "cell_type": "code",
   "execution_count": 8,
   "metadata": {},
   "outputs": [],
   "source": [
    "dTdtg, dTdxg, dTdyg, dTdzg = diff_T(T)"
   ]
  },
  {
   "cell_type": "code",
   "execution_count": 9,
   "metadata": {},
   "outputs": [],
   "source": [
    "uadvg, vadvg, wadvg = advection(U, V, W, dTdxg, dTdyg, dTdzg)"
   ]
  },
  {
   "cell_type": "code",
   "execution_count": 10,
   "metadata": {},
   "outputs": [],
   "source": [
    "gqnet = (Q-SW*((0.67*np.exp(-50))+((1-0.67)*np.exp(-50/17))))/(3986*1026*50)"
   ]
  },
  {
   "cell_type": "code",
   "execution_count": 11,
   "metadata": {},
   "outputs": [],
   "source": [
    "#calcualate weights of levels\n",
    "weights = get_weights(T)\n",
    "#now get wtd avg\n",
    "dTdt_gw = weighted_avg(dTdtg, weights)\n",
    "uwg = weighted_avg(uadvg, weights)\n",
    "vwg = weighted_avg(vadvg, weights)\n",
    "wwg = wadvg"
   ]
  },
  {
   "cell_type": "code",
   "execution_count": 12,
   "metadata": {},
   "outputs": [],
   "source": [
    "#alse get weighted avergae of u cur, v cur, and dtdx and dtdy\n",
    "#decompose advection terms to see where the bias is coming from - temp or current\n",
    "#GODAS\n",
    "dTdxgw = weighted_avg(dTdxg, weights)\n",
    "dTdygw = weighted_avg(dTdyg, weights)\n",
    "\n",
    "gUw = weighted_avg(U, weights)\n",
    "gVw = weighted_avg(V, weights)"
   ]
  },
  {
   "cell_type": "code",
   "execution_count": 13,
   "metadata": {},
   "outputs": [],
   "source": [
    "#now calcaulte cliamotlogy of terms\n",
    "dT_c = dTdt_gw.groupby('time.month').mean('time')\n",
    "u_c = uwg.groupby('time.month').mean('time')\n",
    "v_c = vwg.groupby('time.month').mean('time')\n",
    "w_c = wwg.groupby('time.month').mean('time')\n",
    "q_c = gqnet.groupby('time.month').mean('time')"
   ]
  },
  {
   "cell_type": "code",
   "execution_count": 14,
   "metadata": {},
   "outputs": [],
   "source": [
    "dxgC = dTdxgw.groupby('time.month').mean('time')\n",
    "dygC = dTdygw.groupby('time.month').mean('time')\n",
    "dzgC = dTdzg.groupby('time.month').mean('time')\n",
    "ugC = gUw.groupby('time.month').mean('time')\n",
    "vgC = gVw.groupby('time.month').mean('time')\n",
    "wgC = W.groupby('time.month').mean('time')"
   ]
  },
  {
   "cell_type": "code",
   "execution_count": 15,
   "metadata": {},
   "outputs": [
    {
     "name": "stderr",
     "output_type": "stream",
     "text": [
      "/home/z5113258/anaconda3/lib/python3.8/site-packages/dask/array/numpy_compat.py:41: RuntimeWarning: invalid value encountered in true_divide\n",
      "  x = np.divide(x1, x2, out)\n",
      "/home/z5113258/anaconda3/lib/python3.8/site-packages/dask/array/numpy_compat.py:41: RuntimeWarning: invalid value encountered in true_divide\n",
      "  x = np.divide(x1, x2, out)\n",
      "/home/z5113258/anaconda3/lib/python3.8/site-packages/dask/array/numpy_compat.py:41: RuntimeWarning: invalid value encountered in true_divide\n",
      "  x = np.divide(x1, x2, out)\n",
      "/home/z5113258/anaconda3/lib/python3.8/site-packages/dask/array/numpy_compat.py:41: RuntimeWarning: invalid value encountered in true_divide\n",
      "  x = np.divide(x1, x2, out)\n",
      "/home/z5113258/anaconda3/lib/python3.8/site-packages/dask/array/numpy_compat.py:41: RuntimeWarning: invalid value encountered in true_divide\n",
      "  x = np.divide(x1, x2, out)\n",
      "/home/z5113258/anaconda3/lib/python3.8/site-packages/dask/array/numpy_compat.py:41: RuntimeWarning: invalid value encountered in true_divide\n",
      "  x = np.divide(x1, x2, out)\n",
      "/home/z5113258/anaconda3/lib/python3.8/site-packages/dask/array/numpy_compat.py:41: RuntimeWarning: invalid value encountered in true_divide\n",
      "  x = np.divide(x1, x2, out)\n",
      "/home/z5113258/anaconda3/lib/python3.8/site-packages/dask/array/numpy_compat.py:41: RuntimeWarning: invalid value encountered in true_divide\n",
      "  x = np.divide(x1, x2, out)\n",
      "/home/z5113258/anaconda3/lib/python3.8/site-packages/dask/array/numpy_compat.py:41: RuntimeWarning: invalid value encountered in true_divide\n",
      "  x = np.divide(x1, x2, out)\n",
      "/home/z5113258/anaconda3/lib/python3.8/site-packages/dask/array/numpy_compat.py:41: RuntimeWarning: invalid value encountered in true_divide\n",
      "  x = np.divide(x1, x2, out)\n",
      "/home/z5113258/anaconda3/lib/python3.8/site-packages/dask/array/numpy_compat.py:41: RuntimeWarning: invalid value encountered in true_divide\n",
      "  x = np.divide(x1, x2, out)\n"
     ]
    }
   ],
   "source": [
    "#now save data\n",
    "#now convert to netcdf\n",
    "dT_c.to_netcdf('/home/z5113258/Documents/data/CMIP6/EC-Earth3/climatology/EC_dtdt.nc')\n",
    "u_c.to_netcdf('/home/z5113258/Documents/data/CMIP6/EC-Earth3/climatology/EC_uadv.nc')\n",
    "v_c.to_netcdf('/home/z5113258/Documents/data/CMIP6/EC-Earth3/climatology/EC_vadv.nc')\n",
    "w_c.to_netcdf('/home/z5113258/Documents/data/CMIP6/EC-Earth3/climatology/EC_wadv.nc')\n",
    "q_c.to_netcdf('/home/z5113258/Documents/data/CMIP6/EC-Earth3/climatology/EC_qnet.nc')\n",
    "dxgC.to_netcdf('/home/z5113258/Documents/data/CMIP6/EC-Earth3/climatology/EC_dtdx.nc')\n",
    "dygC.to_netcdf('/home/z5113258/Documents/data/CMIP6/EC-Earth3/climatology/EC_dtdy.nc')\n",
    "dzgC.to_netcdf('/home/z5113258/Documents/data/CMIP6/EC-Earth3/climatology/EC_dtdz.nc')\n",
    "ugC.to_netcdf('/home/z5113258/Documents/data/CMIP6/EC-Earth3/climatology/EC_ucur.nc')\n",
    "vgC.to_netcdf('/home/z5113258/Documents/data/CMIP6/EC-Earth3/climatology/EC_vcur.nc')\n",
    "wgC.to_netcdf('/home/z5113258/Documents/data/CMIP6/EC-Earth3/climatology/EC_wcur.nc')\n",
    "\n"
   ]
  },
  {
   "cell_type": "code",
   "execution_count": null,
   "metadata": {},
   "outputs": [],
   "source": []
  }
 ],
 "metadata": {
  "kernelspec": {
   "display_name": "Python 3",
   "language": "python",
   "name": "python3"
  },
  "language_info": {
   "codemirror_mode": {
    "name": "ipython",
    "version": 3
   },
   "file_extension": ".py",
   "mimetype": "text/x-python",
   "name": "python",
   "nbconvert_exporter": "python",
   "pygments_lexer": "ipython3",
   "version": "3.8.5"
  }
 },
 "nbformat": 4,
 "nbformat_minor": 4
}
