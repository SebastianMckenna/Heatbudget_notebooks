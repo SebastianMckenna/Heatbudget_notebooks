{
 "cells": [
  {
   "cell_type": "code",
   "execution_count": 1,
   "metadata": {},
   "outputs": [],
   "source": [
    "import xarray as xr\n",
    "import matplotlib.pyplot as plt\n",
    "import numpy as np\n",
    "import cartopy.crs as ccrs\n",
    "import dask\n",
    "import os\n",
    "import xskillscore as xs\n"
   ]
  },
  {
   "cell_type": "code",
   "execution_count": 2,
   "metadata": {},
   "outputs": [],
   "source": [
    "#load in hfls data and also laod in lhf era5 data\n",
    "e5_LH = xr.open_dataarray(\"/home/z5113258/Documents/data/REAN_HB/ERA5/ERA5_lhf.nc\")\n",
    "e5_SH = xr.open_dataarray(\"/home/z5113258/Documents/data/REAN_HB/ERA5/ERA5_shf.nc\")\n",
    "e5_SW = xr.open_dataarray(\"/home/z5113258/Documents/data/REAN_HB/ERA5/ERA5_swrf.nc\")\n",
    "e5_LW = xr.open_dataarray(\"/home/z5113258/Documents/data/REAN_HB/ERA5/ERA5_lwrf.nc\")\n",
    "\n",
    "            "
   ]
  },
  {
   "cell_type": "code",
   "execution_count": 4,
   "metadata": {},
   "outputs": [],
   "source": [
    "def get_region(da, lat, lat_r, lon, lon_r):\n",
    "    DA_ss = da.sel(lat=slice(lat, lat_r),lon=slice(lon, lon_r)).mean(['lat', 'lon'])\n",
    "    return DA_ss"
   ]
  },
  {
   "cell_type": "code",
   "execution_count": 5,
   "metadata": {},
   "outputs": [],
   "source": [
    "def save_rean_var(da, lat, lat1, lon, lon1, varname, file):\n",
    "    DA = get_region(DA, lat, lat1, lon, lon1)\n",
    "    DA = DA_.rename(var_name).to_dataframe()\n",
    "    DA.to_csv(\"/home/z5113258/Documents/data/region_csv/\"+file+\".csv\")\n",
    "    return"
   ]
  },
  {
   "cell_type": "code",
   "execution_count": null,
   "metadata": {},
   "outputs": [],
   "source": [
    "save_rean_var(e5_LH, -10, 10, 50, 70, \"LH\", \"ERA5_LH\")"
   ]
  },
  {
   "cell_type": "code",
   "execution_count": null,
   "metadata": {},
   "outputs": [],
   "source": []
  },
  {
   "cell_type": "code",
   "execution_count": null,
   "metadata": {},
   "outputs": [],
   "source": []
  },
  {
   "cell_type": "code",
   "execution_count": null,
   "metadata": {},
   "outputs": [],
   "source": []
  },
  {
   "cell_type": "code",
   "execution_count": null,
   "metadata": {},
   "outputs": [],
   "source": []
  },
  {
   "cell_type": "code",
   "execution_count": null,
   "metadata": {},
   "outputs": [],
   "source": []
  },
  {
   "cell_type": "code",
   "execution_count": null,
   "metadata": {},
   "outputs": [],
   "source": []
  },
  {
   "cell_type": "code",
   "execution_count": null,
   "metadata": {},
   "outputs": [],
   "source": []
  },
  {
   "cell_type": "code",
   "execution_count": 3,
   "metadata": {},
   "outputs": [
    {
     "name": "stdout",
     "output_type": "stream",
     "text": [
      "[Errno 2] No such file or directory: b'/home/z5113258/Documents/data/CMIP6_HB_new/not_full/not_full_netLW.nc'\n",
      "[Errno 2] No such file or directory: b'/home/z5113258/Documents/data/CMIP6_HB_new/not_full/not_full_netSW.nc'\n",
      "[Errno 2] No such file or directory: b'/home/z5113258/Documents/data/CMIP6_HB_new/not_full/not_full_hfls.nc'\n",
      "[Errno 2] No such file or directory: b'/home/z5113258/Documents/data/CMIP6_HB_new/not_full/not_full_hfss.nc'\n"
     ]
    }
   ],
   "source": [
    "outdir = '/home/z5113258/Documents/data/CMIP6_HB_new/'#dict with file names\n",
    "models={}\n",
    "varis = {'lw':'_netLW.nc', 'sw':'_netSW.nc', 'lhf':'_hfls.nc', 'shf':'_hfss.nc'}\n",
    "for model in os.listdir(outdir):\n",
    "    #go thorugh all varis\n",
    "    if model in ['NESM3']:\n",
    "        pass\n",
    "    else:\n",
    "        mod={}\n",
    "        for key in varis.keys():\n",
    "            #input file\n",
    "            inp_files = (os.path.join(outdir, model, str(model+varis[key])))\n",
    "            try:\n",
    "                #load in file\n",
    "                var = xr.open_dataarray(inp_files)\n",
    "                #put into dict\n",
    "                mod[key]=var\n",
    "                models[model] = mod\n",
    "\n",
    "            except Exception as e:\n",
    "                print(e)\n",
    "                pass\n",
    "\n"
   ]
  },
  {
   "cell_type": "code",
   "execution_count": null,
   "metadata": {},
   "outputs": [],
   "source": [
    "def get_model_TS(MM_D):\n",
    "    for i, model in enumerate(MM_D.keys()):\n",
    "        HB = MM_D[model]\n",
    "        T=HB['dTdt']\n",
    "        U=HB['ua']\n",
    "        V=HB['va']\n",
    "        W=HB['wa']\n",
    "        Q=HB['q']\n",
    "        resid = HB['res']\n",
    "        SST = HB['SST']\n",
    "\n",
    "        T=T.assign_coords({'model':model})\n",
    "        U=U.assign_coords({'model':model})\n",
    "        V=V.assign_coords({'model':model})\n",
    "        W=W.assign_coords({'model':model})\n",
    "        Q=Q.assign_coords({'model':model})\n",
    "        resid = resid.assign_coords({'model':model})\n",
    "        SST = SST.assign_coords({'model':model})\n",
    "        #now turn all these variables into an array\n",
    "        if i == 0:\n",
    "            TM = T\n",
    "            UM = U\n",
    "            VM = V\n",
    "            WM = W\n",
    "            QM = Q\n",
    "            RM = resid\n",
    "            SM = SST\n",
    "        else:\n",
    "            TM = xr.concat([TM, T], dim = 'model')\n",
    "            UM = xr.concat([UM, U], dim = 'model')\n",
    "            VM = xr.concat([VM, V], dim = 'model')\n",
    "            WM = xr.concat([WM, W], dim = 'model')\n",
    "            QM = xr.concat([QM, Q], dim = 'model')\n",
    "            RM = xr.concat([RM, resid], dim = 'model')\n",
    "            SM = xr.concat([SM, SST], dim = 'model')\n",
    "    return TM, UM, VM, WM, QM, RM, SM"
   ]
  }
 ],
 "metadata": {
  "kernelspec": {
   "display_name": "Python 3",
   "language": "python",
   "name": "python3"
  },
  "language_info": {
   "codemirror_mode": {
    "name": "ipython",
    "version": 3
   },
   "file_extension": ".py",
   "mimetype": "text/x-python",
   "name": "python",
   "nbconvert_exporter": "python",
   "pygments_lexer": "ipython3",
   "version": "3.8.5"
  }
 },
 "nbformat": 4,
 "nbformat_minor": 4
}
