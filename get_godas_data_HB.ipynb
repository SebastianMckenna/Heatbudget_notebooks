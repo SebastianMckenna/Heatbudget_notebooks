{
 "cells": [
  {
   "cell_type": "code",
   "execution_count": null,
   "metadata": {},
   "outputs": [],
   "source": [
    "#process ORAS5 data to heat budget variables"
   ]
  },
  {
   "cell_type": "code",
   "execution_count": 1,
   "metadata": {},
   "outputs": [],
   "source": [
    "import xarray as xr\n",
    "from HeatBudget_godas import *\n",
    "import xarray as xr\n",
    "import dask\n",
    "import numpy as np\n",
    "import scipy\n",
    "import os\n",
    "from pathlib import Path\n",
    "import traceback"
   ]
  },
  {
   "cell_type": "code",
   "execution_count": 2,
   "metadata": {},
   "outputs": [],
   "source": [
    "#loop to go through data folders. Do this in try except so that we know if/when somehting has failed, but the script will keep on running\n",
    "ORAS5_dir = '/home/z5113258/Documents/GODAS/remapbil_1/'\n",
    "outdir = '/home/z5113258/Documents/data/CMIP6_HB/GODAS/'\n",
    "\n",
    "\n",
    "#get Qnet term\n",
    "theta = 'pottmp/*.nc'\n",
    "uo = 'ucur/*.nc'\n",
    "vo = 'vcur/*.nc'\n",
    "wo = 'dzdt/*.nc'\n",
    "q = 'thflx/*.nc'\n",
    "sw = 'dswrf/*.nc'\n",
    "\n"
   ]
  },
  {
   "cell_type": "code",
   "execution_count": 6,
   "metadata": {},
   "outputs": [
    {
     "name": "stdout",
     "output_type": "stream",
     "text": [
      "calc Qnet\n",
      "finish qnet, save output\n",
      "qnet advection saved to  /home/z5113258/Documents/data/CMIP6_HB_new/GODAS/qnet_clim.nc\n"
     ]
    },
    {
     "name": "stderr",
     "output_type": "stream",
     "text": [
      "/home/z5113258/anaconda3/lib/python3.8/site-packages/dask/array/numpy_compat.py:41: RuntimeWarning: invalid value encountered in true_divide\n",
      "  x = np.divide(x1, x2, out)\n"
     ]
    }
   ],
   "source": [
    "#input file\n",
    "q_files = (os.path.join(ORAS5_dir, q))\n",
    "sw_files = (os.path.join(ORAS5_dir, sw))\n",
    "\n",
    "#create file output location if it doesn't exist\n",
    "out_loc = outdir\n",
    "Path(out_loc).mkdir(parents=True, exist_ok=True)\n",
    "try:\n",
    "    #calculate temperature tendency\n",
    "    print('calc Qnet')\n",
    "    qnet = get_qnet(q_files)\n",
    "    print('finish qnet, save output')\n",
    "    #save output as netcdf file\n",
    "    qnet.to_netcdf(os.path.join(out_loc, 'qnet_clim.nc'))\n",
    "    print('qnet advection saved to ', os.path.join(out_loc, 'qnet_clim.nc'))\n",
    "except Exception as e:\n",
    "    print(e)\n",
    "    traceback.print_exc()\n",
    "    pass\n"
   ]
  },
  {
   "cell_type": "code",
   "execution_count": 4,
   "metadata": {
    "scrolled": true
   },
   "outputs": [
    {
     "name": "stdout",
     "output_type": "stream",
     "text": [
      "calc dtdt\n",
      "finish qnet, save output\n",
      "dtdt advection saved to  /home/z5113258/Documents/GODAS/remapbil_1/HB_clim/dtdt_clim.nc\n"
     ]
    },
    {
     "name": "stderr",
     "output_type": "stream",
     "text": [
      "/home/z5113258/anaconda3/lib/python3.8/site-packages/dask/array/numpy_compat.py:41: RuntimeWarning: invalid value encountered in true_divide\n",
      "  x = np.divide(x1, x2, out)\n"
     ]
    }
   ],
   "source": [
    "#input file\n",
    "t_files = (os.path.join(ORAS5_dir, theta))\n",
    "#create file output location if it doesn't exist\n",
    "out_loc = outdir\n",
    "Path(out_loc).mkdir(parents=True, exist_ok=True)\n",
    "try:\n",
    "    #calculate temperature tendency\n",
    "    print('calc dtdt')\n",
    "    dTdt = get_temp_tendency(t_files)\n",
    "    print('finish qnet, save output')\n",
    "    #save output as netcdf file\n",
    "    dTdt.to_netcdf(os.path.join(out_loc, 'dtdt_clim.nc'))\n",
    "    print('dtdt advection saved to ', os.path.join(out_loc, 'dtdt_clim.nc'))\n",
    "except Exception as e:\n",
    "    print(e)\n",
    "    traceback.print_exc()\n",
    "    pass\n"
   ]
  },
  {
   "cell_type": "code",
   "execution_count": 5,
   "metadata": {},
   "outputs": [
    {
     "name": "stdout",
     "output_type": "stream",
     "text": [
      "calc dtdt\n",
      "finish qnet, save output\n",
      "dtdt advection saved to  /home/z5113258/Documents/GODAS/remapbil_1/HB_clim/uadv_clim.nc\n"
     ]
    },
    {
     "name": "stderr",
     "output_type": "stream",
     "text": [
      "/home/z5113258/anaconda3/lib/python3.8/site-packages/dask/array/numpy_compat.py:41: RuntimeWarning: invalid value encountered in true_divide\n",
      "  x = np.divide(x1, x2, out)\n"
     ]
    }
   ],
   "source": [
    "#input file\n",
    "t_files = (os.path.join(ORAS5_dir, theta))\n",
    "u_files = (os.path.join(ORAS5_dir, uo))\n",
    "#create file output location if it doesn't exist\n",
    "out_loc = outdir\n",
    "Path(out_loc).mkdir(parents=True, exist_ok=True)\n",
    "try:\n",
    "    #calculate temperature tendency\n",
    "    print('calc dtdt')\n",
    "    uadv = get_uadv(u_files, t_files)\n",
    "    print('finish qnet, save output')\n",
    "    #save output as netcdf file\n",
    "    uadv.to_netcdf(os.path.join(out_loc, 'uadv_clim.nc'))\n",
    "    print('dtdt advection saved to ', os.path.join(out_loc, 'uadv_clim.nc'))\n",
    "except Exception as e:\n",
    "    print(e)\n",
    "    traceback.print_exc()\n",
    "    pass\n"
   ]
  },
  {
   "cell_type": "code",
   "execution_count": 6,
   "metadata": {},
   "outputs": [
    {
     "name": "stdout",
     "output_type": "stream",
     "text": [
      "calc dtdt\n",
      "finish qnet, save output\n",
      "dtdt advection saved to  /home/z5113258/Documents/GODAS/remapbil_1/HB_clim/vadv_clim.nc\n"
     ]
    },
    {
     "name": "stderr",
     "output_type": "stream",
     "text": [
      "/home/z5113258/anaconda3/lib/python3.8/site-packages/dask/array/numpy_compat.py:41: RuntimeWarning: invalid value encountered in true_divide\n",
      "  x = np.divide(x1, x2, out)\n"
     ]
    }
   ],
   "source": [
    "#input file\n",
    "t_files = (os.path.join(ORAS5_dir, theta))\n",
    "v_files = (os.path.join(ORAS5_dir, vo))\n",
    "#create file output location if it doesn't exist\n",
    "out_loc = outdir\n",
    "Path(out_loc).mkdir(parents=True, exist_ok=True)\n",
    "try:\n",
    "    #calculate temperature tendency\n",
    "    print('calc dtdt')\n",
    "    vadv = get_vadv(v_files, t_files)\n",
    "    print('finish qnet, save output')\n",
    "    #save output as netcdf file\n",
    "    vadv.to_netcdf(os.path.join(out_loc, 'vadv_clim.nc'))\n",
    "    print('dtdt advection saved to ', os.path.join(out_loc, 'vadv_clim.nc'))\n",
    "except Exception as e:\n",
    "    print(e)\n",
    "    traceback.print_exc()\n",
    "    pass"
   ]
  },
  {
   "cell_type": "code",
   "execution_count": 3,
   "metadata": {
    "scrolled": true
   },
   "outputs": [
    {
     "name": "stdout",
     "output_type": "stream",
     "text": [
      "calc dtdt\n",
      "finish qnet, save output\n",
      "dtdt advection saved to  /home/z5113258/Documents/GODAS/remapbil_1/HB_clim/wadv_clim.nc\n"
     ]
    },
    {
     "name": "stderr",
     "output_type": "stream",
     "text": [
      "/home/z5113258/anaconda3/lib/python3.8/site-packages/dask/array/numpy_compat.py:41: RuntimeWarning: invalid value encountered in true_divide\n",
      "  x = np.divide(x1, x2, out)\n"
     ]
    }
   ],
   "source": [
    "#input file\n",
    "t_files = (os.path.join(ORAS5_dir, theta))\n",
    "w_files = (os.path.join(ORAS5_dir, wo))\n",
    "u_files = (os.path.join(ORAS5_dir, uo))\n",
    "#create file output location if it doesn't exist\n",
    "out_loc = outdir\n",
    "Path(out_loc).mkdir(parents=True, exist_ok=True)\n",
    "try:\n",
    "    #calculate temperature tendency\n",
    "    print('calc dtdt')\n",
    "    wadv = get_wadv(w_files, t_files)\n",
    "    print('finish qnet, save output')\n",
    "    #save output as netcdf file\n",
    "    wadv.to_netcdf(os.path.join(out_loc, 'wadv_clim.nc'))\n",
    "    print('dtdt advection saved to ', os.path.join(out_loc, 'wadv_clim.nc'))\n",
    "except Exception as e:\n",
    "    print(e)\n",
    "    traceback.print_exc()\n",
    "    pass"
   ]
  },
  {
   "cell_type": "code",
   "execution_count": 4,
   "metadata": {},
   "outputs": [
    {
     "name": "stdout",
     "output_type": "stream",
     "text": [
      "calc currs and grads\n",
      "finish calcs, save output\n"
     ]
    },
    {
     "name": "stderr",
     "output_type": "stream",
     "text": [
      "/home/z5113258/anaconda3/lib/python3.8/site-packages/dask/array/numpy_compat.py:41: RuntimeWarning: invalid value encountered in true_divide\n",
      "  x = np.divide(x1, x2, out)\n",
      "/home/z5113258/anaconda3/lib/python3.8/site-packages/dask/array/numpy_compat.py:41: RuntimeWarning: invalid value encountered in true_divide\n",
      "  x = np.divide(x1, x2, out)\n"
     ]
    },
    {
     "name": "stdout",
     "output_type": "stream",
     "text": [
      "outs_saved\n"
     ]
    },
    {
     "name": "stderr",
     "output_type": "stream",
     "text": [
      "/home/z5113258/anaconda3/lib/python3.8/site-packages/dask/array/numpy_compat.py:41: RuntimeWarning: invalid value encountered in true_divide\n",
      "  x = np.divide(x1, x2, out)\n"
     ]
    }
   ],
   "source": [
    "#input file\n",
    "t_files = (os.path.join(ORAS5_dir, theta))\n",
    "v_files = (os.path.join(ORAS5_dir, vo))\n",
    "u_files = (os.path.join(ORAS5_dir, uo))\n",
    "#create file output location if it doesn't exist\n",
    "out_loc = outdir\n",
    "Path(out_loc).mkdir(parents=True, exist_ok=True)\n",
    "try:\n",
    "    #calculate temperature tendency\n",
    "    print('calc currs and grads')\n",
    "    T = load_T(t_files)\n",
    "    U = load_U(u_files).groupby('time.month').mean('time')\n",
    "    V = load_V(v_files).groupby('time.month').mean('time')\n",
    "    W = calc_w_no_w(u_files, v_files).groupby('time.month').mean('time')\n",
    "    W = W.interp(lev=50)\n",
    "    dx = T_xgrad(T).groupby('time.month').mean('time')\n",
    "    dy = T_ygrad(T).groupby('time.month').mean('time')\n",
    "    dz = T_zgrad(T).groupby('time.month').mean('time')\n",
    "    U = weighted_avg(U)\n",
    "    V = weighted_avg(V)\n",
    "    dx = weighted_avg(dx)\n",
    "    dy = weighted_avg(dy)\n",
    "    print('finish calcs, save output')\n",
    "    #save output as netcdf file\n",
    "    U.to_netcdf(os.path.join(out_loc, 'GODAS_ucur.nc'))\n",
    "    V.to_netcdf(os.path.join(out_loc, 'GODAS_vcur.nc'))\n",
    "    W.to_netcdf(os.path.join(out_loc, 'GODAS_wcur.nc'))\n",
    "    dx.to_netcdf(os.path.join(out_loc, 'GODAS_dtx.nc'))\n",
    "    dy.to_netcdf(os.path.join(out_loc, 'GODAS_dty.nc'))\n",
    "    dz.to_netcdf(os.path.join(out_loc, 'GODAS_dtz.nc'))\n",
    "    print('outs_saved')\n",
    "except Exception as e:\n",
    "    print(e)\n",
    "    traceback.print_exc()\n",
    "    pass"
   ]
  },
  {
   "cell_type": "code",
   "execution_count": 5,
   "metadata": {},
   "outputs": [],
   "source": [
    "###now get U and V compoenents of win stress"
   ]
  },
  {
   "cell_type": "code",
   "execution_count": 6,
   "metadata": {},
   "outputs": [],
   "source": [
    "g_tu = xr.open_mfdataset('/home/z5113258/Documents/GODAS/remapcon_1/uflx/*.nc').uflx\n",
    "g_tv = xr.open_mfdataset('/home/z5113258/Documents/GODAS/remapcon_1/vflx/*.nc').vflx"
   ]
  },
  {
   "cell_type": "code",
   "execution_count": 7,
   "metadata": {},
   "outputs": [],
   "source": [
    "gu = g_tu.groupby('time.month').mean('time')\n",
    "gv = g_tv.groupby('time.month').mean('time')\n"
   ]
  },
  {
   "cell_type": "code",
   "execution_count": 8,
   "metadata": {},
   "outputs": [
    {
     "name": "stderr",
     "output_type": "stream",
     "text": [
      "/home/z5113258/anaconda3/lib/python3.8/site-packages/dask/array/numpy_compat.py:41: RuntimeWarning: invalid value encountered in true_divide\n",
      "  x = np.divide(x1, x2, out)\n",
      "/home/z5113258/anaconda3/lib/python3.8/site-packages/dask/array/numpy_compat.py:41: RuntimeWarning: invalid value encountered in true_divide\n",
      "  x = np.divide(x1, x2, out)\n"
     ]
    }
   ],
   "source": [
    "gu.to_netcdf(os.path.join(out_loc, 'GODAS_tauu.nc'))\n",
    "gv.to_netcdf(os.path.join(out_loc, 'GODAS_tauv.nc'))"
   ]
  },
  {
   "cell_type": "code",
   "execution_count": null,
   "metadata": {},
   "outputs": [],
   "source": []
  },
  {
   "cell_type": "code",
   "execution_count": 4,
   "metadata": {},
   "outputs": [],
   "source": [
    "#make functions for getting w advection\n",
    "U = xr.open_mfdataset(str(ORAS5_dir+uo), parallel=True).ucur.rename({'level':'lev'})\n",
    "\n",
    "#subset spatially\n",
    "U = U.sel(lat=slice(-40,30),lon=slice(30,125))\n",
    "#subset time\n",
    "U = U.sel(time= slice('1950', '2015'))\n",
    "#set land values to 0\n",
    "U = U.fillna(0)\n",
    "    \n",
    "    \n",
    "#load in U\n",
    "V = xr.open_mfdataset(str(ORAS5_dir+vo), parallel=True).vcur.rename({ 'level':'lev'})\n",
    "#subset spatially\n",
    "V = V.sel(lat=slice(-40,30),lon=slice(30,125))\n",
    "#subset time\n",
    "V = V.sel(time= slice('1950', '2015'))\n",
    "#set land values to 0\n",
    "V = V.fillna(0)\n",
    "\n",
    "\n",
    "dudx = U.differentiate(coord = 'lon', edge_order=2) / (110e3 * np.cos(U.lat * np.pi / 180))\n",
    "dvdy = V.differentiate(coord='lat',edge_order=2) / (110e3)\n"
   ]
  },
  {
   "cell_type": "code",
   "execution_count": 5,
   "metadata": {},
   "outputs": [],
   "source": [
    "T_lay = U.lev\n",
    "lay_bot=np.array([0.])\n",
    "for i in range(len(T_lay.values)):\n",
    "    thickness = 2*T_lay.values[i]-lay_bot[i]\n",
    "    lay_bot = np.insert(lay_bot,i+1,thickness)\n",
    "lay_bot = lay_bot[1:]"
   ]
  },
  {
   "cell_type": "code",
   "execution_count": 6,
   "metadata": {},
   "outputs": [
    {
     "data": {
      "text/html": [
       "<div><svg style=\"position: absolute; width: 0; height: 0; overflow: hidden\">\n",
       "<defs>\n",
       "<symbol id=\"icon-database\" viewBox=\"0 0 32 32\">\n",
       "<path d=\"M16 0c-8.837 0-16 2.239-16 5v4c0 2.761 7.163 5 16 5s16-2.239 16-5v-4c0-2.761-7.163-5-16-5z\"></path>\n",
       "<path d=\"M16 17c-8.837 0-16-2.239-16-5v6c0 2.761 7.163 5 16 5s16-2.239 16-5v-6c0 2.761-7.163 5-16 5z\"></path>\n",
       "<path d=\"M16 26c-8.837 0-16-2.239-16-5v6c0 2.761 7.163 5 16 5s16-2.239 16-5v-6c0 2.761-7.163 5-16 5z\"></path>\n",
       "</symbol>\n",
       "<symbol id=\"icon-file-text2\" viewBox=\"0 0 32 32\">\n",
       "<path d=\"M28.681 7.159c-0.694-0.947-1.662-2.053-2.724-3.116s-2.169-2.030-3.116-2.724c-1.612-1.182-2.393-1.319-2.841-1.319h-15.5c-1.378 0-2.5 1.121-2.5 2.5v27c0 1.378 1.122 2.5 2.5 2.5h23c1.378 0 2.5-1.122 2.5-2.5v-19.5c0-0.448-0.137-1.23-1.319-2.841zM24.543 5.457c0.959 0.959 1.712 1.825 2.268 2.543h-4.811v-4.811c0.718 0.556 1.584 1.309 2.543 2.268zM28 29.5c0 0.271-0.229 0.5-0.5 0.5h-23c-0.271 0-0.5-0.229-0.5-0.5v-27c0-0.271 0.229-0.5 0.5-0.5 0 0 15.499-0 15.5 0v7c0 0.552 0.448 1 1 1h7v19.5z\"></path>\n",
       "<path d=\"M23 26h-14c-0.552 0-1-0.448-1-1s0.448-1 1-1h14c0.552 0 1 0.448 1 1s-0.448 1-1 1z\"></path>\n",
       "<path d=\"M23 22h-14c-0.552 0-1-0.448-1-1s0.448-1 1-1h14c0.552 0 1 0.448 1 1s-0.448 1-1 1z\"></path>\n",
       "<path d=\"M23 18h-14c-0.552 0-1-0.448-1-1s0.448-1 1-1h14c0.552 0 1 0.448 1 1s-0.448 1-1 1z\"></path>\n",
       "</symbol>\n",
       "</defs>\n",
       "</svg>\n",
       "<style>/* CSS stylesheet for displaying xarray objects in jupyterlab.\n",
       " *\n",
       " */\n",
       "\n",
       ":root {\n",
       "  --xr-font-color0: var(--jp-content-font-color0, rgba(0, 0, 0, 1));\n",
       "  --xr-font-color2: var(--jp-content-font-color2, rgba(0, 0, 0, 0.54));\n",
       "  --xr-font-color3: var(--jp-content-font-color3, rgba(0, 0, 0, 0.38));\n",
       "  --xr-border-color: var(--jp-border-color2, #e0e0e0);\n",
       "  --xr-disabled-color: var(--jp-layout-color3, #bdbdbd);\n",
       "  --xr-background-color: var(--jp-layout-color0, white);\n",
       "  --xr-background-color-row-even: var(--jp-layout-color1, white);\n",
       "  --xr-background-color-row-odd: var(--jp-layout-color2, #eeeeee);\n",
       "}\n",
       "\n",
       "html[theme=dark],\n",
       "body.vscode-dark {\n",
       "  --xr-font-color0: rgba(255, 255, 255, 1);\n",
       "  --xr-font-color2: rgba(255, 255, 255, 0.54);\n",
       "  --xr-font-color3: rgba(255, 255, 255, 0.38);\n",
       "  --xr-border-color: #1F1F1F;\n",
       "  --xr-disabled-color: #515151;\n",
       "  --xr-background-color: #111111;\n",
       "  --xr-background-color-row-even: #111111;\n",
       "  --xr-background-color-row-odd: #313131;\n",
       "}\n",
       "\n",
       ".xr-wrap {\n",
       "  display: block;\n",
       "  min-width: 300px;\n",
       "  max-width: 700px;\n",
       "}\n",
       "\n",
       ".xr-text-repr-fallback {\n",
       "  /* fallback to plain text repr when CSS is not injected (untrusted notebook) */\n",
       "  display: none;\n",
       "}\n",
       "\n",
       ".xr-header {\n",
       "  padding-top: 6px;\n",
       "  padding-bottom: 6px;\n",
       "  margin-bottom: 4px;\n",
       "  border-bottom: solid 1px var(--xr-border-color);\n",
       "}\n",
       "\n",
       ".xr-header > div,\n",
       ".xr-header > ul {\n",
       "  display: inline;\n",
       "  margin-top: 0;\n",
       "  margin-bottom: 0;\n",
       "}\n",
       "\n",
       ".xr-obj-type,\n",
       ".xr-array-name {\n",
       "  margin-left: 2px;\n",
       "  margin-right: 10px;\n",
       "}\n",
       "\n",
       ".xr-obj-type {\n",
       "  color: var(--xr-font-color2);\n",
       "}\n",
       "\n",
       ".xr-sections {\n",
       "  padding-left: 0 !important;\n",
       "  display: grid;\n",
       "  grid-template-columns: 150px auto auto 1fr 20px 20px;\n",
       "}\n",
       "\n",
       ".xr-section-item {\n",
       "  display: contents;\n",
       "}\n",
       "\n",
       ".xr-section-item input {\n",
       "  display: none;\n",
       "}\n",
       "\n",
       ".xr-section-item input + label {\n",
       "  color: var(--xr-disabled-color);\n",
       "}\n",
       "\n",
       ".xr-section-item input:enabled + label {\n",
       "  cursor: pointer;\n",
       "  color: var(--xr-font-color2);\n",
       "}\n",
       "\n",
       ".xr-section-item input:enabled + label:hover {\n",
       "  color: var(--xr-font-color0);\n",
       "}\n",
       "\n",
       ".xr-section-summary {\n",
       "  grid-column: 1;\n",
       "  color: var(--xr-font-color2);\n",
       "  font-weight: 500;\n",
       "}\n",
       "\n",
       ".xr-section-summary > span {\n",
       "  display: inline-block;\n",
       "  padding-left: 0.5em;\n",
       "}\n",
       "\n",
       ".xr-section-summary-in:disabled + label {\n",
       "  color: var(--xr-font-color2);\n",
       "}\n",
       "\n",
       ".xr-section-summary-in + label:before {\n",
       "  display: inline-block;\n",
       "  content: '►';\n",
       "  font-size: 11px;\n",
       "  width: 15px;\n",
       "  text-align: center;\n",
       "}\n",
       "\n",
       ".xr-section-summary-in:disabled + label:before {\n",
       "  color: var(--xr-disabled-color);\n",
       "}\n",
       "\n",
       ".xr-section-summary-in:checked + label:before {\n",
       "  content: '▼';\n",
       "}\n",
       "\n",
       ".xr-section-summary-in:checked + label > span {\n",
       "  display: none;\n",
       "}\n",
       "\n",
       ".xr-section-summary,\n",
       ".xr-section-inline-details {\n",
       "  padding-top: 4px;\n",
       "  padding-bottom: 4px;\n",
       "}\n",
       "\n",
       ".xr-section-inline-details {\n",
       "  grid-column: 2 / -1;\n",
       "}\n",
       "\n",
       ".xr-section-details {\n",
       "  display: none;\n",
       "  grid-column: 1 / -1;\n",
       "  margin-bottom: 5px;\n",
       "}\n",
       "\n",
       ".xr-section-summary-in:checked ~ .xr-section-details {\n",
       "  display: contents;\n",
       "}\n",
       "\n",
       ".xr-array-wrap {\n",
       "  grid-column: 1 / -1;\n",
       "  display: grid;\n",
       "  grid-template-columns: 20px auto;\n",
       "}\n",
       "\n",
       ".xr-array-wrap > label {\n",
       "  grid-column: 1;\n",
       "  vertical-align: top;\n",
       "}\n",
       "\n",
       ".xr-preview {\n",
       "  color: var(--xr-font-color3);\n",
       "}\n",
       "\n",
       ".xr-array-preview,\n",
       ".xr-array-data {\n",
       "  padding: 0 5px !important;\n",
       "  grid-column: 2;\n",
       "}\n",
       "\n",
       ".xr-array-data,\n",
       ".xr-array-in:checked ~ .xr-array-preview {\n",
       "  display: none;\n",
       "}\n",
       "\n",
       ".xr-array-in:checked ~ .xr-array-data,\n",
       ".xr-array-preview {\n",
       "  display: inline-block;\n",
       "}\n",
       "\n",
       ".xr-dim-list {\n",
       "  display: inline-block !important;\n",
       "  list-style: none;\n",
       "  padding: 0 !important;\n",
       "  margin: 0;\n",
       "}\n",
       "\n",
       ".xr-dim-list li {\n",
       "  display: inline-block;\n",
       "  padding: 0;\n",
       "  margin: 0;\n",
       "}\n",
       "\n",
       ".xr-dim-list:before {\n",
       "  content: '(';\n",
       "}\n",
       "\n",
       ".xr-dim-list:after {\n",
       "  content: ')';\n",
       "}\n",
       "\n",
       ".xr-dim-list li:not(:last-child):after {\n",
       "  content: ',';\n",
       "  padding-right: 5px;\n",
       "}\n",
       "\n",
       ".xr-has-index {\n",
       "  font-weight: bold;\n",
       "}\n",
       "\n",
       ".xr-var-list,\n",
       ".xr-var-item {\n",
       "  display: contents;\n",
       "}\n",
       "\n",
       ".xr-var-item > div,\n",
       ".xr-var-item label,\n",
       ".xr-var-item > .xr-var-name span {\n",
       "  background-color: var(--xr-background-color-row-even);\n",
       "  margin-bottom: 0;\n",
       "}\n",
       "\n",
       ".xr-var-item > .xr-var-name:hover span {\n",
       "  padding-right: 5px;\n",
       "}\n",
       "\n",
       ".xr-var-list > li:nth-child(odd) > div,\n",
       ".xr-var-list > li:nth-child(odd) > label,\n",
       ".xr-var-list > li:nth-child(odd) > .xr-var-name span {\n",
       "  background-color: var(--xr-background-color-row-odd);\n",
       "}\n",
       "\n",
       ".xr-var-name {\n",
       "  grid-column: 1;\n",
       "}\n",
       "\n",
       ".xr-var-dims {\n",
       "  grid-column: 2;\n",
       "}\n",
       "\n",
       ".xr-var-dtype {\n",
       "  grid-column: 3;\n",
       "  text-align: right;\n",
       "  color: var(--xr-font-color2);\n",
       "}\n",
       "\n",
       ".xr-var-preview {\n",
       "  grid-column: 4;\n",
       "}\n",
       "\n",
       ".xr-var-name,\n",
       ".xr-var-dims,\n",
       ".xr-var-dtype,\n",
       ".xr-preview,\n",
       ".xr-attrs dt {\n",
       "  white-space: nowrap;\n",
       "  overflow: hidden;\n",
       "  text-overflow: ellipsis;\n",
       "  padding-right: 10px;\n",
       "}\n",
       "\n",
       ".xr-var-name:hover,\n",
       ".xr-var-dims:hover,\n",
       ".xr-var-dtype:hover,\n",
       ".xr-attrs dt:hover {\n",
       "  overflow: visible;\n",
       "  width: auto;\n",
       "  z-index: 1;\n",
       "}\n",
       "\n",
       ".xr-var-attrs,\n",
       ".xr-var-data {\n",
       "  display: none;\n",
       "  background-color: var(--xr-background-color) !important;\n",
       "  padding-bottom: 5px !important;\n",
       "}\n",
       "\n",
       ".xr-var-attrs-in:checked ~ .xr-var-attrs,\n",
       ".xr-var-data-in:checked ~ .xr-var-data {\n",
       "  display: block;\n",
       "}\n",
       "\n",
       ".xr-var-data > table {\n",
       "  float: right;\n",
       "}\n",
       "\n",
       ".xr-var-name span,\n",
       ".xr-var-data,\n",
       ".xr-attrs {\n",
       "  padding-left: 25px !important;\n",
       "}\n",
       "\n",
       ".xr-attrs,\n",
       ".xr-var-attrs,\n",
       ".xr-var-data {\n",
       "  grid-column: 1 / -1;\n",
       "}\n",
       "\n",
       "dl.xr-attrs {\n",
       "  padding: 0;\n",
       "  margin: 0;\n",
       "  display: grid;\n",
       "  grid-template-columns: 125px auto;\n",
       "}\n",
       "\n",
       ".xr-attrs dt,\n",
       ".xr-attrs dd {\n",
       "  padding: 0;\n",
       "  margin: 0;\n",
       "  float: left;\n",
       "  padding-right: 10px;\n",
       "  width: auto;\n",
       "}\n",
       "\n",
       ".xr-attrs dt {\n",
       "  font-weight: normal;\n",
       "  grid-column: 1;\n",
       "}\n",
       "\n",
       ".xr-attrs dt:hover span {\n",
       "  display: inline-block;\n",
       "  background: var(--xr-background-color);\n",
       "  padding-right: 10px;\n",
       "}\n",
       "\n",
       ".xr-attrs dd {\n",
       "  grid-column: 2;\n",
       "  white-space: pre-wrap;\n",
       "  word-break: break-all;\n",
       "}\n",
       "\n",
       ".xr-icon-database,\n",
       ".xr-icon-file-text2 {\n",
       "  display: inline-block;\n",
       "  vertical-align: middle;\n",
       "  width: 1em;\n",
       "  height: 1.5em !important;\n",
       "  stroke-width: 0;\n",
       "  stroke: currentColor;\n",
       "  fill: currentColor;\n",
       "}\n",
       "</style><pre class='xr-text-repr-fallback'>&lt;xarray.DataArray &#x27;lev&#x27; (lev: 7)&gt;\n",
       "array([ 5., 15., 25., 35., 45., 55., 65.], dtype=float32)\n",
       "Coordinates:\n",
       "  * lev      (lev) float32 5.0 15.0 25.0 35.0 45.0 55.0 65.0\n",
       "Attributes:\n",
       "    long_name:  depth below sea level\n",
       "    units:      m\n",
       "    axis:       Z</pre><div class='xr-wrap' hidden><div class='xr-header'><div class='xr-obj-type'>xarray.DataArray</div><div class='xr-array-name'>'lev'</div><ul class='xr-dim-list'><li><span class='xr-has-index'>lev</span>: 7</li></ul></div><ul class='xr-sections'><li class='xr-section-item'><div class='xr-array-wrap'><input id='section-94c6abd5-ac80-4f21-bcd2-814351f35198' class='xr-array-in' type='checkbox' checked><label for='section-94c6abd5-ac80-4f21-bcd2-814351f35198' title='Show/hide data repr'><svg class='icon xr-icon-database'><use xlink:href='#icon-database'></use></svg></label><div class='xr-array-preview xr-preview'><span>5.0 15.0 25.0 35.0 45.0 55.0 65.0</span></div><div class='xr-array-data'><pre>array([ 5., 15., 25., 35., 45., 55., 65.], dtype=float32)</pre></div></div></li><li class='xr-section-item'><input id='section-dbb18521-b934-4eb9-a8fa-8917b9e613b1' class='xr-section-summary-in' type='checkbox'  checked><label for='section-dbb18521-b934-4eb9-a8fa-8917b9e613b1' class='xr-section-summary' >Coordinates: <span>(1)</span></label><div class='xr-section-inline-details'></div><div class='xr-section-details'><ul class='xr-var-list'><li class='xr-var-item'><div class='xr-var-name'><span class='xr-has-index'>lev</span></div><div class='xr-var-dims'>(lev)</div><div class='xr-var-dtype'>float32</div><div class='xr-var-preview xr-preview'>5.0 15.0 25.0 35.0 45.0 55.0 65.0</div><input id='attrs-cb156f40-457a-434a-afd0-cd70e45fcccc' class='xr-var-attrs-in' type='checkbox' ><label for='attrs-cb156f40-457a-434a-afd0-cd70e45fcccc' title='Show/Hide attributes'><svg class='icon xr-icon-file-text2'><use xlink:href='#icon-file-text2'></use></svg></label><input id='data-e5fd4b84-ead4-4022-98ef-25ba8673e1da' class='xr-var-data-in' type='checkbox'><label for='data-e5fd4b84-ead4-4022-98ef-25ba8673e1da' title='Show/Hide data repr'><svg class='icon xr-icon-database'><use xlink:href='#icon-database'></use></svg></label><div class='xr-var-attrs'><dl class='xr-attrs'><dt><span>long_name :</span></dt><dd>depth below sea level</dd><dt><span>units :</span></dt><dd>m</dd><dt><span>axis :</span></dt><dd>Z</dd></dl></div><div class='xr-var-data'><pre>array([ 5., 15., 25., 35., 45., 55., 65.], dtype=float32)</pre></div></li></ul></div></li><li class='xr-section-item'><input id='section-b5a48eac-9b3e-417f-ac3c-5e0a0efb133a' class='xr-section-summary-in' type='checkbox'  checked><label for='section-b5a48eac-9b3e-417f-ac3c-5e0a0efb133a' class='xr-section-summary' >Attributes: <span>(3)</span></label><div class='xr-section-inline-details'></div><div class='xr-section-details'><dl class='xr-attrs'><dt><span>long_name :</span></dt><dd>depth below sea level</dd><dt><span>units :</span></dt><dd>m</dd><dt><span>axis :</span></dt><dd>Z</dd></dl></div></li></ul></div></div>"
      ],
      "text/plain": [
       "<xarray.DataArray 'lev' (lev: 7)>\n",
       "array([ 5., 15., 25., 35., 45., 55., 65.], dtype=float32)\n",
       "Coordinates:\n",
       "  * lev      (lev) float32 5.0 15.0 25.0 35.0 45.0 55.0 65.0\n",
       "Attributes:\n",
       "    long_name:  depth below sea level\n",
       "    units:      m\n",
       "    axis:       Z"
      ]
     },
     "execution_count": 6,
     "metadata": {},
     "output_type": "execute_result"
    }
   ],
   "source": [
    "U.lev"
   ]
  },
  {
   "cell_type": "code",
   "execution_count": 7,
   "metadata": {},
   "outputs": [],
   "source": [
    "lay_bot1 = [10,10,10,10,10,10,10]"
   ]
  },
  {
   "cell_type": "code",
   "execution_count": 20,
   "metadata": {},
   "outputs": [
    {
     "name": "stdout",
     "output_type": "stream",
     "text": [
      "-10.0\n",
      "-10.0\n",
      "-10.0\n",
      "-10.0\n",
      "-10.0\n",
      "-10.0\n",
      "-10.0\n"
     ]
    }
   ],
   "source": [
    "w_list = []\n",
    "for i, j in enumerate(lay_bot):\n",
    "    if i == 0:\n",
    "        dz = 0 - j\n",
    "        print(dz)\n",
    "        w = (dudx[:,i] + dvdy[:,i])*-dz\n",
    "        #add to new DataArray with vertical coords put in\n",
    "        w = w.assign_coords({'lev': lay_bot[i]})\n",
    "        w_list.append(w)\n",
    "    else:\n",
    "        dz = lay_bot[i-1] - j\n",
    "        print(dz)\n",
    "        l = (dudx[:,i] + dvdy[:,i])*-dz + w_list[i-1]\n",
    "        w = l.assign_coords({'lev': lay_bot[i]})\n",
    "        w_list.append(w)\n",
    "#now put all layers into one array\n",
    "w2 = xr.concat(w_list, dim = 'lev')"
   ]
  },
  {
   "cell_type": "code",
   "execution_count": 21,
   "metadata": {},
   "outputs": [
    {
     "data": {
      "text/plain": [
       "<matplotlib.collections.QuadMesh at 0x7fb71aeefcd0>"
      ]
     },
     "execution_count": 21,
     "metadata": {},
     "output_type": "execute_result"
    },
    {
     "data": {
      "image/png": "[encoded data removed]",
      "text/plain": [
       "<Figure size 432x288 with 2 Axes>"
      ]
     },
     "metadata": {
      "needs_background": "light"
     },
     "output_type": "display_data"
    }
   ],
   "source": [
    "w2[0,0].plot()"
   ]
  },
  {
   "cell_type": "code",
   "execution_count": 22,
   "metadata": {},
   "outputs": [],
   "source": [
    "cont_w2 = w2.sel(lev=50)"
   ]
  },
  {
   "cell_type": "code",
   "execution_count": 23,
   "metadata": {},
   "outputs": [],
   "source": [
    "W_0 = xr.open_mfdataset(str(ORAS5_dir+wo), parallel=True).dzdt.rename({'level':'lev'})\n",
    "W_0 = W_0.sel(lat=slice(-40,30),lon=slice(30,125))\n",
    "#subset time\n",
    "W_0 = W_0.sel(time= slice('1950', '2015'))"
   ]
  },
  {
   "cell_type": "code",
   "execution_count": 24,
   "metadata": {},
   "outputs": [],
   "source": [
    "var_w = W_0.sel(lev=50)"
   ]
  },
  {
   "cell_type": "code",
   "execution_count": 25,
   "metadata": {},
   "outputs": [
    {
     "data": {
      "text/plain": [
       "<matplotlib.collections.QuadMesh at 0x7fb71b1854c0>"
      ]
     },
     "execution_count": 25,
     "metadata": {},
     "output_type": "execute_result"
    },
    {
     "data": {
      "image/png": "[encoded data removed]",
      "text/plain": [
       "<Figure size 432x288 with 2 Axes>"
      ]
     },
     "metadata": {
      "needs_background": "light"
     },
     "output_type": "display_data"
    }
   ],
   "source": [
    "(cont_w2).mean('time').plot(vmax = 1e-5)"
   ]
  },
  {
   "cell_type": "code",
   "execution_count": 26,
   "metadata": {},
   "outputs": [
    {
     "name": "stderr",
     "output_type": "stream",
     "text": [
      "/home/z5113258/anaconda3/lib/python3.8/site-packages/dask/array/numpy_compat.py:41: RuntimeWarning: invalid value encountered in true_divide\n",
      "  x = np.divide(x1, x2, out)\n"
     ]
    },
    {
     "data": {
      "text/plain": [
       "<matplotlib.collections.QuadMesh at 0x7fb71ae270d0>"
      ]
     },
     "execution_count": 26,
     "metadata": {},
     "output_type": "execute_result"
    },
    {
     "data": {
      "image/png": "[encoded data removed]",
      "text/plain": [
       "<Figure size 432x288 with 2 Axes>"
      ]
     },
     "metadata": {
      "needs_background": "light"
     },
     "output_type": "display_data"
    }
   ],
   "source": [
    "var_w.mean('time').plot(vmax = 1e-5)"
   ]
  },
  {
   "cell_type": "code",
   "execution_count": 31,
   "metadata": {},
   "outputs": [
    {
     "data": {
      "text/plain": [
       "<matplotlib.collections.QuadMesh at 0x7fb71ab86910>"
      ]
     },
     "execution_count": 31,
     "metadata": {},
     "output_type": "execute_result"
    },
    {
     "data": {
      "image/png": "[encoded data removed]",
      "text/plain": [
       "<Figure size 432x288 with 2 Axes>"
      ]
     },
     "metadata": {
      "needs_background": "light"
     },
     "output_type": "display_data"
    }
   ],
   "source": [
    "(var_w-cont_w2)[0].plot(vmin = -1e-5)"
   ]
  },
  {
   "cell_type": "code",
   "execution_count": null,
   "metadata": {},
   "outputs": [],
   "source": []
  }
 ],
 "metadata": {
  "kernelspec": {
   "display_name": "Python 3",
   "language": "python",
   "name": "python3"
  },
  "language_info": {
   "codemirror_mode": {
    "name": "ipython",
    "version": 3
   },
   "file_extension": ".py",
   "mimetype": "text/x-python",
   "name": "python",
   "nbconvert_exporter": "python",
   "pygments_lexer": "ipython3",
   "version": "3.8.5"
  }
 },
 "nbformat": 4,
 "nbformat_minor": 4
}
